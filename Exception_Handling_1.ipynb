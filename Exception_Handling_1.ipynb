{
  "nbformat": 4,
  "nbformat_minor": 0,
  "metadata": {
    "colab": {
      "provenance": [],
      "authorship_tag": "ABX9TyNsmjD3AXYfnbKgt1ypWIWK",
      "include_colab_link": true
    },
    "kernelspec": {
      "name": "python3",
      "display_name": "Python 3"
    },
    "language_info": {
      "name": "python"
    }
  },
  "cells": [
    {
      "cell_type": "markdown",
      "metadata": {
        "id": "view-in-github",
        "colab_type": "text"
      },
      "source": [
        "<a href=\"https://colab.research.google.com/github/Arka1212/Data-Science-Assignments/blob/main/Exception_Handling_1.ipynb\" target=\"_parent\"><img src=\"https://colab.research.google.com/assets/colab-badge.svg\" alt=\"Open In Colab\"/></a>"
      ]
    },
    {
      "cell_type": "markdown",
      "source": [
        "# Q1. What is an Exception in Python? Write the difference between Exceptions and Syntax error.\n",
        "\n"
      ],
      "metadata": {
        "id": "wpl2Wz63-rtV"
      }
    },
    {
      "cell_type": "code",
      "source": [
        "# Exception Handling.\n",
        "'''\n",
        "Exception handling is the process of responding to unwanted or unexpected events when a computer program runs. Exception\n",
        "handling deals with these events to avoid the program or system crashing, and without this process, exceptions would disrupt\n",
        "the normal operation of a program.\n",
        "'''"
      ],
      "metadata": {
        "colab": {
          "base_uri": "https://localhost:8080/",
          "height": 54
        },
        "id": "kN8Vs8Ia-_Kq",
        "outputId": "12648959-c80a-4753-ab38-e0b24e4e5a42"
      },
      "execution_count": 2,
      "outputs": [
        {
          "output_type": "execute_result",
          "data": {
            "text/plain": [
              "'\\nException handling is the process of responding to unwanted or unexpected events when a computer program runs. Exception\\nhandling deals with these events to avoid the program or system crashing, and without this process, exceptions would disrupt\\nthe normal operation of a program.\\n'"
            ],
            "application/vnd.google.colaboratory.intrinsic+json": {
              "type": "string"
            }
          },
          "metadata": {},
          "execution_count": 2
        }
      ]
    },
    {
      "cell_type": "code",
      "source": [
        "# Difference between syntax errors & Exceptions.\n",
        "'''\n",
        "'Syntax errors' is also known as Parsing errors which basically occurs when the Python interpreter encounters a code and that code does\n",
        "not aligns to the rules of Python language. This error actually occurs even before the code starts running as the error in this case\n",
        "lies in the form of misspelled keywords, missing colons, improper parentheses and other similar mistakes that violates Python's syntax\n",
        "rules.\n",
        "'''\n",
        "\n",
        "'''\n",
        "'Exception' on the other hand is a case which arises during the execution of the Python code. It happens when the interpreter encounters\n",
        "an unexpected situation or event that it does not know how to handle. Python provides a mechanism to \"raise\" exceptions, and these can be\n",
        "due to various reasons, such as attempting to divide by zero, accessing an index that is out of range or calling a method on an object\n",
        "that doesn't support it.\n",
        "'''"
      ],
      "metadata": {
        "colab": {
          "base_uri": "https://localhost:8080/",
          "height": 72
        },
        "id": "qFRMAx0sAaLc",
        "outputId": "0fa4f253-a194-4087-f878-7c0a5c8412ff"
      },
      "execution_count": 4,
      "outputs": [
        {
          "output_type": "execute_result",
          "data": {
            "text/plain": [
              "'\\n\\'Exception\\' on the other hand is a case which arises during the execution of the Python code. It happens when the interpreter encounters\\nan unexpected situation or event that it does not know how to handle. Python provides a mechanism to \"raise\" exceptions, and these can be\\ndue to various reasons, such as attempting to divide by zero, accessing an index that is out of range or calling a method on an object \\nthat doesn\\'t support it.\\n'"
            ],
            "application/vnd.google.colaboratory.intrinsic+json": {
              "type": "string"
            }
          },
          "metadata": {},
          "execution_count": 4
        }
      ]
    },
    {
      "cell_type": "markdown",
      "source": [
        "# Q2. What happens when an Exception is not handled? Explain with an example."
      ],
      "metadata": {
        "id": "ouxiWMWHE3uf"
      }
    },
    {
      "cell_type": "code",
      "source": [
        "'''\n",
        "Exception is a case when Python faces an unusual event or condition and does not know how to deal with. So, if in this case its not\n",
        "handled it will throw an error and will terminate the program and will display an error message which is also known as 'Traceback'\n",
        "which basically provides the information about the error or Exception.\n",
        "'''\n",
        "# Example code.\n",
        "def divide_numbers(a, b):\n",
        "    return a / b\n",
        "\n",
        "try:\n",
        "    result = divide_numbers(5, 0)\n",
        "    print(result)\n",
        "except ValueError:\n",
        "    print(\"Caught a ValueError.\")\n"
      ],
      "metadata": {
        "colab": {
          "base_uri": "https://localhost:8080/",
          "height": 369
        },
        "id": "LbKmaYatFUjy",
        "outputId": "16f66167-f76d-47c0-893b-f940468ae9a9"
      },
      "execution_count": 9,
      "outputs": [
        {
          "output_type": "error",
          "ename": "ZeroDivisionError",
          "evalue": "ignored",
          "traceback": [
            "\u001b[0;31m---------------------------------------------------------------------------\u001b[0m",
            "\u001b[0;31mZeroDivisionError\u001b[0m                         Traceback (most recent call last)",
            "\u001b[0;32m<ipython-input-9-5f9491856970>\u001b[0m in \u001b[0;36m<cell line: 10>\u001b[0;34m()\u001b[0m\n\u001b[1;32m      9\u001b[0m \u001b[0;34m\u001b[0m\u001b[0m\n\u001b[1;32m     10\u001b[0m \u001b[0;32mtry\u001b[0m\u001b[0;34m:\u001b[0m\u001b[0;34m\u001b[0m\u001b[0;34m\u001b[0m\u001b[0m\n\u001b[0;32m---> 11\u001b[0;31m     \u001b[0mresult\u001b[0m \u001b[0;34m=\u001b[0m \u001b[0mdivide_numbers\u001b[0m\u001b[0;34m(\u001b[0m\u001b[0;36m5\u001b[0m\u001b[0;34m,\u001b[0m \u001b[0;36m0\u001b[0m\u001b[0;34m)\u001b[0m\u001b[0;34m\u001b[0m\u001b[0;34m\u001b[0m\u001b[0m\n\u001b[0m\u001b[1;32m     12\u001b[0m     \u001b[0mprint\u001b[0m\u001b[0;34m(\u001b[0m\u001b[0mresult\u001b[0m\u001b[0;34m)\u001b[0m\u001b[0;34m\u001b[0m\u001b[0;34m\u001b[0m\u001b[0m\n\u001b[1;32m     13\u001b[0m \u001b[0;32mexcept\u001b[0m \u001b[0mValueError\u001b[0m\u001b[0;34m:\u001b[0m\u001b[0;34m\u001b[0m\u001b[0;34m\u001b[0m\u001b[0m\n",
            "\u001b[0;32m<ipython-input-9-5f9491856970>\u001b[0m in \u001b[0;36mdivide_numbers\u001b[0;34m(a, b)\u001b[0m\n\u001b[1;32m      6\u001b[0m \u001b[0;31m# Example code.\u001b[0m\u001b[0;34m\u001b[0m\u001b[0;34m\u001b[0m\u001b[0m\n\u001b[1;32m      7\u001b[0m \u001b[0;32mdef\u001b[0m \u001b[0mdivide_numbers\u001b[0m\u001b[0;34m(\u001b[0m\u001b[0ma\u001b[0m\u001b[0;34m,\u001b[0m \u001b[0mb\u001b[0m\u001b[0;34m)\u001b[0m\u001b[0;34m:\u001b[0m\u001b[0;34m\u001b[0m\u001b[0;34m\u001b[0m\u001b[0m\n\u001b[0;32m----> 8\u001b[0;31m     \u001b[0;32mreturn\u001b[0m \u001b[0ma\u001b[0m \u001b[0;34m/\u001b[0m \u001b[0mb\u001b[0m\u001b[0;34m\u001b[0m\u001b[0;34m\u001b[0m\u001b[0m\n\u001b[0m\u001b[1;32m      9\u001b[0m \u001b[0;34m\u001b[0m\u001b[0m\n\u001b[1;32m     10\u001b[0m \u001b[0;32mtry\u001b[0m\u001b[0;34m:\u001b[0m\u001b[0;34m\u001b[0m\u001b[0;34m\u001b[0m\u001b[0m\n",
            "\u001b[0;31mZeroDivisionError\u001b[0m: division by zero"
          ]
        }
      ]
    },
    {
      "cell_type": "markdown",
      "source": [
        "In this example, we have a function called divide_numbers that takes two arguments and divides them. However, we attempt to divide by zero in the try block. Since division by zero is not allowed in Python and no specific except block is handling the ZeroDivisionError, the exception is not caught, and the program will raise an unhandled exception."
      ],
      "metadata": {
        "id": "GviXBnA2H20O"
      }
    },
    {
      "cell_type": "markdown",
      "source": [
        "# Q3. Which Python statements are used to catch and handle Exceptions? Explain with an example."
      ],
      "metadata": {
        "id": "eaIsHqTlI0nf"
      }
    },
    {
      "cell_type": "code",
      "source": [
        "'''\n",
        "'try' and 'except' are the two statements used for exception handling.\n",
        "'''\n",
        "\n",
        "# Example Code.\n",
        "def div(a,b):\n",
        "  value = a/b\n",
        "  print(value)\n",
        "\n",
        "try:\n",
        "  div(10,0)\n",
        "except ZeroDivisionError:\n",
        "  print('Dividing by 0 is not allowed')\n",
        "finally:\n",
        "  print('End of exception handling')"
      ],
      "metadata": {
        "colab": {
          "base_uri": "https://localhost:8080/"
        },
        "id": "IW6FMTdpM7kX",
        "outputId": "ca311417-48f8-4443-e2e5-fd29005e9e1f"
      },
      "execution_count": 13,
      "outputs": [
        {
          "output_type": "stream",
          "name": "stdout",
          "text": [
            "Dividing by 0 is not allowed\n",
            "End of exception handling\n"
          ]
        }
      ]
    }
  ]
}