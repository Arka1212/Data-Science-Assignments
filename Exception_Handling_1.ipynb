{
  "nbformat": 4,
  "nbformat_minor": 0,
  "metadata": {
    "colab": {
      "provenance": [],
      "authorship_tag": "ABX9TyOPWNsrXDrExdejM3qdxIEf",
      "include_colab_link": true
    },
    "kernelspec": {
      "name": "python3",
      "display_name": "Python 3"
    },
    "language_info": {
      "name": "python"
    }
  },
  "cells": [
    {
      "cell_type": "markdown",
      "metadata": {
        "id": "view-in-github",
        "colab_type": "text"
      },
      "source": [
        "<a href=\"https://colab.research.google.com/github/Arka1212/Data-Science-Assignments/blob/main/Exception_Handling_1.ipynb\" target=\"_parent\"><img src=\"https://colab.research.google.com/assets/colab-badge.svg\" alt=\"Open In Colab\"/></a>"
      ]
    },
    {
      "cell_type": "markdown",
      "source": [
        "# Q1. What is an Exception in Python? Write the difference between Exceptions and Syntax error.\n",
        "\n"
      ],
      "metadata": {
        "id": "wpl2Wz63-rtV"
      }
    },
    {
      "cell_type": "code",
      "source": [
        "# Exception Handling.\n",
        "'''\n",
        "Exception handling is the process of responding to unwanted or unexpected events when a computer program runs. Exception\n",
        "handling deals with these events to avoid the program or system crashing, and without this process, exceptions would disrupt\n",
        "the normal operation of a program.\n",
        "'''"
      ],
      "metadata": {
        "colab": {
          "base_uri": "https://localhost:8080/",
          "height": 54
        },
        "id": "kN8Vs8Ia-_Kq",
        "outputId": "12648959-c80a-4753-ab38-e0b24e4e5a42"
      },
      "execution_count": 2,
      "outputs": [
        {
          "output_type": "execute_result",
          "data": {
            "text/plain": [
              "'\\nException handling is the process of responding to unwanted or unexpected events when a computer program runs. Exception\\nhandling deals with these events to avoid the program or system crashing, and without this process, exceptions would disrupt\\nthe normal operation of a program.\\n'"
            ],
            "application/vnd.google.colaboratory.intrinsic+json": {
              "type": "string"
            }
          },
          "metadata": {},
          "execution_count": 2
        }
      ]
    },
    {
      "cell_type": "code",
      "source": [
        "# Difference between syntax errors & Exceptions.\n",
        "'''\n",
        "'Syntax errors' is also known as Parsing errors which basically occurs when the Python interpreter encounters a code and that code does\n",
        "not aligns to the rules of Python language. This error actually occurs even before the code starts running as the error in this case\n",
        "lies in the form of misspelled keywords, missing colons, improper parentheses and other similar mistakes that violates Python's syntax\n",
        "rules.\n",
        "'''\n",
        "\n",
        "'''\n",
        "'Exception' on the other hand is a case which arises during the execution of the Python code. It happens when the interpreter encounters\n",
        "an unexpected situation or event that it does not know how to handle. Python provides a mechanism to \"raise\" exceptions, and these can be\n",
        "due to various reasons, such as attempting to divide by zero, accessing an index that is out of range or calling a method on an object\n",
        "that doesn't support it.\n",
        "'''"
      ],
      "metadata": {
        "colab": {
          "base_uri": "https://localhost:8080/",
          "height": 72
        },
        "id": "qFRMAx0sAaLc",
        "outputId": "0fa4f253-a194-4087-f878-7c0a5c8412ff"
      },
      "execution_count": 4,
      "outputs": [
        {
          "output_type": "execute_result",
          "data": {
            "text/plain": [
              "'\\n\\'Exception\\' on the other hand is a case which arises during the execution of the Python code. It happens when the interpreter encounters\\nan unexpected situation or event that it does not know how to handle. Python provides a mechanism to \"raise\" exceptions, and these can be\\ndue to various reasons, such as attempting to divide by zero, accessing an index that is out of range or calling a method on an object \\nthat doesn\\'t support it.\\n'"
            ],
            "application/vnd.google.colaboratory.intrinsic+json": {
              "type": "string"
            }
          },
          "metadata": {},
          "execution_count": 4
        }
      ]
    },
    {
      "cell_type": "markdown",
      "source": [
        "# Q2. What happens when an Exception is not handled? Explain with an example."
      ],
      "metadata": {
        "id": "ouxiWMWHE3uf"
      }
    },
    {
      "cell_type": "code",
      "source": [
        "'''\n",
        "Exception is a case when Python faces an unusual event or condition and does not know how to deal with. So, if in this case its not\n",
        "handled it will throw an error and will terminate the program and will display an error message which is also known as 'Traceback'\n",
        "which basically provides the information about the error or Exception.\n",
        "'''\n",
        "# Example code.\n",
        "def divide_numbers(a, b):\n",
        "    return a / b\n",
        "\n",
        "try:\n",
        "    result = divide_numbers(5, 0)\n",
        "    print(result)\n",
        "except ValueError:\n",
        "    print(\"Caught a ValueError.\")\n"
      ],
      "metadata": {
        "colab": {
          "base_uri": "https://localhost:8080/",
          "height": 369
        },
        "id": "LbKmaYatFUjy",
        "outputId": "16f66167-f76d-47c0-893b-f940468ae9a9"
      },
      "execution_count": 9,
      "outputs": [
        {
          "output_type": "error",
          "ename": "ZeroDivisionError",
          "evalue": "ignored",
          "traceback": [
            "\u001b[0;31m---------------------------------------------------------------------------\u001b[0m",
            "\u001b[0;31mZeroDivisionError\u001b[0m                         Traceback (most recent call last)",
            "\u001b[0;32m<ipython-input-9-5f9491856970>\u001b[0m in \u001b[0;36m<cell line: 10>\u001b[0;34m()\u001b[0m\n\u001b[1;32m      9\u001b[0m \u001b[0;34m\u001b[0m\u001b[0m\n\u001b[1;32m     10\u001b[0m \u001b[0;32mtry\u001b[0m\u001b[0;34m:\u001b[0m\u001b[0;34m\u001b[0m\u001b[0;34m\u001b[0m\u001b[0m\n\u001b[0;32m---> 11\u001b[0;31m     \u001b[0mresult\u001b[0m \u001b[0;34m=\u001b[0m \u001b[0mdivide_numbers\u001b[0m\u001b[0;34m(\u001b[0m\u001b[0;36m5\u001b[0m\u001b[0;34m,\u001b[0m \u001b[0;36m0\u001b[0m\u001b[0;34m)\u001b[0m\u001b[0;34m\u001b[0m\u001b[0;34m\u001b[0m\u001b[0m\n\u001b[0m\u001b[1;32m     12\u001b[0m     \u001b[0mprint\u001b[0m\u001b[0;34m(\u001b[0m\u001b[0mresult\u001b[0m\u001b[0;34m)\u001b[0m\u001b[0;34m\u001b[0m\u001b[0;34m\u001b[0m\u001b[0m\n\u001b[1;32m     13\u001b[0m \u001b[0;32mexcept\u001b[0m \u001b[0mValueError\u001b[0m\u001b[0;34m:\u001b[0m\u001b[0;34m\u001b[0m\u001b[0;34m\u001b[0m\u001b[0m\n",
            "\u001b[0;32m<ipython-input-9-5f9491856970>\u001b[0m in \u001b[0;36mdivide_numbers\u001b[0;34m(a, b)\u001b[0m\n\u001b[1;32m      6\u001b[0m \u001b[0;31m# Example code.\u001b[0m\u001b[0;34m\u001b[0m\u001b[0;34m\u001b[0m\u001b[0m\n\u001b[1;32m      7\u001b[0m \u001b[0;32mdef\u001b[0m \u001b[0mdivide_numbers\u001b[0m\u001b[0;34m(\u001b[0m\u001b[0ma\u001b[0m\u001b[0;34m,\u001b[0m \u001b[0mb\u001b[0m\u001b[0;34m)\u001b[0m\u001b[0;34m:\u001b[0m\u001b[0;34m\u001b[0m\u001b[0;34m\u001b[0m\u001b[0m\n\u001b[0;32m----> 8\u001b[0;31m     \u001b[0;32mreturn\u001b[0m \u001b[0ma\u001b[0m \u001b[0;34m/\u001b[0m \u001b[0mb\u001b[0m\u001b[0;34m\u001b[0m\u001b[0;34m\u001b[0m\u001b[0m\n\u001b[0m\u001b[1;32m      9\u001b[0m \u001b[0;34m\u001b[0m\u001b[0m\n\u001b[1;32m     10\u001b[0m \u001b[0;32mtry\u001b[0m\u001b[0;34m:\u001b[0m\u001b[0;34m\u001b[0m\u001b[0;34m\u001b[0m\u001b[0m\n",
            "\u001b[0;31mZeroDivisionError\u001b[0m: division by zero"
          ]
        }
      ]
    },
    {
      "cell_type": "markdown",
      "source": [
        "In this example, we have a function called divide_numbers that takes two arguments and divides them. However, we attempt to divide by zero in the try block. Since division by zero is not allowed in Python and no specific except block is handling the ZeroDivisionError, the exception is not caught, and the program will raise an unhandled exception."
      ],
      "metadata": {
        "id": "GviXBnA2H20O"
      }
    },
    {
      "cell_type": "markdown",
      "source": [
        "# Q3. Which Python statements are used to catch and handle Exceptions? Explain with an example."
      ],
      "metadata": {
        "id": "eaIsHqTlI0nf"
      }
    },
    {
      "cell_type": "code",
      "source": [
        "'''\n",
        "'try' and 'except' are the two statements used for exception handling.\n",
        "'''\n",
        "\n",
        "# Example Code.\n",
        "def div(a,b):\n",
        "  value = a/b\n",
        "  print(value)\n",
        "\n",
        "try:\n",
        "  div(10,0)\n",
        "except ZeroDivisionError:\n",
        "  print('Dividing by 0 is not allowed')\n",
        "\n",
        "# Since, the code is facing a 'ZeroDivisionError' so its displaying the exception."
      ],
      "metadata": {
        "colab": {
          "base_uri": "https://localhost:8080/"
        },
        "id": "IW6FMTdpM7kX",
        "outputId": "4bd42178-93b0-4253-a9d4-d56e63054018"
      },
      "execution_count": 18,
      "outputs": [
        {
          "output_type": "stream",
          "name": "stdout",
          "text": [
            "Dividing by 0 is not allowed\n"
          ]
        }
      ]
    },
    {
      "cell_type": "markdown",
      "source": [
        "# Q4. Explain with example:\n",
        "\n",
        "\n",
        "*   try & else\n",
        "*   finally\n",
        "*   raise\n",
        "\n"
      ],
      "metadata": {
        "id": "2CmQat25ZD7B"
      }
    },
    {
      "cell_type": "code",
      "source": [
        "# Try & Else.\n",
        "def div(a,b):\n",
        "  value = a/b\n",
        "  print(value)\n",
        "\n",
        "try:\n",
        "  div(10,3)\n",
        "except ZeroDivisionError:\n",
        "  print('Dividing by 0 is not allowed')\n",
        "else:\n",
        "  print('Division is successfull')\n",
        "\n",
        "# 'else' is only executed when try is succesfully executed but if there is execption then else will not execute."
      ],
      "metadata": {
        "colab": {
          "base_uri": "https://localhost:8080/"
        },
        "id": "WBOYQSj5Zig-",
        "outputId": "e5808301-45c6-4737-a588-7a791ca0d01a"
      },
      "execution_count": 17,
      "outputs": [
        {
          "output_type": "stream",
          "name": "stdout",
          "text": [
            "3.3333333333333335\n",
            "Division is successfull\n"
          ]
        }
      ]
    },
    {
      "cell_type": "code",
      "source": [
        "# 'finally' statement.\n",
        "try:\n",
        "  new_file = open('tennis_data', 'w')\n",
        "  new_file.write('''\n",
        "  Early Ball Games: The origins of tennis can be traced back to ancient civilizations like Egypt, Greece, and Rome, where various forms\n",
        "  of ball games were played. These early games involved hitting a ball with the hand or a rudimentary racket. Real Tennis: In the 12th\n",
        "  century, a game called \"real tennis\" or \"royal tennis\" emerged in France. It was played indoors on specially designed courts with\n",
        "  complex rules and elaborate architecture. Real tennis was a popular sport among the European nobility during the medieval and\n",
        "  Renaissance periods. Lawn Tennis: The modern form of lawn tennis started to take shape in the late 19th century. It is attributed to\n",
        "  Major Walter Clopton Wingfield, who patented the first version of the game in 1874, which he called \"Sphairistikè.\" This early version\n",
        "  of tennis was played on an hourglass-shaped court with a net, and the rules were simpler than those of real tennis. Spread & Popularity:\n",
        "  Lawn tennis quickly gained popularity in England, and various tennis clubs and associations were established. In 1877, the All England\n",
        "  Croquet and Lawn Tennis Club (now known as the All England Lawn Tennis and Croquet Club) held the first Wimbledon Championships, the\n",
        "  oldest and most prestigious tennis tournament in the world. Evolution of Rules and Equipment: Over the years, the rules of tennis were\n",
        "  standardized, and the game's equipment, including rackets and balls, underwent significant improvements. The introduction of lawn mower\n",
        "   technology allowed for the creation of grass courts\n",
        "''')\n",
        "except Exception as ex:\n",
        "  print('Issue with the code')\n",
        "else:\n",
        "  new_file.close()                   # Closes the file only when try is successfully executed.\n",
        "finally:\n",
        "  print('End')                       # Executed in any condition."
      ],
      "metadata": {
        "colab": {
          "base_uri": "https://localhost:8080/"
        },
        "id": "Ob6_ZtgsbiJA",
        "outputId": "3071939f-a778-435c-ee51-4210d6afba04"
      },
      "execution_count": 20,
      "outputs": [
        {
          "output_type": "stream",
          "name": "stdout",
          "text": [
            "End\n"
          ]
        }
      ]
    },
    {
      "cell_type": "code",
      "source": [
        "# 'raise' statement.\n"
      ],
      "metadata": {
        "id": "R56TiYBsdbci"
      },
      "execution_count": null,
      "outputs": []
    }
  ]
}