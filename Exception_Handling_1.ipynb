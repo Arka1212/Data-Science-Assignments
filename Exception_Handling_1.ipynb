{
  "nbformat": 4,
  "nbformat_minor": 0,
  "metadata": {
    "colab": {
      "provenance": [],
      "authorship_tag": "ABX9TyN3f5LgTwt0QH4HDRyA7yzy",
      "include_colab_link": true
    },
    "kernelspec": {
      "name": "python3",
      "display_name": "Python 3"
    },
    "language_info": {
      "name": "python"
    }
  },
  "cells": [
    {
      "cell_type": "markdown",
      "metadata": {
        "id": "view-in-github",
        "colab_type": "text"
      },
      "source": [
        "<a href=\"https://colab.research.google.com/github/Arka1212/Data-Science-Assignments/blob/main/Exception_Handling_1.ipynb\" target=\"_parent\"><img src=\"https://colab.research.google.com/assets/colab-badge.svg\" alt=\"Open In Colab\"/></a>"
      ]
    },
    {
      "cell_type": "markdown",
      "source": [
        "# Q1. What is an Exception in Python? Write the difference between Exceptions and Syntax error.\n",
        "\n"
      ],
      "metadata": {
        "id": "wpl2Wz63-rtV"
      }
    },
    {
      "cell_type": "code",
      "source": [
        "# Exception Handling.\n",
        "'''\n",
        "Exception handling is the process of responding to unwanted or unexpected events when a computer program runs. Exception\n",
        "handling deals with these events to avoid the program or system crashing, and without this process, exceptions would disrupt\n",
        "the normal operation of a program.\n",
        "'''"
      ],
      "metadata": {
        "colab": {
          "base_uri": "https://localhost:8080/",
          "height": 54
        },
        "id": "kN8Vs8Ia-_Kq",
        "outputId": "12648959-c80a-4753-ab38-e0b24e4e5a42"
      },
      "execution_count": 2,
      "outputs": [
        {
          "output_type": "execute_result",
          "data": {
            "text/plain": [
              "'\\nException handling is the process of responding to unwanted or unexpected events when a computer program runs. Exception\\nhandling deals with these events to avoid the program or system crashing, and without this process, exceptions would disrupt\\nthe normal operation of a program.\\n'"
            ],
            "application/vnd.google.colaboratory.intrinsic+json": {
              "type": "string"
            }
          },
          "metadata": {},
          "execution_count": 2
        }
      ]
    },
    {
      "cell_type": "code",
      "source": [
        "# Difference between syntax errors & Exceptions.\n",
        "'''\n",
        "'Syntax errors' is also known as Parsing errors which basically occurs when the Python interpreter encounters a code and that code does\n",
        "not aligns to the rules of Python language. This error actually occurs even before the code starts running as the error in this case\n",
        "lies in the form of misspelled keywords, missing colons, improper parentheses and other similar mistakes that violates Python's syntax\n",
        "rules.\n",
        "'''\n",
        "\n",
        "'''\n",
        "'Exception' on the other hand is a case which arises during the execution of the Python code. It happens when the interpreter encounters\n",
        "an unexpected situation or event that it does not know how to handle. Python provides a mechanism to \"raise\" exceptions, and these can be\n",
        "due to various reasons, such as attempting to divide by zero, accessing an index that is out of range or calling a method on an object\n",
        "that doesn't support it.\n",
        "'''"
      ],
      "metadata": {
        "colab": {
          "base_uri": "https://localhost:8080/",
          "height": 72
        },
        "id": "qFRMAx0sAaLc",
        "outputId": "0fa4f253-a194-4087-f878-7c0a5c8412ff"
      },
      "execution_count": 4,
      "outputs": [
        {
          "output_type": "execute_result",
          "data": {
            "text/plain": [
              "'\\n\\'Exception\\' on the other hand is a case which arises during the execution of the Python code. It happens when the interpreter encounters\\nan unexpected situation or event that it does not know how to handle. Python provides a mechanism to \"raise\" exceptions, and these can be\\ndue to various reasons, such as attempting to divide by zero, accessing an index that is out of range or calling a method on an object \\nthat doesn\\'t support it.\\n'"
            ],
            "application/vnd.google.colaboratory.intrinsic+json": {
              "type": "string"
            }
          },
          "metadata": {},
          "execution_count": 4
        }
      ]
    },
    {
      "cell_type": "markdown",
      "source": [
        "# Q2. What happens when an Exception is not handled? Explain with an example."
      ],
      "metadata": {
        "id": "ouxiWMWHE3uf"
      }
    },
    {
      "cell_type": "code",
      "source": [
        "'''\n",
        "Exception is a case when Python faces an unusual event or condition and does not know how to deal with. So, if in this case its not\n",
        "handled it will throw an error and will terminate the program and will display an error message which is also known as 'Traceback'\n",
        "which basically provides the information about the error or Exception.\n",
        "'''\n"
      ],
      "metadata": {
        "colab": {
          "base_uri": "https://localhost:8080/",
          "height": 72
        },
        "id": "LbKmaYatFUjy",
        "outputId": "208318f8-30de-4611-959d-da7d6067f45f"
      },
      "execution_count": 6,
      "outputs": [
        {
          "output_type": "execute_result",
          "data": {
            "text/plain": [
              "\"\\nException is a case when Python faces an unusual event or condition and does not know how to deal with. So, if in this case its not\\nhandled it will throw an error and will terminate the program and will display an error message which is also known as 'Traceback' \\nwhich basically provides the information about the error or Exception.\\n\""
            ],
            "application/vnd.google.colaboratory.intrinsic+json": {
              "type": "string"
            }
          },
          "metadata": {},
          "execution_count": 6
        }
      ]
    }
  ]
}