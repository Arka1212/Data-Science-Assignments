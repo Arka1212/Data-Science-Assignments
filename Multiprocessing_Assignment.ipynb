{
  "nbformat": 4,
  "nbformat_minor": 0,
  "metadata": {
    "colab": {
      "provenance": [],
      "authorship_tag": "ABX9TyOuA53vQk6oj7m7btP9RpVt",
      "include_colab_link": true
    },
    "kernelspec": {
      "name": "python3",
      "display_name": "Python 3"
    },
    "language_info": {
      "name": "python"
    }
  },
  "cells": [
    {
      "cell_type": "markdown",
      "metadata": {
        "id": "view-in-github",
        "colab_type": "text"
      },
      "source": [
        "<a href=\"https://colab.research.google.com/github/Arka1212/Data-Science-Assignments/blob/main/Multiprocessing_Assignment.ipynb\" target=\"_parent\"><img src=\"https://colab.research.google.com/assets/colab-badge.svg\" alt=\"Open In Colab\"/></a>"
      ]
    },
    {
      "cell_type": "markdown",
      "source": [
        "# Q1. What is multiprocessing in python? Why is it useful?"
      ],
      "metadata": {
        "id": "eV9NLAXprSHY"
      }
    },
    {
      "cell_type": "markdown",
      "source": [
        "# Q2. What are the differences between multiprocessing and multithreading?"
      ],
      "metadata": {
        "id": "y3FkzUeGrUv9"
      }
    },
    {
      "cell_type": "markdown",
      "source": [
        "# Q3. Write a python code to create a process using the multiprocessing module."
      ],
      "metadata": {
        "id": "r4Y5kgSMrXZX"
      }
    },
    {
      "cell_type": "markdown",
      "source": [
        "# Q4. What is a multiprocessing pool in python? Why is it used?"
      ],
      "metadata": {
        "id": "WjgmXy_8rZtU"
      }
    },
    {
      "cell_type": "markdown",
      "source": [
        "# Q5. How can we create a pool of worker processes in python using the multiprocessing module?"
      ],
      "metadata": {
        "id": "TQhOi7W1rc9Y"
      }
    },
    {
      "cell_type": "markdown",
      "source": [
        "# Q6. Write a python program to create 4 processes, each process should print a different number using the multiprocessing module in python."
      ],
      "metadata": {
        "id": "gmCtkoJmrekE"
      }
    }
  ]
}