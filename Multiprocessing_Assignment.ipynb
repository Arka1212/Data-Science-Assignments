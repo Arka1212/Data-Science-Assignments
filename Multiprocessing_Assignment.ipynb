{
  "nbformat": 4,
  "nbformat_minor": 0,
  "metadata": {
    "colab": {
      "provenance": [],
      "authorship_tag": "ABX9TyO+HjXYfqlyQLSr49g6UQP+",
      "include_colab_link": true
    },
    "kernelspec": {
      "name": "python3",
      "display_name": "Python 3"
    },
    "language_info": {
      "name": "python"
    }
  },
  "cells": [
    {
      "cell_type": "markdown",
      "metadata": {
        "id": "view-in-github",
        "colab_type": "text"
      },
      "source": [
        "<a href=\"https://colab.research.google.com/github/Arka1212/Data-Science-Assignments/blob/main/Multiprocessing_Assignment.ipynb\" target=\"_parent\"><img src=\"https://colab.research.google.com/assets/colab-badge.svg\" alt=\"Open In Colab\"/></a>"
      ]
    },
    {
      "cell_type": "markdown",
      "source": [
        "# Q1. What is multiprocessing in python? Why is it useful?"
      ],
      "metadata": {
        "id": "eV9NLAXprSHY"
      }
    },
    {
      "cell_type": "code",
      "source": [
        "'''\n",
        "Multiprocessing is a module that provides support for creating and managing multiple processes concurrently, allowing to execute\n",
        "tasks in parallel. It is a part of the Python standard library and is used to leverage multiple CPU cores and take advantage of the\n",
        "inherent parallelism in modern computers. Its useful because:\n",
        "\n",
        "* With multiprocessing, multiple processes can run concurrently and take full advantage of multiple CPU cores, allowing for true\n",
        "  parallel execution of CPU-intensive tasks.\n",
        "* For CPU-bound tasks, multiprocessing can significantly improve performance, as it allows multiple cores to work on different parts\n",
        "  of a problem simultaneously.\n",
        "* In some cases, it's beneficial to isolate certain tasks completely due to dependencies or external libraries that might not be\n",
        "  thread-safe.\n",
        "'''"
      ],
      "metadata": {
        "colab": {
          "base_uri": "https://localhost:8080/",
          "height": 108
        },
        "id": "iyxyxgJzuyGj",
        "outputId": "ca3b3fca-b05d-404a-aee0-8f59897e296d"
      },
      "execution_count": 1,
      "outputs": [
        {
          "output_type": "execute_result",
          "data": {
            "text/plain": [
              "\"\\nMultiprocessing is a module that provides support for creating and managing multiple processes concurrently, allowing to execute \\ntasks in parallel. It is a part of the Python standard library and is used to leverage multiple CPU cores and take advantage of the \\ninherent parallelism in modern computers. Its useful because:\\n\\n* With multiprocessing, multiple processes can run concurrently and take full advantage of multiple CPU cores, allowing for true \\n  parallel execution of CPU-intensive tasks.\\n* For CPU-bound tasks, multiprocessing can significantly improve performance, as it allows multiple cores to work on different parts \\n  of a problem simultaneously.\\n* In some cases, it's beneficial to isolate certain tasks completely due to dependencies or external libraries that might not be \\n  thread-safe.\\n\""
            ],
            "application/vnd.google.colaboratory.intrinsic+json": {
              "type": "string"
            }
          },
          "metadata": {},
          "execution_count": 1
        }
      ]
    },
    {
      "cell_type": "markdown",
      "source": [
        "# Q2. What are the differences between multiprocessing and multithreading?"
      ],
      "metadata": {
        "id": "y3FkzUeGrUv9"
      }
    },
    {
      "cell_type": "code",
      "source": [
        "'''\n",
        "* In multiprocessing, each process has its own memory space, which means that variables and data are not shared by default whereas in\n",
        "  multithreading threads within the same process share the same memory space. This shared memory space can lead to potential race\n",
        "  conditions and other synchronization issues when multiple threads access and modify shared data concurrently.\n",
        "\n",
        "* In multiprocessing each process has its own Python interpreter and memory, which means that the Global Interpreter Lock (GIL) does\n",
        "  not affect multiprocessing whereas in multithreading, Python's Global Interpreter Lock (GIL) restricts the execution of multiple\n",
        "  threads in a Python process.\n",
        "'''"
      ],
      "metadata": {
        "colab": {
          "base_uri": "https://localhost:8080/",
          "height": 108
        },
        "id": "Sg7c4UX3wo6y",
        "outputId": "8209d566-ddba-458e-9bbd-1fe5e8c83651"
      },
      "execution_count": 3,
      "outputs": [
        {
          "output_type": "execute_result",
          "data": {
            "text/plain": [
              "\"\\n* In multiprocessing, each process has its own memory space, which means that variables and data are not shared by default whereas in \\n  multithreading threads within the same process share the same memory space. This shared memory space can lead to potential race \\n  conditions and other synchronization issues when multiple threads access and modify shared data concurrently.\\n\\n* In multiprocessing each process has its own Python interpreter and memory, which means that the Global Interpreter Lock (GIL) does \\n  not affect multiprocessing whereas in multithreading, Python's Global Interpreter Lock (GIL) restricts the execution of multiple \\n  threads in a Python process.\\n\""
            ],
            "application/vnd.google.colaboratory.intrinsic+json": {
              "type": "string"
            }
          },
          "metadata": {},
          "execution_count": 3
        }
      ]
    },
    {
      "cell_type": "markdown",
      "source": [
        "# Q3. Write a python code to create a process using the multiprocessing module."
      ],
      "metadata": {
        "id": "r4Y5kgSMrXZX"
      }
    },
    {
      "cell_type": "code",
      "source": [
        "# Example Code.\n",
        "import multiprocessing\n",
        "\n",
        "def my_function(name):\n",
        "    print(f\"Hello, {name}! This is a new process.\")\n",
        "\n",
        "if __name__ == \"__main__\":\n",
        "    process = multiprocessing.Process(target=my_function, args=(\"Alice\",))\n",
        "    process.start()\n",
        "    process.join()\n",
        "    print(\"Main process is done.\")"
      ],
      "metadata": {
        "colab": {
          "base_uri": "https://localhost:8080/"
        },
        "id": "aQHbTEgZwogK",
        "outputId": "fa5de759-50a8-4ee5-f93b-5eb39e9cdde8"
      },
      "execution_count": 4,
      "outputs": [
        {
          "output_type": "stream",
          "name": "stdout",
          "text": [
            "Hello, Alice! This is a new process.\n",
            "Main process is done.\n"
          ]
        }
      ]
    },
    {
      "cell_type": "markdown",
      "source": [
        "# Q4. What is a multiprocessing pool in python? Why is it used?"
      ],
      "metadata": {
        "id": "WjgmXy_8rZtU"
      }
    },
    {
      "cell_type": "code",
      "source": [
        "'''\n",
        "A multiprocessing pool is a convenient way to manage and distribute tasks across multiple processes simultaneously. This is particularly\n",
        "useful for parallelizing CPU-bound tasks, as it allows you to take advantage of multiple CPU cores and process tasks concurrently.\n",
        "'''\n"
      ],
      "metadata": {
        "colab": {
          "base_uri": "https://localhost:8080/",
          "height": 54
        },
        "id": "SD8sf14Cx1ij",
        "outputId": "4354c0a8-9c95-4453-bfa5-79066c90d274"
      },
      "execution_count": 5,
      "outputs": [
        {
          "output_type": "execute_result",
          "data": {
            "text/plain": [
              "'\\nA multiprocessing pool is a convenient way to manage and distribute tasks across multiple processes simultaneously. This is particularly\\nuseful for parallelizing CPU-bound tasks, as it allows you to take advantage of multiple CPU cores and process tasks concurrently.\\n'"
            ],
            "application/vnd.google.colaboratory.intrinsic+json": {
              "type": "string"
            }
          },
          "metadata": {},
          "execution_count": 5
        }
      ]
    },
    {
      "cell_type": "markdown",
      "source": [
        "# Q5. How can we create a pool of worker processes in python using the multiprocessing module?"
      ],
      "metadata": {
        "id": "TQhOi7W1rc9Y"
      }
    },
    {
      "cell_type": "code",
      "source": [
        "# Example Code.\n",
        "import multiprocessing\n",
        "\n",
        "# A function that represents the task to be performed by the worker processes\n",
        "def task_function(task_input):\n",
        "    result = task_input * 2\n",
        "    return result\n",
        "\n",
        "if __name__ == \"__main__\":\n",
        "    num_processes = 4\n",
        "    pool = multiprocessing.Pool(processes = num_processes)\n",
        "\n",
        "    task_inputs = [1, 2, 3, 4, 5]\n",
        "    results = pool.map(task_function, task_inputs)\n",
        "\n",
        "    pool.close()\n",
        "    pool.join()\n",
        "\n",
        "    print(results)"
      ],
      "metadata": {
        "colab": {
          "base_uri": "https://localhost:8080/"
        },
        "id": "IEkH-HJP0FBm",
        "outputId": "b68ab531-11f1-4683-d4e4-b9dfb8678363"
      },
      "execution_count": 6,
      "outputs": [
        {
          "output_type": "stream",
          "name": "stdout",
          "text": [
            "[2, 4, 6, 8, 10]\n"
          ]
        }
      ]
    },
    {
      "cell_type": "markdown",
      "source": [
        "# Q6. Write a python program to create 4 processes, each process should print a different number using the multiprocessing module in python."
      ],
      "metadata": {
        "id": "gmCtkoJmrekE"
      }
    },
    {
      "cell_type": "code",
      "source": [
        "# Example Code.\n",
        "import multiprocessing\n",
        "\n",
        "def print_number(number):\n",
        "    print(f\"Process {number}: My number is {number}.\")\n",
        "\n",
        "if __name__ == \"__main__\":\n",
        "    processes = []\n",
        "\n",
        "    for i in range(1, 5):\n",
        "        process = multiprocessing.Process(target = print_number, args = (i,))\n",
        "        processes.append(process)\n",
        "        process.start()\n",
        "\n",
        "    for process in processes:\n",
        "        process.join()\n",
        "\n",
        "    print(\"All processes are done.\")"
      ],
      "metadata": {
        "colab": {
          "base_uri": "https://localhost:8080/"
        },
        "id": "yjb_Fdow0eHi",
        "outputId": "efdc62c3-b21d-41ec-d5c9-9a8729930cfd"
      },
      "execution_count": 7,
      "outputs": [
        {
          "output_type": "stream",
          "name": "stdout",
          "text": [
            "Process 2: My number is 2.Process 1: My number is 1.\n",
            "\n",
            "Process 3: My number is 3.\n",
            "Process 4: My number is 4.\n",
            "All processes are done.\n"
          ]
        }
      ]
    }
  ]
}