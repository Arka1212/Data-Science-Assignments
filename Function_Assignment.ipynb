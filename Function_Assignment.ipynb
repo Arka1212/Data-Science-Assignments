{
  "nbformat": 4,
  "nbformat_minor": 0,
  "metadata": {
    "colab": {
      "provenance": [],
      "authorship_tag": "ABX9TyOh1MTquDxBz9gJMEsK1g5T",
      "include_colab_link": true
    },
    "kernelspec": {
      "name": "python3",
      "display_name": "Python 3"
    },
    "language_info": {
      "name": "python"
    }
  },
  "cells": [
    {
      "cell_type": "markdown",
      "metadata": {
        "id": "view-in-github",
        "colab_type": "text"
      },
      "source": [
        "<a href=\"https://colab.research.google.com/github/Arka1212/Data-Science-Assignments/blob/main/Function_Assignment.ipynb\" target=\"_parent\"><img src=\"https://colab.research.google.com/assets/colab-badge.svg\" alt=\"Open In Colab\"/></a>"
      ]
    },
    {
      "cell_type": "markdown",
      "source": [
        "## Q1. Which keyword is used to create a function? Create a function to return a list of odd numbers in the range of 1 to 25."
      ],
      "metadata": {
        "id": "294q6wdWN6xM"
      }
    },
    {
      "cell_type": "code",
      "source": [
        "'''\n",
        "The keyword used to create a function is 'def'\n",
        "'''\n",
        "# Creating a list of numbers ranging from 1 to 25.\n",
        "num_list = []\n",
        "for i in range(1,26):\n",
        "  num_list.append(i)\n",
        "print(num_list)\n",
        "\n",
        "# Creating a function to return a list of odd numbers.\n",
        "def odd_list(n):\n",
        "  odd = []\n",
        "  for num in n:\n",
        "    if num % 2 != 0:\n",
        "      odd.append(num)\n",
        "    else:\n",
        "      pass\n",
        "  return odd\n",
        "\n",
        "print(odd_list(num_list))"
      ],
      "metadata": {
        "colab": {
          "base_uri": "https://localhost:8080/"
        },
        "id": "-pD3oklPOAZQ",
        "outputId": "37ba69ef-e679-4f6b-bdc1-12edbf4a4945"
      },
      "execution_count": 14,
      "outputs": [
        {
          "output_type": "stream",
          "name": "stdout",
          "text": [
            "[1, 2, 3, 4, 5, 6, 7, 8, 9, 10, 11, 12, 13, 14, 15, 16, 17, 18, 19, 20, 21, 22, 23, 24, 25]\n",
            "[1, 3, 5, 7, 9, 11, 13, 15, 17, 19, 21, 23, 25]\n"
          ]
        }
      ]
    },
    {
      "cell_type": "markdown",
      "source": [
        "## Q2. Why *args and **kwargs is used in some functions? Create a function each for *args and **kwargs to demonstrate their use."
      ],
      "metadata": {
        "id": "JcM6guLhQ8px"
      }
    },
    {
      "cell_type": "code",
      "source": [
        "'''\n",
        "We use *args(Non Keyword Arguments) and **kwargs(Keyword Arguments) as an argument when we are unsure about the number of arguments \n",
        "to pass in the functions.\n",
        "'''\n",
        "# *args\n",
        "def adder(*num):\n",
        "    sum = 0\n",
        "    for n in num:\n",
        "      sum = sum + n\n",
        "\n",
        "    print(\"Sum:\",sum)\n",
        "\n",
        "adder(3,5)\n",
        "\n",
        "# **kwargs\n",
        "def intro(**data):\n",
        "    print(\"\\nData type of argument:\",type(data))\n",
        "\n",
        "    for key, value in data.items():\n",
        "        print(\"{} is {}\".format(key,value))\n",
        "\n",
        "intro(Firstname=\"Soham\", Lastname=\"Saha\", Email=\"soham1224mail.com\", Country=\"Bangladesh\", Age=34, Phone=8420474863)"
      ],
      "metadata": {
        "colab": {
          "base_uri": "https://localhost:8080/"
        },
        "id": "ZV7YusPaQ-Yv",
        "outputId": "0803cc07-cf49-4057-d334-0fdf960b1801"
      },
      "execution_count": 21,
      "outputs": [
        {
          "output_type": "stream",
          "name": "stdout",
          "text": [
            "Sum: 8\n",
            "\n",
            "Data type of argument: <class 'dict'>\n",
            "Firstname is Soham\n",
            "Lastname is Saha\n",
            "Email is soham1224mail.com\n",
            "Country is Bangladesh\n",
            "Age is 34\n",
            "Phone is 8420474863\n"
          ]
        }
      ]
    },
    {
      "cell_type": "markdown",
      "source": [
        "## Q3. What is an iterator in python? Name the method used to initialise the iterator object and the method used for iteration. Use these methods to print the first five elements of the given list [2, 4, 6, 8, 10, 12, 14, 16, 18, 20]."
      ],
      "metadata": {
        "id": "n8ehk6ZcTelm"
      }
    },
    {
      "cell_type": "code",
      "source": [
        "'''\n",
        "Iterators are methods that iterate collections like lists, tuples, etc. Using an iterator method, we can loop through an object \n",
        "and return its elements.\n",
        "\n",
        "'next()' method is used to initialise the iterator.\n",
        "'''\n",
        "new_list = [2, 4, 6, 8, 10, 12, 14, 16, 18, 20]\n",
        "iterator = iter(new_list)\n",
        "\n",
        "for m in new_list[:6]:\n",
        "  print(next(iterator))"
      ],
      "metadata": {
        "colab": {
          "base_uri": "https://localhost:8080/"
        },
        "id": "fPDetNUVTg6p",
        "outputId": "57d4b9e0-4aad-420d-c10e-8abe44ef5c1f"
      },
      "execution_count": 26,
      "outputs": [
        {
          "output_type": "stream",
          "name": "stdout",
          "text": [
            "2\n",
            "4\n",
            "6\n",
            "8\n",
            "10\n",
            "12\n"
          ]
        }
      ]
    },
    {
      "cell_type": "markdown",
      "source": [
        "## Q4. What is a generator function in python? Why yield keyword is used? Give an example of a generator function."
      ],
      "metadata": {
        "id": "WOZKIoqyVwy6"
      }
    },
    {
      "cell_type": "code",
      "source": [
        "'''\n",
        "A generator-function is defined like a normal function, but whenever it needs to generate a value, it does so with the yield \n",
        "keyword  rather than return. If the body of a def contains yield, the function automatically becomes a generator function. \n",
        "'''\n",
        "\n",
        "def simpleGeneratorFun():\n",
        "    yield 1\n",
        "    yield 2\n",
        "    yield 3\n",
        "  \n",
        "x = simpleGeneratorFun()\n",
        "\n",
        "print(next(x)) \n",
        "print(next(x))\n",
        "print(next(x))"
      ],
      "metadata": {
        "colab": {
          "base_uri": "https://localhost:8080/"
        },
        "id": "rWYm4RsnVyt_",
        "outputId": "6d77dcb4-6ebc-439b-c689-ba4e8ae7c226"
      },
      "execution_count": 28,
      "outputs": [
        {
          "output_type": "stream",
          "name": "stdout",
          "text": [
            "1\n",
            "2\n",
            "3\n"
          ]
        }
      ]
    },
    {
      "cell_type": "markdown",
      "source": [
        "## Q5. Create a generator function for prime numbers less than 1000. Use the next() method to print the first 20 prime numbers."
      ],
      "metadata": {
        "id": "_LuzUnRpXH4O"
      }
    },
    {
      "cell_type": "code",
      "source": [
        "# Generator function for prime numbers less than 1000.\n",
        "from math import sqrt\n",
        "\n",
        "def is_prime(n):\n",
        "    if (n <= 1):\n",
        "        return False\n",
        "    if (n == 2):\n",
        "        return True\n",
        "    if (n % 2 == 0):\n",
        "        return False\n",
        "\n",
        "    i = 3\n",
        "    while i <= sqrt(n):\n",
        "        if n % i == 0:\n",
        "            return False\n",
        "        i = i + 2\n",
        "\n",
        "    return True\n",
        "\n",
        "# Generator function.\n",
        "def prime_generator():\n",
        "    n = 1\n",
        "    while True:\n",
        "        n += 1\n",
        "        if is_prime(n):\n",
        "            yield n\n",
        "\n",
        "generator = prime_generator()\n",
        "for i in range(21):\n",
        "    print(next(generator))"
      ],
      "metadata": {
        "colab": {
          "base_uri": "https://localhost:8080/"
        },
        "id": "koi2GQCnXNjU",
        "outputId": "7f260480-bfc3-4ddf-dd04-b6f809379211"
      },
      "execution_count": 31,
      "outputs": [
        {
          "output_type": "stream",
          "name": "stdout",
          "text": [
            "2\n",
            "3\n",
            "5\n",
            "7\n",
            "11\n",
            "13\n",
            "17\n",
            "19\n",
            "23\n",
            "29\n",
            "31\n",
            "37\n",
            "41\n",
            "43\n",
            "47\n",
            "53\n",
            "59\n",
            "61\n",
            "67\n",
            "71\n",
            "73\n"
          ]
        }
      ]
    }
  ]
}