{
  "nbformat": 4,
  "nbformat_minor": 0,
  "metadata": {
    "colab": {
      "provenance": [],
      "authorship_tag": "ABX9TyOgeEzSNw8aQwQ7KqYWZZZr",
      "include_colab_link": true
    },
    "kernelspec": {
      "name": "python3",
      "display_name": "Python 3"
    },
    "language_info": {
      "name": "python"
    }
  },
  "cells": [
    {
      "cell_type": "markdown",
      "metadata": {
        "id": "view-in-github",
        "colab_type": "text"
      },
      "source": [
        "<a href=\"https://colab.research.google.com/github/Arka1212/Data-Science-Assignments/blob/main/Function_Assignment.ipynb\" target=\"_parent\"><img src=\"https://colab.research.google.com/assets/colab-badge.svg\" alt=\"Open In Colab\"/></a>"
      ]
    },
    {
      "cell_type": "markdown",
      "source": [
        "## Q1. Which keyword is used to create a function? Create a function to return a list of odd numbers in the range of 1 to 25."
      ],
      "metadata": {
        "id": "294q6wdWN6xM"
      }
    },
    {
      "cell_type": "code",
      "source": [
        "'''\n",
        "The keyword used to create a function is 'def'\n",
        "'''\n",
        "# Creating a list of numbers ranging from 1 to 25.\n",
        "num_list = []\n",
        "for i in range(1,26):\n",
        "  num_list.append(i)\n",
        "print(num_list)\n",
        "\n",
        "# Creating a function to return a list of odd numbers.\n",
        "def odd_list(n):\n",
        "  odd = []\n",
        "  for num in n:\n",
        "    if num % 2 != 0:\n",
        "      odd.append(num)\n",
        "    else:\n",
        "      pass\n",
        "  return odd\n",
        "\n",
        "print(odd_list(num_list))"
      ],
      "metadata": {
        "colab": {
          "base_uri": "https://localhost:8080/"
        },
        "id": "-pD3oklPOAZQ",
        "outputId": "37ba69ef-e679-4f6b-bdc1-12edbf4a4945"
      },
      "execution_count": 14,
      "outputs": [
        {
          "output_type": "stream",
          "name": "stdout",
          "text": [
            "[1, 2, 3, 4, 5, 6, 7, 8, 9, 10, 11, 12, 13, 14, 15, 16, 17, 18, 19, 20, 21, 22, 23, 24, 25]\n",
            "[1, 3, 5, 7, 9, 11, 13, 15, 17, 19, 21, 23, 25]\n"
          ]
        }
      ]
    }
  ]
}