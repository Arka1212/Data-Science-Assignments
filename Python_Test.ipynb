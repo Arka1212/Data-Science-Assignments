{
  "nbformat": 4,
  "nbformat_minor": 0,
  "metadata": {
    "colab": {
      "provenance": [],
      "authorship_tag": "ABX9TyMGTz5wc6y+QzYYMl10FVvI",
      "include_colab_link": true
    },
    "kernelspec": {
      "name": "python3",
      "display_name": "Python 3"
    },
    "language_info": {
      "name": "python"
    }
  },
  "cells": [
    {
      "cell_type": "markdown",
      "metadata": {
        "id": "view-in-github",
        "colab_type": "text"
      },
      "source": [
        "<a href=\"https://colab.research.google.com/github/Arka1212/Data-Science-Assignments/blob/main/Python_Test.ipynb\" target=\"_parent\"><img src=\"https://colab.research.google.com/assets/colab-badge.svg\" alt=\"Open In Colab\"/></a>"
      ]
    },
    {
      "cell_type": "markdown",
      "source": [
        "## Q1. Write a Python program that defines a function called \"add_numbers\" that takes two arguments (i.e., numbers) and returns their sum. Within the function, add the two numbers together and return the result using the return statement. Call the function with the values 5 and 6, and print out the returned result.\n",
        "\n",
        "## This will result in the addition of 5 and 6, with the output of the program being the sum of these two numbers."
      ],
      "metadata": {
        "id": "G9k4ThQu7QCg"
      }
    },
    {
      "cell_type": "code",
      "source": [
        "# Code.\n",
        "def add_numbers(n1, n2):\n",
        "  '''\n",
        "  Takes two areguments and returns their sum.\n",
        "  '''\n",
        "  add = n1 + n2\n",
        "  return add\n",
        "\n",
        "# Use Case.\n",
        "print(add_numbers(5,6))"
      ],
      "metadata": {
        "colab": {
          "base_uri": "https://localhost:8080/"
        },
        "id": "gZY3GINh7a0l",
        "outputId": "f2987277-dd28-4c43-9872-c041a11b6198"
      },
      "execution_count": 1,
      "outputs": [
        {
          "output_type": "stream",
          "name": "stdout",
          "text": [
            "11\n"
          ]
        }
      ]
    },
    {
      "cell_type": "markdown",
      "source": [
        "## Q2. Write a Python program that calculates the square root of a given number using a built-in function. Specifically, the program should take an integer or float input from the user, calculate its square root using the 'sqrt()' function from the 'math' module, and print out the result to the user.\n",
        "\n",
        "## As an example, calculate the square root of the number 625 using this program, which should output the value of 25."
      ],
      "metadata": {
        "id": "h4IxziCM7ejM"
      }
    },
    {
      "cell_type": "code",
      "source": [
        "# Code.\n",
        "def sq_root(n):\n",
        "  '''\n",
        "  Takes a number and calculates the square root of the particular number.\n",
        "  '''\n",
        "  import math\n",
        "  root_value = math.sqrt(n)\n",
        "  return root_value\n",
        "\n",
        "# Use Case.\n",
        "print(sq_root(625))"
      ],
      "metadata": {
        "colab": {
          "base_uri": "https://localhost:8080/"
        },
        "id": "xz6d4bxN8BIx",
        "outputId": "19a1e1d3-6806-4d7b-f626-1587f290649d"
      },
      "execution_count": 2,
      "outputs": [
        {
          "output_type": "stream",
          "name": "stdout",
          "text": [
            "25.0\n"
          ]
        }
      ]
    },
    {
      "cell_type": "markdown",
      "source": [
        "## Q3.Write a program that prints all prime numbers between 0 to 50."
      ],
      "metadata": {
        "id": "nqxYqH1L8Bp6"
      }
    },
    {
      "cell_type": "code",
      "source": [
        "# Code.\n",
        "for num in range(2,51):\n",
        "  is_prime = True\n",
        "  for i in range(2,num):\n",
        "    if num % i == 0:\n",
        "      is_prime = False\n",
        "      break\n",
        "  if is_prime:\n",
        "    print(num)"
      ],
      "metadata": {
        "colab": {
          "base_uri": "https://localhost:8080/"
        },
        "id": "EpOr2WAt8E7Z",
        "outputId": "b776f8b6-a2d2-40f4-c7bb-cdb192ad8b72"
      },
      "execution_count": 3,
      "outputs": [
        {
          "output_type": "stream",
          "name": "stdout",
          "text": [
            "2\n",
            "3\n",
            "5\n",
            "7\n",
            "11\n",
            "13\n",
            "17\n",
            "19\n",
            "23\n",
            "29\n",
            "31\n",
            "37\n",
            "41\n",
            "43\n",
            "47\n"
          ]
        }
      ]
    },
    {
      "cell_type": "markdown",
      "source": [
        "## Q4.How can we swap the values of three variables (let's say a, b, and c) without using a fourth variable?\n",
        "\n",
        "## For example, if we have a=5, b=8, and c=9, how can we obtain a=9, b=5, and c=8? The challenge is to perform this operation without using an additional variable to store any of the values during the swapping process."
      ],
      "metadata": {
        "id": "ovrtBiO38FiB"
      }
    },
    {
      "cell_type": "code",
      "source": [
        "# Code.\n",
        "a = 5\n",
        "b = 8\n",
        "c = 9\n",
        "a, b, c = c, a, b\n",
        "\n",
        "print(\"a =\", a)\n",
        "print(\"b =\", b)\n",
        "print(\"c =\", c)"
      ],
      "metadata": {
        "colab": {
          "base_uri": "https://localhost:8080/"
        },
        "id": "BpWmu8E08Mv0",
        "outputId": "1486a25a-83f8-4ac5-9419-81e2443ad0bc"
      },
      "execution_count": 4,
      "outputs": [
        {
          "output_type": "stream",
          "name": "stdout",
          "text": [
            "a = 9\n",
            "b = 5\n",
            "c = 8\n"
          ]
        }
      ]
    },
    {
      "cell_type": "markdown",
      "source": [
        "## Q5. Can you write a program that determines the nature of a given number (in this case, 87) as being positive, negative, or zero? The program should be designed to take the number as input and perform the necessary calculations to determine if the number is positive (i.e., greater than zero), negative (i.e., less than zero), or zero (i.e., equal to zero). The output of the program should indicate which of these three categories the given number falls into."
      ],
      "metadata": {
        "id": "nBDFnQZM8PdM"
      }
    },
    {
      "cell_type": "code",
      "source": [
        "# Code.\n",
        "def num_nature():\n",
        "  '''\n",
        "  Takes input as a number and checks the nature of the number.\n",
        "  '''\n",
        "  # User input.\n",
        "  num = int(input('Mention the number: '))\n",
        "\n",
        "  # Conditionals.\n",
        "  if num > 0:\n",
        "    print('Number is positive')\n",
        "  elif num < 0:\n",
        "    print('Number is negative')\n",
        "  elif num == 0:\n",
        "    print('Number is equal to zero')\n",
        "\n",
        "# Use Case.\n",
        "num_nature()"
      ],
      "metadata": {
        "colab": {
          "base_uri": "https://localhost:8080/"
        },
        "id": "d9-ESD9f8W2G",
        "outputId": "431a42e3-e857-4206-e33c-a11123132076"
      },
      "execution_count": 5,
      "outputs": [
        {
          "output_type": "stream",
          "name": "stdout",
          "text": [
            "Mention the number: 34\n",
            "Number is positive\n"
          ]
        }
      ]
    },
    {
      "cell_type": "markdown",
      "source": [
        "# Q6. How can you create a program that determines whether a given number (in this case, 98) is even or odd? The program should be designed to take the number as input and perform the necessary calculations to determine whether it is divisible by two. If the number is divisible by two without leaving a remainder, it is an even number, and if there is a remainder, it is an odd number. The output of the program should indicate whether the given number is even or odd."
      ],
      "metadata": {
        "id": "2SevARwtonR-"
      }
    },
    {
      "cell_type": "code",
      "source": [
        "# Code.\n",
        "def odd_even_checker():\n",
        "  '''\n",
        "  Takes the number as input and outputs the information whether the number is even or odd\n",
        "  '''\n",
        "  user_input = int(input('Mention the number: '))\n",
        "\n",
        "  # Coditionals\n",
        "  if user_input % 2 == 0:\n",
        "    print(f'{user_input} is an even number')\n",
        "  else:\n",
        "    print(f'{user_input} is an odd number')\n",
        "\n",
        "# Use case.\n",
        "odd_even_checker()"
      ],
      "metadata": {
        "colab": {
          "base_uri": "https://localhost:8080/"
        },
        "id": "UqkAnYb0oyIy",
        "outputId": "7d9a45cc-fcff-4633-92c0-232f6d2fc2d4"
      },
      "execution_count": 6,
      "outputs": [
        {
          "output_type": "stream",
          "name": "stdout",
          "text": [
            "Mention the number: 44\n",
            "44 is an even number\n"
          ]
        }
      ]
    },
    {
      "cell_type": "markdown",
      "source": [
        "# Q7.Write a program for sum of digits.The digits are 76543 and the output should be 25."
      ],
      "metadata": {
        "id": "v-_vfb9zo3RW"
      }
    },
    {
      "cell_type": "code",
      "source": [
        "# Code\n",
        "def sum_of_digits():\n",
        "  '''\n",
        "  Takes the digits of the number and sums it up to return the value\n",
        "  '''\n",
        "  user_inp = input('Mention the number: ')\n",
        "  l = list(user_inp)\n",
        "  new_l = []\n",
        "  for i in l:\n",
        "    new_l.append(int(i))\n",
        "  print(sum(new_l))\n",
        "\n",
        "# Use Case.\n",
        "sum_of_digits()"
      ],
      "metadata": {
        "colab": {
          "base_uri": "https://localhost:8080/"
        },
        "id": "MIQVwLO2o6TG",
        "outputId": "a8d3761b-4ce7-4fe4-a7eb-e9aff972e4ef"
      },
      "execution_count": 7,
      "outputs": [
        {
          "output_type": "stream",
          "name": "stdout",
          "text": [
            "Mention the number: 45678\n",
            "30\n"
          ]
        }
      ]
    },
    {
      "cell_type": "markdown",
      "source": [
        "# Q8.Write a program for reversing the given number 5436 and the output should be 6345."
      ],
      "metadata": {
        "id": "yXlxZQD4o6oq"
      }
    },
    {
      "cell_type": "code",
      "source": [
        "# Code.\n",
        "def reverse_num():\n",
        "  '''\n",
        "  Takes the number and diasplays the reverse number\n",
        "  '''\n",
        "  user_inp = input('Mention the number: ')\n",
        "  reverse_user_inp = user_inp[::-1]\n",
        "  print(int(reverse_user_inp))\n",
        "\n",
        "# Use Case.\n",
        "reverse_num()"
      ],
      "metadata": {
        "colab": {
          "base_uri": "https://localhost:8080/"
        },
        "id": "6e8bhT7ZpAmI",
        "outputId": "b185da28-546d-4506-efac-ca295779ee8f"
      },
      "execution_count": 8,
      "outputs": [
        {
          "output_type": "stream",
          "name": "stdout",
          "text": [
            "Mention the number: 12345\n",
            "54321\n"
          ]
        }
      ]
    },
    {
      "cell_type": "markdown",
      "source": [
        "# Q9.Write a program to check if a given number 371 is an Armstrong number?"
      ],
      "metadata": {
        "id": "7FKCW0_ApE0r"
      }
    },
    {
      "cell_type": "code",
      "source": [
        "# Code.\n",
        "def arms_check():\n",
        "  '''\n",
        "  Takes the number and checks whether its an armstrong number or not\n",
        "  '''\n",
        "  user_inp = input('Mention the numnber: ')\n",
        "  num_len = len(user_inp)\n",
        "  num_list = list(user_inp)\n",
        "  value_list = []\n",
        "\n",
        "  for i in num_list:\n",
        "    value_list.append(int(i)**num_len)\n",
        "\n",
        "  total_value = sum(value_list)\n",
        "  if int(user_inp) == total_value:\n",
        "    print(f'{user_inp} is an armstrong number')\n",
        "  else:\n",
        "    print(f'{user_inp} is not an armstrong number')\n",
        "\n",
        "# Use Case.\n",
        "arms_check()"
      ],
      "metadata": {
        "colab": {
          "base_uri": "https://localhost:8080/"
        },
        "id": "gt_qe2DKpHMz",
        "outputId": "69613926-e5de-4308-f6dd-0d725864fd30"
      },
      "execution_count": 9,
      "outputs": [
        {
          "output_type": "stream",
          "name": "stdout",
          "text": [
            "Mention the numnber: 629\n",
            "629 is not an armstrong number\n"
          ]
        }
      ]
    },
    {
      "cell_type": "markdown",
      "source": [
        "# Q10. Write a program the given year is 1996, a leap year."
      ],
      "metadata": {
        "id": "OBXoF9QwpIrn"
      }
    },
    {
      "cell_type": "code",
      "source": [
        "# Code.\n",
        "def leap_test(year):\n",
        "  '''\n",
        "  Take year as an argument and checks whether that is a leap year or not\n",
        "  '''\n",
        "  if year % 4 == 0:\n",
        "    print(f'{year} is a leap year')\n",
        "  elif year % 400 == 0:\n",
        "    print(f'{year} is a leap year')\n",
        "  else:\n",
        "    print(f'{year} is not a leap year')\n",
        "\n",
        "# Use Case.\n",
        "leap_test(1996)"
      ],
      "metadata": {
        "colab": {
          "base_uri": "https://localhost:8080/"
        },
        "id": "1qtB15yApLiH",
        "outputId": "4dd393ca-adcd-4143-a5ee-652809764443"
      },
      "execution_count": 10,
      "outputs": [
        {
          "output_type": "stream",
          "name": "stdout",
          "text": [
            "1996 is a leap year\n"
          ]
        }
      ]
    },
    {
      "cell_type": "markdown",
      "source": [
        "# Q11. Create a list in python using the followings: 2,3,4,5,6,7 with variable ‘a’\n",
        "\n",
        "##Add ‘mango to the above list. Also add banana, grapes & orange in the list insert apple in the 5th position of a variable ‘a’ Remove last item from the list"
      ],
      "metadata": {
        "id": "aFGqZwCbzS0C"
      }
    },
    {
      "cell_type": "code",
      "source": [
        "# Code.\n",
        "a = [2,3,4,5,6,7]\n",
        "\n",
        "# Adding 'Mango', 'Banana', 'Grapes' & 'Orange'.\n",
        "a.append('Mango')\n",
        "a.append('Banana')\n",
        "a.append('Grapes')\n",
        "a.append('Orange')\n",
        "\n",
        "# Inserting 'Apple' in 5th position.\n",
        "a[5] = 'Apple'\n",
        "print(a)\n",
        "\n",
        "# Removing last item from list.\n",
        "a.pop()\n",
        "print(a)"
      ],
      "metadata": {
        "colab": {
          "base_uri": "https://localhost:8080/"
        },
        "id": "3DS4OBVUzUL7",
        "outputId": "461a0fc8-4826-4637-dc37-db121ea215ac"
      },
      "execution_count": 11,
      "outputs": [
        {
          "output_type": "stream",
          "name": "stdout",
          "text": [
            "[2, 3, 4, 5, 6, 'Apple', 'Mango', 'Banana', 'Grapes', 'Orange']\n",
            "[2, 3, 4, 5, 6, 'Apple', 'Mango', 'Banana', 'Grapes']\n"
          ]
        }
      ]
    },
    {
      "cell_type": "markdown",
      "source": [
        "# Q12.L = [1,2,3,4,5,6,7]. Using the above list slice from 1:4"
      ],
      "metadata": {
        "id": "2al3Jk0FzUpL"
      }
    },
    {
      "cell_type": "code",
      "source": [
        "# Code.\n",
        "L = [1,2,3,4,5,6,7]\n",
        "sliced_L = L[1:4]\n",
        "print(sliced_L)"
      ],
      "metadata": {
        "colab": {
          "base_uri": "https://localhost:8080/"
        },
        "id": "VeNsk-0gziVZ",
        "outputId": "26ebd928-ffd6-43cb-b127-bab1acf3852d"
      },
      "execution_count": 12,
      "outputs": [
        {
          "output_type": "stream",
          "name": "stdout",
          "text": [
            "[2, 3, 4]\n"
          ]
        }
      ]
    },
    {
      "cell_type": "markdown",
      "source": [
        "# Q13. Reverse the order of given string L = [4,5,6,8,3] Without using reverse() function."
      ],
      "metadata": {
        "id": "n7IRfv0qziyV"
      }
    },
    {
      "cell_type": "code",
      "source": [
        "# Code.\n",
        "L = [4,5,6,8,3]\n",
        "L_reverse = L[::-1]\n",
        "print(L_reverse)"
      ],
      "metadata": {
        "colab": {
          "base_uri": "https://localhost:8080/"
        },
        "id": "vP-hXNvozk9s",
        "outputId": "c328308f-b4c9-490e-ef0d-57f40762273c"
      },
      "execution_count": 13,
      "outputs": [
        {
          "output_type": "stream",
          "name": "stdout",
          "text": [
            "[3, 8, 6, 5, 4]\n"
          ]
        }
      ]
    },
    {
      "cell_type": "markdown",
      "source": [
        "# Q14. Use list comprehension to square the given list L=[2,4,7,3,6,8]"
      ],
      "metadata": {
        "id": "64cNgs7fzlVA"
      }
    },
    {
      "cell_type": "code",
      "source": [
        "# Code.\n",
        "L = [2,4,7,3,6,8]\n",
        "sq_L = [numbers**2 for numbers in L]\n",
        "print(sq_L)"
      ],
      "metadata": {
        "colab": {
          "base_uri": "https://localhost:8080/"
        },
        "id": "Mjaoe3dDznZF",
        "outputId": "99f20bbd-1cfc-4e90-97c3-91400016de14"
      },
      "execution_count": 14,
      "outputs": [
        {
          "output_type": "stream",
          "name": "stdout",
          "text": [
            "[4, 16, 49, 9, 36, 64]\n"
          ]
        }
      ]
    },
    {
      "cell_type": "markdown",
      "source": [
        "# Q15. Create a function that takes in a tuple of integers and returns the sum of the integers. Test the function with a tuple of your choice."
      ],
      "metadata": {
        "id": "A_o5pBKGznrw"
      }
    },
    {
      "cell_type": "code",
      "source": [
        "# Code.\n",
        "def tuple_sum(tuple):\n",
        "  '''\n",
        "  Takes in a tuple of integers and returns the sum of the integers.\n",
        "  '''\n",
        "  add_tuple = sum(tuple)\n",
        "  return f'Sum of all the elements in the tuple is {add_tuple}'\n",
        "\n",
        "# Use Case.\n",
        "random_tuple = (76,34,96,13)\n",
        "tuple_sum(random_tuple)"
      ],
      "metadata": {
        "colab": {
          "base_uri": "https://localhost:8080/",
          "height": 36
        },
        "id": "-S2-D_j6ztkc",
        "outputId": "4b2dc28f-adb2-406d-832d-6349f3a263b7"
      },
      "execution_count": 15,
      "outputs": [
        {
          "output_type": "execute_result",
          "data": {
            "text/plain": [
              "'Sum of all the elements in the tuple is 219'"
            ],
            "application/vnd.google.colaboratory.intrinsic+json": {
              "type": "string"
            }
          },
          "metadata": {},
          "execution_count": 15
        }
      ]
    },
    {
      "cell_type": "markdown",
      "source": [
        "# Q16. Create two sets of your favorite fruits, and use the union() method to combine them into a single set. Print the resulting set to the console."
      ],
      "metadata": {
        "id": "Z5elW3SfzuT3"
      }
    },
    {
      "cell_type": "code",
      "source": [
        "# Code.\n",
        "fruit_set = {'Guava', 'Mango'}\n",
        "fruit_set_1 = {'Apple', 'Banana'}\n",
        "\n",
        "# Union of two sets.\n",
        "union_set = fruit_set.union(fruit_set_1)\n",
        "print(union_set)"
      ],
      "metadata": {
        "colab": {
          "base_uri": "https://localhost:8080/"
        },
        "id": "B7tfrihyzygE",
        "outputId": "8d2d07ba-2084-4356-cf6f-edb45a7cd68f"
      },
      "execution_count": 16,
      "outputs": [
        {
          "output_type": "stream",
          "name": "stdout",
          "text": [
            "{'Mango', 'Banana', 'Apple', 'Guava'}\n"
          ]
        }
      ]
    },
    {
      "cell_type": "markdown",
      "source": [
        "# Q17. Create a set of random words, and use the add() method to add a new word to the set. Print the resulting set to the console."
      ],
      "metadata": {
        "id": "gcPCPrOSzzMF"
      }
    },
    {
      "cell_type": "code",
      "source": [
        "# Code.\n",
        "random_words = {'Pretense', 'Sycophant', 'Tome', 'Plethora'}\n",
        "\n",
        "# Adding new word.\n",
        "random_words.add('Candor')\n",
        "print(random_words)"
      ],
      "metadata": {
        "colab": {
          "base_uri": "https://localhost:8080/"
        },
        "id": "EpGC7sMfz2Wl",
        "outputId": "363ccd43-4741-48e5-ef8d-1bcb59503fe6"
      },
      "execution_count": 17,
      "outputs": [
        {
          "output_type": "stream",
          "name": "stdout",
          "text": [
            "{'Pretense', 'Candor', 'Tome', 'Plethora', 'Sycophant'}\n"
          ]
        }
      ]
    },
    {
      "cell_type": "markdown",
      "source": [
        "# Q18. Create a set of your favorite animals, and use the remove() method to remove one animal from the set. Print the resulting set to the console."
      ],
      "metadata": {
        "id": "MMfy5mJfz258"
      }
    },
    {
      "cell_type": "code",
      "source": [
        "# Code.\n",
        "animals = {'Cheetah', 'Gorilla', 'Ghariyal', 'Coyote'}\n",
        "\n",
        "# Removing one element.\n",
        "animals.remove('Gorilla')\n",
        "print(animals)"
      ],
      "metadata": {
        "colab": {
          "base_uri": "https://localhost:8080/"
        },
        "id": "MdI7BBnAz57e",
        "outputId": "94b04dd3-8183-45a4-b117-f325222c4ee5"
      },
      "execution_count": 18,
      "outputs": [
        {
          "output_type": "stream",
          "name": "stdout",
          "text": [
            "{'Coyote', 'Cheetah', 'Ghariyal'}\n"
          ]
        }
      ]
    },
    {
      "cell_type": "markdown",
      "source": [
        "# Q19. favorite_books = {\"1984\", \"To Kill a Mockingbird\", \"Pride and Prejudice\"} favorite_movies = [\"The Shawshank Redemption\", \"The Godfather\", \"The Dark Knight\"]\n",
        "#Use the zip() function to combine the book set and movie list into a list of tuples representing book/ movie pairs. Print the resulting list."
      ],
      "metadata": {
        "id": "OWQ8o19Xz6tW"
      }
    },
    {
      "cell_type": "code",
      "source": [
        "# Code.\n",
        "favorite_books = {\"1984\", \"To Kill a Mockingbird\", \"Pride and Prejudice\"}\n",
        "favorite_movies = [\"The Shawshank Redemption\", \"The Godfather\", \"The Dark Knight\"]\n",
        "\n",
        "# Zipping the set and list.\n",
        "zip_list = list(zip(favorite_books, favorite_movies))\n",
        "print(zip_list)"
      ],
      "metadata": {
        "colab": {
          "base_uri": "https://localhost:8080/"
        },
        "id": "Nfbhg1oY0AQR",
        "outputId": "7bd1d4c5-86f8-4dfa-d2df-2fe425544573"
      },
      "execution_count": 19,
      "outputs": [
        {
          "output_type": "stream",
          "name": "stdout",
          "text": [
            "[('To Kill a Mockingbird', 'The Shawshank Redemption'), ('Pride and Prejudice', 'The Godfather'), ('1984', 'The Dark Knight')]\n"
          ]
        }
      ]
    },
    {
      "cell_type": "markdown",
      "source": [
        "# Q20. Write a Python program to find the difference between consecutive numbers in a list."
      ],
      "metadata": {
        "id": "CSQiB19T0Aoq"
      }
    },
    {
      "cell_type": "code",
      "source": [
        "# Code.\n",
        "con_list = [33,51,66,44]\n",
        "\n",
        "dif_list = []\n",
        "for i in range(len(con_list) - 1):\n",
        "    dif = con_list[i+1] - con_list[i]\n",
        "    dif_list.append(dif)\n",
        "\n",
        "print(dif_list)"
      ],
      "metadata": {
        "colab": {
          "base_uri": "https://localhost:8080/"
        },
        "id": "lG6rDaD70E2y",
        "outputId": "ffbc79f7-32ea-48ed-d16a-ef34bd23fad9"
      },
      "execution_count": 20,
      "outputs": [
        {
          "output_type": "stream",
          "name": "stdout",
          "text": [
            "[18, 15, -22]\n"
          ]
        }
      ]
    },
    {
      "cell_type": "markdown",
      "source": [
        "# Q21. Create a dictionary called fruits with the following key-value pairs:\n",
        "# \"apple\": 0.75\n",
        "# \"banana\": 1.25\n",
        "# \"orange\": 0.90\n",
        "# Then, print out the price of a banana."
      ],
      "metadata": {
        "id": "jfsne8AVEvXB"
      }
    },
    {
      "cell_type": "code",
      "source": [
        "# Code.\n",
        "fruits = ['apple', 'banana', 'orange']\n",
        "price = [0.75, 1.25, 0.90]\n",
        "\n",
        "fruit_dic = dict(zip(fruits, price))\n",
        "print(fruit_dic)\n",
        "\n",
        "# Printing 'Banana' price.\n",
        "print(f'Price of Banana is {fruit_dic[\"banana\"]}')"
      ],
      "metadata": {
        "colab": {
          "base_uri": "https://localhost:8080/"
        },
        "id": "2xbVgNotFOqk",
        "outputId": "39c02244-18a0-41eb-842c-f7e563ae45f4"
      },
      "execution_count": 21,
      "outputs": [
        {
          "output_type": "stream",
          "name": "stdout",
          "text": [
            "{'apple': 0.75, 'banana': 1.25, 'orange': 0.9}\n",
            "Price of Banana is 1.25\n"
          ]
        }
      ]
    },
    {
      "cell_type": "markdown",
      "source": [
        "# Q22. Create an empty dictionary called ages. Add the following key-value pairs to the dictionary:\n",
        "# \"Alice\": 30\n",
        "# \"Bob\": 25\n",
        "# \"Charlie\": 35\n",
        "# Then, print out the age of Charlie."
      ],
      "metadata": {
        "id": "Z27QfLs9FPQq"
      }
    },
    {
      "cell_type": "code",
      "source": [
        "# Code.\n",
        "emp_dic = {}\n",
        "emp_dic['Alice'] = 30\n",
        "emp_dic['Bob'] = 25\n",
        "emp_dic['Charlie'] = 35\n",
        "print(emp_dic)\n",
        "\n",
        "# Age of Charlie.\n",
        "print(f'Age of Charlie is {emp_dic[\"Charlie\"]}')"
      ],
      "metadata": {
        "colab": {
          "base_uri": "https://localhost:8080/"
        },
        "id": "WnziY9AsFWpn",
        "outputId": "8b4533bc-8e23-43fa-85aa-9e1c77ae9231"
      },
      "execution_count": 22,
      "outputs": [
        {
          "output_type": "stream",
          "name": "stdout",
          "text": [
            "{'Alice': 30, 'Bob': 25, 'Charlie': 35}\n",
            "Age of Charlie is 35\n"
          ]
        }
      ]
    },
    {
      "cell_type": "markdown",
      "source": [
        "# Q23. Write a function called word_count(text) that takes a string as input and returns a dictionary whereEach key is a word in the text and its value is the number of times that word appears in the text.Forfor example, word_count(\"hello world hello\") should return {\"hello\": 2, \"world\": 1}."
      ],
      "metadata": {
        "id": "aBPdjGUZFX_K"
      }
    },
    {
      "cell_type": "code",
      "source": [
        "# Code.\n",
        "def word_count(text):\n",
        "  '''\n",
        "  Takes a string as input and returns a dictionary where each key is a word in the text and its value is the number of times that word\n",
        "  appears in the text.\n",
        "  '''\n",
        "  # Splitting the string into list.\n",
        "  uniform_str = text.lower()\n",
        "  l = uniform_str.split(' ')\n",
        "\n",
        "  # Empty dictionary to store key-value pairs.\n",
        "  d = {}\n",
        "\n",
        "  # Looping to find the count.\n",
        "  for k in l:\n",
        "    count = l.count(k)\n",
        "    d[k] = count\n",
        "\n",
        "  print(d)\n",
        "\n",
        "# Use Case.\n",
        "word_count('hello world hello bowl can cowl bowl bowl cowl can')"
      ],
      "metadata": {
        "colab": {
          "base_uri": "https://localhost:8080/"
        },
        "id": "W2WZsGSHFedS",
        "outputId": "adbc8f40-cbd6-4c59-a4ac-adb3ef47a37f"
      },
      "execution_count": 23,
      "outputs": [
        {
          "output_type": "stream",
          "name": "stdout",
          "text": [
            "{'hello': 2, 'world': 1, 'bowl': 3, 'can': 2, 'cowl': 2}\n"
          ]
        }
      ]
    },
    {
      "cell_type": "markdown",
      "source": [
        "# Q24. Create a dictionary called phone_book with the following key-value pairs:\n",
        "# \"Alice\": \"555-1234\"\n",
        "# \"Bob\": \"555-5678\"\n",
        "# \"Charlie\": \"555-9012\"\n",
        "# Then, prompt the user to enter a name and print out the corresponding phone number. If the name is not in the phone book, print out a message saying that the name was not found."
      ],
      "metadata": {
        "id": "bvUp-VlsFisz"
      }
    },
    {
      "cell_type": "code",
      "source": [
        "# Code.\n",
        "e = {\"Alice\":\"555-1234\", \"Bob\":\"555-5678\", \"Charlie\":\"555-9012\"}\n",
        "\n",
        "# Code to extract number.\n",
        "name_inp = input('Mention the name: ').capitalize()\n",
        "\n",
        "if name_inp in e.keys():\n",
        "  print(e[name_inp])\n",
        "else:\n",
        "  print('Name not found')"
      ],
      "metadata": {
        "colab": {
          "base_uri": "https://localhost:8080/"
        },
        "id": "Dnfyw7dnFvin",
        "outputId": "01d105af-7550-4ae3-8ef8-cd3eee191a89"
      },
      "execution_count": 24,
      "outputs": [
        {
          "output_type": "stream",
          "name": "stdout",
          "text": [
            "Mention the name: Alice\n",
            "555-1234\n"
          ]
        }
      ]
    },
    {
      "cell_type": "markdown",
      "source": [
        "# Q25. Write a program that prompts the user to enter a number between 1 and 10. If the number is less than 5, print out \"Too low!\", otherwise print out \"Too high!\"."
      ],
      "metadata": {
        "id": "72ZyC3wwFxA8"
      }
    },
    {
      "cell_type": "code",
      "source": [
        "# Code.\n",
        "num = int(input('Mention a number between 1 to 10: '))\n",
        "if num < 5:\n",
        "  print('Too Low')\n",
        "else:\n",
        "  print('Too High')"
      ],
      "metadata": {
        "colab": {
          "base_uri": "https://localhost:8080/"
        },
        "id": "FvoxniH-F1Kq",
        "outputId": "51bd35c1-806f-4821-bbe8-06b900669a50"
      },
      "execution_count": 25,
      "outputs": [
        {
          "output_type": "stream",
          "name": "stdout",
          "text": [
            "Mention a number between 1 to 10: 6\n",
            "Too High\n"
          ]
        }
      ]
    },
    {
      "cell_type": "markdown",
      "source": [
        "# Q26. Write a program that prompts the user to enter a password. If the password is \"password123\", print out \"Access granted\", otherwise print out \"Access denied\"."
      ],
      "metadata": {
        "id": "wEzIXscUF1gs"
      }
    },
    {
      "cell_type": "code",
      "source": [
        "# Code.\n",
        "pw = input('Insert the password: ')\n",
        "if pw == 'password123':\n",
        "  print('ACCESS GRANTED')\n",
        "else:\n",
        "  print('ACCESS DENIED')"
      ],
      "metadata": {
        "colab": {
          "base_uri": "https://localhost:8080/"
        },
        "id": "7qoSE85oF6Ow",
        "outputId": "f8cc8322-7428-46b2-ec24-d8544f074c67"
      },
      "execution_count": 26,
      "outputs": [
        {
          "output_type": "stream",
          "name": "stdout",
          "text": [
            "Insert the password: lopas\n",
            "ACCESS DENIED\n"
          ]
        }
      ]
    },
    {
      "cell_type": "markdown",
      "source": [
        "# Q27. Write a program that prompts the user to enter a positive integer. Then, use a loop to print out all the odd numbers from 1 to that integer."
      ],
      "metadata": {
        "id": "7J65_bxMF6oP"
      }
    },
    {
      "cell_type": "code",
      "source": [
        "# Code.\n",
        "user_inp = int(input('Type a positive integer: '))\n",
        "\n",
        "if user_inp < 0:\n",
        "  print(\"It is not a positive integer\")\n",
        "elif user_inp > 0:\n",
        "  odd_list = []\n",
        "  for i in range(1, user_inp):\n",
        "    if i % 2 != 0:\n",
        "      odd_list.append(i)\n",
        "    else:\n",
        "      pass\n",
        "  print(odd_list)"
      ],
      "metadata": {
        "colab": {
          "base_uri": "https://localhost:8080/"
        },
        "id": "BbM-ne46F9VJ",
        "outputId": "fa571ab2-eafe-4b29-cad8-c1e461d16965"
      },
      "execution_count": 27,
      "outputs": [
        {
          "output_type": "stream",
          "name": "stdout",
          "text": [
            "Type a positive integer: 29\n",
            "[1, 3, 5, 7, 9, 11, 13, 15, 17, 19, 21, 23, 25, 27]\n"
          ]
        }
      ]
    },
    {
      "cell_type": "markdown",
      "source": [
        "# Q28. Write a program that generates a random number between 1 and 100 and then prompts the user to guess the number. If the user's guess is too low, print out \"Too low!\", if the guess is too high,print out \"Too high!\", and if the guess is correct, print out \"You win!\"."
      ],
      "metadata": {
        "id": "m_MR0KlMF9yF"
      }
    },
    {
      "cell_type": "code",
      "source": [
        "# Code.\n",
        "import random\n",
        "rand = random.randint(1,100)\n",
        "\n",
        "# Number Guessing.\n",
        "g = int(input('Guess the number: '))\n",
        "if g == rand:\n",
        "  print('You Win')\n",
        "elif g < rand - 20:\n",
        "  print('Too Low')\n",
        "elif g > rand + 20:\n",
        "  print('Too High')\n",
        "else:\n",
        "  pass"
      ],
      "metadata": {
        "colab": {
          "base_uri": "https://localhost:8080/"
        },
        "id": "_Ppah5cDGD30",
        "outputId": "05676c47-00f7-4ed0-8868-b1e9b7c02104"
      },
      "execution_count": 28,
      "outputs": [
        {
          "name": "stdout",
          "output_type": "stream",
          "text": [
            "Guess the number: 45\n"
          ]
        }
      ]
    },
    {
      "cell_type": "markdown",
      "source": [
        "# Q29. Write a program that generates a random number between 1 and 10 and then prompts the user to guess the number. The user has three attempts to guess the number. If the user guesses correctly within three attempts, print out \"You win!\", otherwise print out \"You lose!\"."
      ],
      "metadata": {
        "id": "Z4fmi-cgGEXG"
      }
    },
    {
      "cell_type": "code",
      "source": [
        "# Code.\n",
        "import random\n",
        "rand = random.randint(1,10)\n",
        "attempts = 3\n",
        "\n",
        "# Number Guessing.\n",
        "for i in range(1, attempts + 1):\n",
        "  guess = int(input('Guess the number: '))\n",
        "  if guess == rand:\n",
        "    print('You win')\n",
        "    break\n",
        "  elif i < attempts:\n",
        "    print('Wrong guess')\n",
        "  else:\n",
        "    print('You Lose')"
      ],
      "metadata": {
        "colab": {
          "base_uri": "https://localhost:8080/"
        },
        "id": "A_6uJXu_GI4H",
        "outputId": "4164b691-7e02-4211-dcf4-d11fdaf3c44b"
      },
      "execution_count": 29,
      "outputs": [
        {
          "output_type": "stream",
          "name": "stdout",
          "text": [
            "Guess the number: 39\n",
            "Wrong guess\n",
            "Guess the number: 75\n",
            "Wrong guess\n",
            "Guess the number: 56\n",
            "You Lose\n"
          ]
        }
      ]
    },
    {
      "cell_type": "markdown",
      "source": [
        "# Q30. Write a program that prompts the user to enter their age and then prints out whether they are a child (age 0-12), a teenager (age 13-19), an adult (age 20-59), or a senior (age 60+)"
      ],
      "metadata": {
        "id": "rA3bR3WnGJro"
      }
    },
    {
      "cell_type": "code",
      "source": [
        "# Code.\n",
        "m = int(input('Mention your age: '))\n",
        "if 0 < m <= 12:\n",
        "  print('Child')\n",
        "elif 13 < m <= 19:\n",
        "  print('Teenager')\n",
        "elif 20 < m <= 59:\n",
        "  print('Adult')\n",
        "elif m > 60:\n",
        "  print('Senior')\n",
        "else:\n",
        "  pass"
      ],
      "metadata": {
        "colab": {
          "base_uri": "https://localhost:8080/"
        },
        "id": "vP6rXGZNGM3T",
        "outputId": "6e7713d0-85c8-47bf-ba4f-cae4632130d5"
      },
      "execution_count": 30,
      "outputs": [
        {
          "output_type": "stream",
          "name": "stdout",
          "text": [
            "Mention your age: 35\n",
            "Adult\n"
          ]
        }
      ]
    },
    {
      "cell_type": "markdown",
      "source": [
        "# Q31. Create a class called \"Person\" with properties for \"name\", \"age\", and \"gender\". Create an object of this class and print out its properties."
      ],
      "metadata": {
        "id": "0Y_MDj5GGNnb"
      }
    },
    {
      "cell_type": "code",
      "source": [
        "# Code.\n",
        "class Person:\n",
        "  def __init__(self, name, age, gender):\n",
        "    self.name = name\n",
        "    self.age = age\n",
        "    self.gender = gender\n",
        "\n",
        "# Creating object.\n",
        "person_obj = Person('Sayan Bandopadhyay', 25, 'Male')\n",
        "\n",
        "# Printing properties of object.\n",
        "print(f'Name of the person is {person_obj.name}')\n",
        "print(f'Age of the person is {person_obj.age}')\n",
        "print(f'Gender of the person is {person_obj.gender}')"
      ],
      "metadata": {
        "colab": {
          "base_uri": "https://localhost:8080/"
        },
        "id": "0TQkOzUbGRl3",
        "outputId": "f691dbb4-f333-4c41-c170-f5ae4d75584f"
      },
      "execution_count": 31,
      "outputs": [
        {
          "output_type": "stream",
          "name": "stdout",
          "text": [
            "Name of the person is Sayan Bandopadhyay\n",
            "Age of the person is 25\n",
            "Gender of the person is Male\n"
          ]
        }
      ]
    },
    {
      "cell_type": "markdown",
      "source": [
        "# Q32. Write a Python class called \"Rectangle\" with attributes for \"width\" and \"height\". Implement methods to calculate the area and perimeter of the rectangle. Create an instance of this class and use it to print out the rectangle's area and perimeter."
      ],
      "metadata": {
        "id": "J7ZZI7IVM3s9"
      }
    },
    {
      "cell_type": "code",
      "source": [
        "# Code.\n",
        "class Rectangle:\n",
        "  def __init__(self, length, width):\n",
        "    self.length = length\n",
        "    self.width = width\n",
        "\n",
        "  def area(self):\n",
        "    a = self.length * self.width\n",
        "    return f'Area is {a}'\n",
        "\n",
        "  def peri(self):\n",
        "    p = 2 * (self.length + self.width)\n",
        "    return f'Perimeter is {p}'\n",
        "\n",
        "# Creating class instance.\n",
        "rec_object = Rectangle(50, 20)\n",
        "rectangle_area = rec_object.area()\n",
        "rectangle_peri = rec_object.peri()\n",
        "\n",
        "# Outputing the area and perimeter.\n",
        "print(rectangle_area)\n",
        "print(rectangle_peri)"
      ],
      "metadata": {
        "colab": {
          "base_uri": "https://localhost:8080/"
        },
        "id": "K-pPwltlM8Cs",
        "outputId": "d2fdd604-c7f0-4fb5-8a97-5d4904f1e013"
      },
      "execution_count": 32,
      "outputs": [
        {
          "output_type": "stream",
          "name": "stdout",
          "text": [
            "Area is 1000\n",
            "Perimeter is 140\n"
          ]
        }
      ]
    },
    {
      "cell_type": "markdown",
      "source": [
        "# Q33. Write a Python class called \"BankAccount\" with attributes for \"balance\" and \"interest_rate\". Implement methods to deposit and withdraw money from the account, as well as to calculate the interest earned on the balance based on the interest rate. Create an instance of this class and use it to test out the implemented methods for deposit, withdrawal, and interest calculation."
      ],
      "metadata": {
        "id": "iA4oQWmNNBYt"
      }
    },
    {
      "cell_type": "code",
      "source": [
        "# Code.\n",
        "class BankAccount:\n",
        "  def __init__(self, balance, int_rate):\n",
        "    self.balance = balance\n",
        "    self.interest_rate = int_rate\n",
        "\n",
        "  def deposit(self):\n",
        "    ask = int(input('Mention Amount: '))\n",
        "    bal = self.balance + ask\n",
        "    self.balance += ask\n",
        "    return f'Depsoited {ask} and the updated balance is {bal}'\n",
        "\n",
        "  def withdraw(self):\n",
        "    ask1 = int(input('Mention Amount: '))\n",
        "    if ask1 <= self.balance:\n",
        "      self.balance -= ask1\n",
        "      return f'Withdrew {ask1} and the remaining balance is {self.balance}'\n",
        "    else:\n",
        "      return 'Insufficient funds for withdrawal'\n",
        "\n",
        "\n",
        "  def int_rate_calc(self):\n",
        "    i = self.balance * (self.interest_rate / 100)\n",
        "    return f'Interest to be earned on the balance is {i}'\n",
        "\n",
        "# Creating class instance.\n",
        "my_bank_acc = BankAccount(65000, 6)\n",
        "\n",
        "# Depsoting Money.\n",
        "dep = my_bank_acc.deposit()\n",
        "print(dep)\n",
        "\n",
        "# Withdrawing Money.\n",
        "withdrawn = my_bank_acc.withdraw()\n",
        "print(withdrawn)\n",
        "\n",
        "# Interest Calculations.\n",
        "i_amount = my_bank_acc.int_rate_calc()\n",
        "print(i_amount)"
      ],
      "metadata": {
        "colab": {
          "base_uri": "https://localhost:8080/"
        },
        "id": "v5w3S-thNFfb",
        "outputId": "af81faac-c616-4913-cc72-28a4cad8fa81"
      },
      "execution_count": 33,
      "outputs": [
        {
          "output_type": "stream",
          "name": "stdout",
          "text": [
            "Mention Amount: 45000\n",
            "Depsoited 45000 and the updated balance is 110000\n",
            "Mention Amount: 3200\n",
            "Withdrew 3200 and the remaining balance is 106800\n",
            "Interest to be earned on the balance is 6408.0\n"
          ]
        }
      ]
    },
    {
      "cell_type": "markdown",
      "source": [
        "# Q34. Write a Python class called \"Animal\" with attributes for \"name\" and \"species\". Create a subclass of \"Animal\" called \"Dog\" with additional attributes for \"breed\" and \"owner\". Implement both classes with appropriate methods and constructors to initialize their properties. Create instances of both classes and use them to print out the various properties of the animals and dogs, such as their names, species, breeds, and owners."
      ],
      "metadata": {
        "id": "rwdz67iDNHGf"
      }
    },
    {
      "cell_type": "code",
      "source": [
        "# Code.\n",
        "class Animal:\n",
        "  def __init__(self, name, species):\n",
        "    self.name = name\n",
        "    self.species = species\n",
        "\n",
        "class Dog(Animal):\n",
        "  def __init__(self, name, species, breed, owner):\n",
        "    super().__init__(name, species)\n",
        "    self.breed = breed\n",
        "    self.owner = owner\n",
        "\n",
        "# Create class instances.\n",
        "animal_obj = Animal('Pom', 'Dog')\n",
        "Dog_obj = Dog('Bhutu', 'Dog', 'Culture Pom', 'Bristi Das')\n",
        "\n",
        "# Properties of class.\n",
        "print(animal_obj.name)\n",
        "print(animal_obj.species)\n",
        "print(Dog_obj.breed)\n",
        "print(Dog_obj.owner)"
      ],
      "metadata": {
        "colab": {
          "base_uri": "https://localhost:8080/"
        },
        "id": "pO8GUm5VNngD",
        "outputId": "11052625-5bbd-4d6e-b515-14ec113f563c"
      },
      "execution_count": 34,
      "outputs": [
        {
          "output_type": "stream",
          "name": "stdout",
          "text": [
            "Pom\n",
            "Dog\n",
            "Culture Pom\n",
            "Bristi Das\n"
          ]
        }
      ]
    },
    {
      "cell_type": "markdown",
      "source": [
        "# Q35. Create a class called \"Car\" with properties for \"make\", \"model\", and \"year\". Create a subclass of \"Car\" called \"ElectricCar\" with additional properties for \"battery_size\" and \"range\". Create objects of both classes and print out their properties."
      ],
      "metadata": {
        "id": "cXwIdcN_Ntau"
      }
    },
    {
      "cell_type": "code",
      "source": [
        "# Code.\n",
        "class Car:\n",
        "  def __init__(self, make, model, year):\n",
        "    self.make = make\n",
        "    self.model = model\n",
        "    self.year = year\n",
        "\n",
        "class ElectricCar(Car):\n",
        "  def __init__(self, make, model, year, battery_size, range):\n",
        "    super().__init__(make, model, year)\n",
        "    self.battery = battery_size\n",
        "    self.range = range\n",
        "\n",
        "# Creating 'Car' class instance.\n",
        "mycar = Car('Hyundai', 'Alcazar', 2023)\n",
        "print(mycar.make)\n",
        "print(mycar.model)\n",
        "print(mycar.year)\n",
        "\n",
        "# Creating 'ElectricCar' class instance.\n",
        "ec = ElectricCar('Hyundai', 'Kone', 2023, 48.4, 342)\n",
        "print(ec.battery)\n",
        "print(ec.range)"
      ],
      "metadata": {
        "colab": {
          "base_uri": "https://localhost:8080/"
        },
        "id": "ydC24KHoNyK6",
        "outputId": "7b5bfbbd-dda0-4f42-c732-9229dd2bd653"
      },
      "execution_count": 35,
      "outputs": [
        {
          "output_type": "stream",
          "name": "stdout",
          "text": [
            "Hyundai\n",
            "Alcazar\n",
            "2023\n",
            "48.4\n",
            "342\n"
          ]
        }
      ]
    },
    {
      "cell_type": "markdown",
      "source": [
        "# Q36. Create a class called \"Student\" with properties for \"name\" and \"id\". Create a subclass of \"Student\" called \"GraduateStudent\" with additional properties for \"advisor\" and \"research_area\". Create objects of both classes and print out their properties."
      ],
      "metadata": {
        "id": "oSRG8GDyNy6a"
      }
    },
    {
      "cell_type": "code",
      "source": [
        "# Code.\n",
        "class Student:\n",
        "  def __init__(self, name, id):\n",
        "    self.name = name\n",
        "    self.id = id\n",
        "\n",
        "class GraduateStudent(Student):\n",
        "  def __init__(self, name, id, advisor, research_area):\n",
        "    super().__init__(name, id)\n",
        "    self.advisor = advisor\n",
        "    self.research_area = research_area\n",
        "\n",
        "# Creating class instance.\n",
        "s = Student('Abhay Sinha', 7877)\n",
        "gs = GraduateStudent('Nikhil Davolkar', 7733, 'Statistics', 'Econometrics')\n",
        "\n",
        "# Object properties.\n",
        "print(s.name)\n",
        "print(s.id)\n",
        "print(gs.advisor)\n",
        "print(gs.research_area)"
      ],
      "metadata": {
        "colab": {
          "base_uri": "https://localhost:8080/"
        },
        "id": "lgvZZYpVN3tz",
        "outputId": "babc2976-ed3c-4bfa-9a8a-258bf3ca3c9c"
      },
      "execution_count": 36,
      "outputs": [
        {
          "output_type": "stream",
          "name": "stdout",
          "text": [
            "Abhay Sinha\n",
            "7877\n",
            "Statistics\n",
            "Econometrics\n"
          ]
        }
      ]
    },
    {
      "cell_type": "markdown",
      "source": [
        "# Q37. Create a class called \"Shape\" with methods to calculate the area and perimeter of the shape. Create subclasses of \"Shape\" for \"Rectangle\", \"Circle\", and \"Triangle\" with their own methods for calculating area and perimeter. Create objects of each class and print out their area and perimeter."
      ],
      "metadata": {
        "id": "7pcl3X6V5KuA"
      }
    },
    {
      "cell_type": "code",
      "source": [
        "# Code.\n",
        "class shape:\n",
        "  def __init__(self):\n",
        "    pass\n",
        "\n",
        "  def area(self):\n",
        "    pass\n",
        "\n",
        "  def perimeter(self):\n",
        "    pass"
      ],
      "metadata": {
        "id": "R3VUosa45RM_"
      },
      "execution_count": 38,
      "outputs": []
    },
    {
      "cell_type": "code",
      "source": [
        "#  Subclass for 'Rectangle'.\n",
        "class Rect(shape):\n",
        "  def __init__(self, length, width):\n",
        "    self.length = length\n",
        "    self.width = width\n",
        "\n",
        "  def rect_area(self):\n",
        "    return f'Area of rectangle is {self.length * self.width}'\n",
        "\n",
        "  def rect_peri(self):\n",
        "    return f'Perimeter of rectangle is {2 * (self.length + self.width)}'\n",
        "\n",
        "# Use Case.\n",
        "new_rect = Rect(50,30)\n",
        "print(new_rect.length)\n",
        "print(new_rect.width)\n",
        "print(new_rect.rect_area())\n",
        "print(new_rect.rect_peri())"
      ],
      "metadata": {
        "colab": {
          "base_uri": "https://localhost:8080/"
        },
        "id": "0tIVG7qW-Q4A",
        "outputId": "32be3a8c-be23-45ce-e505-2f798427d2f5"
      },
      "execution_count": 43,
      "outputs": [
        {
          "output_type": "stream",
          "name": "stdout",
          "text": [
            "50\n",
            "30\n",
            "Area of rectangle is 1500\n",
            "Perimeter of rectangle is 160\n"
          ]
        }
      ]
    },
    {
      "cell_type": "code",
      "source": [
        "# Subclass for 'Circle'.\n",
        "class circle(shape):\n",
        "  def __init__(self, radius):\n",
        "    self.radius = radius\n",
        "\n",
        "  def circle_area(self):\n",
        "    return f'Area of circle is {3.14 * (self.radius**2)}'\n",
        "\n",
        "  def circle_peri(self):\n",
        "    return f'Perimeter of circle is {2 * 3.14 * self.radius}'\n",
        "\n",
        "# Use Case.\n",
        "new_cir = circle(40)\n",
        "print(new_cir.radius)\n",
        "print(new_cir.circle_area())\n",
        "print(new_cir.circle_peri())"
      ],
      "metadata": {
        "colab": {
          "base_uri": "https://localhost:8080/"
        },
        "id": "vwgmcT6E_nOG",
        "outputId": "281026ba-8b0e-486e-c84c-1feb85459d71"
      },
      "execution_count": 47,
      "outputs": [
        {
          "output_type": "stream",
          "name": "stdout",
          "text": [
            "40\n",
            "Area of circle is 5024.0\n",
            "Perimeter of circle is 251.20000000000002\n"
          ]
        }
      ]
    },
    {
      "cell_type": "code",
      "source": [
        "# Subclass for 'Triangle'.\n",
        "class tri(shape):\n",
        "  def __init__(self, s1, s2, s3):\n",
        "    self.side_1 = s1\n",
        "    self.side_2 = s2\n",
        "    self.side_3 = s3\n",
        "\n",
        "  def tri_area(self):\n",
        "    import math\n",
        "    semi_peri = (self.side_1 + self.side_2 + self.side_3) / 2\n",
        "    ar = math.sqrt(semi_peri*(semi_peri - self.side_1)*(semi_peri - self.side_2)*(semi_peri - self.side_3))\n",
        "    return f'Area of triangle is {ar}'\n",
        "\n",
        "  def tri_peri(self):\n",
        "    return f'Perimeter of triangle is {self.side_1 + self.side_2 + self.side_3}'\n",
        "\n",
        "# Use Case.\n",
        "new_tri = tri(3,5,7)\n",
        "print(new_tri.side_1)\n",
        "print(new_tri.side_2)\n",
        "print(new_tri.side_3)\n",
        "print(new_tri.tri_area())\n",
        "print(new_tri.tri_peri())"
      ],
      "metadata": {
        "colab": {
          "base_uri": "https://localhost:8080/"
        },
        "id": "2RZ2LNxeBW0t",
        "outputId": "de39f2d3-0747-46ad-be42-01d3e72d0c7a"
      },
      "execution_count": 49,
      "outputs": [
        {
          "output_type": "stream",
          "name": "stdout",
          "text": [
            "3\n",
            "5\n",
            "7\n",
            "Area of triangle is 6.49519052838329\n",
            "Perimeter of triangle is 15\n"
          ]
        }
      ]
    },
    {
      "cell_type": "markdown",
      "source": [
        "# Q38. Create a class called \"Employee\" with properties for \"name\", \"id\", and \"salary\". Add methods to give the employee a raise and to calculate their annual salary. Create objects of this class and test out the methods."
      ],
      "metadata": {
        "id": "jaXYSwLd5Uhv"
      }
    },
    {
      "cell_type": "code",
      "source": [
        "# Code.\n",
        "class employee:\n",
        "  def __init__(self, name, id, salary):\n",
        "    self.name = name\n",
        "    self.id = id\n",
        "    self.salary = salary\n",
        "\n",
        "  def hike(self):\n",
        "    r = int(input(\"Raise percentage: \"))\n",
        "    new_salary = self.salary * (100 + r)/100\n",
        "    return f'New salary after raise of {r}% is {new_salary}'\n",
        "\n",
        "# Use Case.\n",
        "em = employee('Sayan Banerjee', 3434, 55000)\n",
        "print(em.name)\n",
        "print(em.id)\n",
        "print(em.salary)\n",
        "print(em.hike())"
      ],
      "metadata": {
        "colab": {
          "base_uri": "https://localhost:8080/"
        },
        "id": "YLRWUult5bJN",
        "outputId": "0ffe4c7b-b6eb-4fe1-926f-5a93811cd8ef"
      },
      "execution_count": 54,
      "outputs": [
        {
          "output_type": "stream",
          "name": "stdout",
          "text": [
            "Sayan Banerjee\n",
            "3434\n",
            "55000\n",
            "Raise percentage: 15\n",
            "New salary after raise of 15% is 63250.0\n"
          ]
        }
      ]
    },
    {
      "cell_type": "markdown",
      "source": [
        "# Q39. Create a class called \"Book\" with properties for \"title\", \"author\", and \"publisher\". Create a subclass of \"Book\" is called \"Ebook\" with additional properties for \"file_format\" and \"file_size\". Create objects of both classes and print out their properties."
      ],
      "metadata": {
        "id": "TT00hghP5bsF"
      }
    },
    {
      "cell_type": "code",
      "source": [
        "# Code.\n",
        "class Book:\n",
        "  def __init__(self, title, author, publisher):\n",
        "    self.title = title\n",
        "    self.author = author\n",
        "    self.publisher = publisher\n",
        "\n",
        "# Objects Creation.\n",
        "b = Book('One Man Army', 'James Faulkner', 'Penguin Publication')\n",
        "print(b.title)\n",
        "print(b.author)\n",
        "print(b.publisher)"
      ],
      "metadata": {
        "colab": {
          "base_uri": "https://localhost:8080/"
        },
        "id": "nnFzeggO5gUV",
        "outputId": "57d56aa8-3acb-43a8-95c6-c6c53231f7d3"
      },
      "execution_count": 59,
      "outputs": [
        {
          "output_type": "stream",
          "name": "stdout",
          "text": [
            "One Man Army\n",
            "James Faulkner\n",
            "Penguin Publication\n"
          ]
        }
      ]
    },
    {
      "cell_type": "code",
      "source": [
        "# Subclass of above class.\n",
        "class Ebook(Book):\n",
        "  def __init__(self, title, author, publisher, file_format, file_size):\n",
        "    super().__init__(title, author, publisher)\n",
        "    self.format = file_format\n",
        "    self.size = file_size\n",
        "\n",
        "# Object Creation.\n",
        "eb = Ebook('One Man Army', 'James Faulkner', 'Penguin Publication', 'PDF', '665 mb')\n",
        "print(eb.title)\n",
        "print(eb.author)\n",
        "print(eb.publisher)\n",
        "print(eb.format)\n",
        "print(eb.size)"
      ],
      "metadata": {
        "colab": {
          "base_uri": "https://localhost:8080/"
        },
        "id": "GZz_GjZGRCmA",
        "outputId": "4ee931ea-9846-45f6-90ac-613a595d319c"
      },
      "execution_count": 61,
      "outputs": [
        {
          "output_type": "stream",
          "name": "stdout",
          "text": [
            "One Man Army\n",
            "James Faulkner\n",
            "Penguin Publication\n",
            "PDF\n",
            "665 mb\n"
          ]
        }
      ]
    },
    {
      "cell_type": "markdown",
      "source": [
        "# Q40. Create a class called \"Bank\" with properties for \"name\" and \"accounts\". Add methods to create new accounts, deposit and withdraw money from accounts, and to calculate the total balance of all accounts.\n",
        "\n",
        "# Create an object of this class and test out the methods."
      ],
      "metadata": {
        "id": "FzHR-WCV5g9f"
      }
    },
    {
      "cell_type": "code",
      "source": [
        "# Code.\n",
        "class Bank:\n",
        "  def __init__(self, name, account):\n",
        "    self.name = name\n",
        "    self.account = account\n",
        "\n",
        "  def deposit(self):\n",
        "    am = int(input(\"Amount to be deposited: \"))\n",
        "    self.account += am\n",
        "    return f'Balance in account: {self.account}'\n",
        "\n",
        "  def withdraw(self):\n",
        "    wam = int(input(\"Amount to be withdrawn: \"))\n",
        "    self.account -= wam\n",
        "    return f'Balance remaining is {self.account}'\n",
        "\n",
        "# Use Case.\n",
        "my_bank = Bank(\"Sayan Banerjee\", 35000)\n",
        "print(my_bank.name)\n",
        "print(my_bank.account)\n",
        "print(my_bank.deposit())\n",
        "print(my_bank.withdraw())"
      ],
      "metadata": {
        "colab": {
          "base_uri": "https://localhost:8080/"
        },
        "id": "mdZUrY6E5ouG",
        "outputId": "83f004db-3b3f-4286-ba3d-3bbdbf39b7f2"
      },
      "execution_count": 67,
      "outputs": [
        {
          "output_type": "stream",
          "name": "stdout",
          "text": [
            "Sayan Banerjee\n",
            "35000\n",
            "Amount to be deposited: 10000\n",
            "Balance in account: 45000\n",
            "Amount to be withdrawn: 20000\n",
            "Balance remaining is 25000\n"
          ]
        }
      ]
    },
    {
      "cell_type": "markdown",
      "source": [
        "# Q41. Can you create a Python program that reads a text file and counts the number of words contained within it? The program should be designed to read the file and break it down into individual words, using spaces, punctuation marks, and other delimiters to separate the words. It should then count the number of words found in the file and display this count as output. The program should be flexible enough to work with different text files and should be able to handle a variety of formatting and punctuation styles."
      ],
      "metadata": {
        "id": "VbaJ_GAq5-ng"
      }
    },
    {
      "cell_type": "code",
      "source": [
        "import re\n",
        "\n",
        "def count_words_in_file(file_path):\n",
        "    try:\n",
        "        with open(file_path, 'r', encoding='utf-8') as file:\n",
        "            text = file.read()\n",
        "            # Use regular expression to split text into words\n",
        "            words = re.findall(r'\\b\\w+\\b', text)\n",
        "            word_count = len(words)\n",
        "            return word_count\n",
        "    except FileNotFoundError:\n",
        "        print(f\"File '{file_path}' not found.\")\n",
        "        return -1  # Return -1 to indicate an error\n",
        "    except Exception as e:\n",
        "        print(f\"An error occurred: {str(e)}\")\n",
        "        return -1  # Return -1 to indicate an error\n",
        "\n",
        "if __name__ == \"__main__\":\n",
        "    file_path = \"your_text_file.txt\"  # Replace with the path to your text file\n",
        "    word_count = count_words_in_file(file_path)\n",
        "\n",
        "    if word_count != -1:\n",
        "        print(f\"Total words in the file: {word_count}\")"
      ],
      "metadata": {
        "colab": {
          "base_uri": "https://localhost:8080/"
        },
        "id": "ng0e_Wt16F_Y",
        "outputId": "3c9a2027-3252-4acc-c18a-f4d49fb4dcf8"
      },
      "execution_count": 68,
      "outputs": [
        {
          "output_type": "stream",
          "name": "stdout",
          "text": [
            "File 'your_text_file.txt' not found.\n"
          ]
        }
      ]
    }
  ]
}