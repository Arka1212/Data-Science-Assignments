{
  "nbformat": 4,
  "nbformat_minor": 0,
  "metadata": {
    "colab": {
      "provenance": [],
      "authorship_tag": "ABX9TyNmnYgw0uHljKNLdz6DWKiU",
      "include_colab_link": true
    },
    "kernelspec": {
      "name": "python3",
      "display_name": "Python 3"
    },
    "language_info": {
      "name": "python"
    }
  },
  "cells": [
    {
      "cell_type": "markdown",
      "metadata": {
        "id": "view-in-github",
        "colab_type": "text"
      },
      "source": [
        "<a href=\"https://colab.research.google.com/github/Arka1212/Data-Science-Assignments/blob/main/Python_Test.ipynb\" target=\"_parent\"><img src=\"https://colab.research.google.com/assets/colab-badge.svg\" alt=\"Open In Colab\"/></a>"
      ]
    },
    {
      "cell_type": "markdown",
      "source": [
        "## Q1. Write a Python program that defines a function called \"add_numbers\" that takes two arguments (i.e., numbers) and returns their sum. Within the function, add the two numbers together and return the result using the return statement. Call the function with the values 5 and 6, and print out the returned result.\n",
        "\n",
        "## This will result in the addition of 5 and 6, with the output of the program being the sum of these two numbers."
      ],
      "metadata": {
        "id": "G9k4ThQu7QCg"
      }
    },
    {
      "cell_type": "code",
      "source": [
        "# Code.\n",
        "def add_numbers(n1, n2):\n",
        "  '''\n",
        "  Takes two areguments and returns their sum.\n",
        "  '''\n",
        "  add = n1 + n2\n",
        "  return add\n",
        "\n",
        "# Use Case.\n",
        "print(add_numbers(5,6))"
      ],
      "metadata": {
        "colab": {
          "base_uri": "https://localhost:8080/"
        },
        "id": "gZY3GINh7a0l",
        "outputId": "dafe3820-6418-4f20-e564-9194a6eb97f1"
      },
      "execution_count": 1,
      "outputs": [
        {
          "output_type": "stream",
          "name": "stdout",
          "text": [
            "11\n"
          ]
        }
      ]
    },
    {
      "cell_type": "markdown",
      "source": [
        "## Q2. Write a Python program that calculates the square root of a given number using a built-in function. Specifically, the program should take an integer or float input from the user, calculate its square root using the 'sqrt()' function from the 'math' module, and print out the result to the user.\n",
        "\n",
        "## As an example, calculate the square root of the number 625 using this program, which should output the value of 25."
      ],
      "metadata": {
        "id": "h4IxziCM7ejM"
      }
    },
    {
      "cell_type": "code",
      "source": [
        "# Code.\n",
        "def sq_root(n):\n",
        "  '''\n",
        "  Takes a number and calculates the square root of the particular number.\n",
        "  '''\n",
        "  import math\n",
        "  root_value = math.sqrt(n)\n",
        "  return root_value\n",
        "\n",
        "# Use Case.\n",
        "print(sq_root(625))"
      ],
      "metadata": {
        "colab": {
          "base_uri": "https://localhost:8080/"
        },
        "id": "xz6d4bxN8BIx",
        "outputId": "d4c68cf7-5462-46f5-8209-a1c6a4b69b63"
      },
      "execution_count": 2,
      "outputs": [
        {
          "output_type": "stream",
          "name": "stdout",
          "text": [
            "25.0\n"
          ]
        }
      ]
    },
    {
      "cell_type": "markdown",
      "source": [
        "## Q3.Write a program that prints all prime numbers between 0 to 50."
      ],
      "metadata": {
        "id": "nqxYqH1L8Bp6"
      }
    },
    {
      "cell_type": "code",
      "source": [
        "# Code.\n",
        "for num in range(2,51):\n",
        "  is_prime = True\n",
        "  for i in range(2,num):\n",
        "    if num % i == 0:\n",
        "      is_prime = False\n",
        "      break\n",
        "  if is_prime:\n",
        "    print(num)"
      ],
      "metadata": {
        "colab": {
          "base_uri": "https://localhost:8080/"
        },
        "id": "EpOr2WAt8E7Z",
        "outputId": "647c6f4d-5eab-4ce4-ae9a-fa3f467f4c07"
      },
      "execution_count": 3,
      "outputs": [
        {
          "output_type": "stream",
          "name": "stdout",
          "text": [
            "2\n",
            "3\n",
            "5\n",
            "7\n",
            "11\n",
            "13\n",
            "17\n",
            "19\n",
            "23\n",
            "29\n",
            "31\n",
            "37\n",
            "41\n",
            "43\n",
            "47\n"
          ]
        }
      ]
    },
    {
      "cell_type": "markdown",
      "source": [
        "## Q4.How can we swap the values of three variables (let's say a, b, and c) without using a fourth variable?\n",
        "\n",
        "## For example, if we have a=5, b=8, and c=9, how can we obtain a=9, b=5, and c=8? The challenge is to perform this operation without using an additional variable to store any of the values during the swapping process."
      ],
      "metadata": {
        "id": "ovrtBiO38FiB"
      }
    },
    {
      "cell_type": "code",
      "source": [
        "# Code.\n",
        "a = 5\n",
        "b = 8\n",
        "c = 9\n",
        "a, b, c = c, a, b\n",
        "\n",
        "print(\"a =\", a)\n",
        "print(\"b =\", b)\n",
        "print(\"c =\", c)"
      ],
      "metadata": {
        "colab": {
          "base_uri": "https://localhost:8080/"
        },
        "id": "BpWmu8E08Mv0",
        "outputId": "1280e598-e652-44ce-a2ca-33b473ea21f6"
      },
      "execution_count": 4,
      "outputs": [
        {
          "output_type": "stream",
          "name": "stdout",
          "text": [
            "a = 9\n",
            "b = 5\n",
            "c = 8\n"
          ]
        }
      ]
    },
    {
      "cell_type": "markdown",
      "source": [
        "## Q5. Can you write a program that determines the nature of a given number (in this case, 87) as being positive, negative, or zero? The program should be designed to take the number as input and perform the necessary calculations to determine if the number is positive (i.e., greater than zero), negative (i.e., less than zero), or zero (i.e., equal to zero). The output of the program should indicate which of these three categories the given number falls into."
      ],
      "metadata": {
        "id": "nBDFnQZM8PdM"
      }
    },
    {
      "cell_type": "code",
      "source": [
        "# Code.\n",
        "def num_nature():\n",
        "  '''\n",
        "  Takes input as a number and checks the nature of the number.\n",
        "  '''\n",
        "  # User input.\n",
        "  num = int(input('Mention the number: '))\n",
        "\n",
        "  # Conditionals.\n",
        "  if num > 0:\n",
        "    print('Number is positive')\n",
        "  elif num < 0:\n",
        "    print('Number is negative')\n",
        "  elif num == 0:\n",
        "    print('Number is equal to zero')\n",
        "\n",
        "# Use Case.\n",
        "num_nature()"
      ],
      "metadata": {
        "colab": {
          "base_uri": "https://localhost:8080/"
        },
        "id": "d9-ESD9f8W2G",
        "outputId": "d9120ffc-e249-4e50-ef08-b12a9d301741"
      },
      "execution_count": 5,
      "outputs": [
        {
          "output_type": "stream",
          "name": "stdout",
          "text": [
            "Mention the number: 45\n",
            "Number is positive\n"
          ]
        }
      ]
    },
    {
      "cell_type": "markdown",
      "source": [
        "# Q6. How can you create a program that determines whether a given number (in this case, 98) is even or odd? The program should be designed to take the number as input and perform the necessary calculations to determine whether it is divisible by two. If the number is divisible by two without leaving a remainder, it is an even number, and if there is a remainder, it is an odd number. The output of the program should indicate whether the given number is even or odd."
      ],
      "metadata": {
        "id": "2SevARwtonR-"
      }
    },
    {
      "cell_type": "code",
      "source": [
        "# Code.\n",
        "def odd_even_checker():\n",
        "  '''\n",
        "  Takes the number as input and outputs the information whether the number is even or odd\n",
        "  '''\n",
        "  user_input = int(input('Mention the number: '))\n",
        "\n",
        "  # Coditionals\n",
        "  if user_input % 2 == 0:\n",
        "    print(f'{user_input} is an even number')\n",
        "  else:\n",
        "    print(f'{user_input} is an odd number')\n",
        "\n",
        "# Use case.\n",
        "odd_even_checker()"
      ],
      "metadata": {
        "colab": {
          "base_uri": "https://localhost:8080/"
        },
        "id": "UqkAnYb0oyIy",
        "outputId": "fe531970-1462-4d1a-9d96-54d8fa4ec671"
      },
      "execution_count": 6,
      "outputs": [
        {
          "output_type": "stream",
          "name": "stdout",
          "text": [
            "Mention the number: 98\n",
            "98 is an even number\n"
          ]
        }
      ]
    },
    {
      "cell_type": "markdown",
      "source": [
        "# Q7.Write a program for sum of digits.The digits are 76543 and the output should be 25."
      ],
      "metadata": {
        "id": "v-_vfb9zo3RW"
      }
    },
    {
      "cell_type": "code",
      "source": [
        "# Code\n",
        "def sum_of_digits():\n",
        "  '''\n",
        "  Takes the digits of the number and sums it up to return the value\n",
        "  '''\n",
        "  user_inp = input('Mention the number: ')\n",
        "  l = list(user_inp)\n",
        "  new_l = []\n",
        "  for i in l:\n",
        "    new_l.append(int(i))\n",
        "  print(sum(new_l))\n",
        "\n",
        "# Use Case.\n",
        "sum_of_digits()"
      ],
      "metadata": {
        "colab": {
          "base_uri": "https://localhost:8080/"
        },
        "id": "MIQVwLO2o6TG",
        "outputId": "df8f7359-f774-4875-a678-f7f293fc8c43"
      },
      "execution_count": 19,
      "outputs": [
        {
          "output_type": "stream",
          "name": "stdout",
          "text": [
            "Mention the number: 76543\n",
            "25\n"
          ]
        }
      ]
    },
    {
      "cell_type": "markdown",
      "source": [
        "# Q8.Write a program for reversing the given number 5436 and the output should be 6345."
      ],
      "metadata": {
        "id": "yXlxZQD4o6oq"
      }
    },
    {
      "cell_type": "code",
      "source": [
        "# Code.\n",
        "def reverse_num():\n",
        "  '''\n",
        "  Takes the number and diasplays the reverse number\n",
        "  '''\n",
        "  user_inp = input('Mention the number: ')\n",
        "  reverse_user_inp = user_inp[::-1]\n",
        "  print(int(reverse_user_inp))\n",
        "\n",
        "# Use Case.\n",
        "reverse_num()"
      ],
      "metadata": {
        "colab": {
          "base_uri": "https://localhost:8080/"
        },
        "id": "6e8bhT7ZpAmI",
        "outputId": "ce248980-a6aa-4bd1-cb39-e84e68b895b9"
      },
      "execution_count": 20,
      "outputs": [
        {
          "output_type": "stream",
          "name": "stdout",
          "text": [
            "Mention the number: 5436\n",
            "6345\n"
          ]
        }
      ]
    },
    {
      "cell_type": "markdown",
      "source": [
        "# Q9.Write a program to check if a given number 371 is an Armstrong number?"
      ],
      "metadata": {
        "id": "7FKCW0_ApE0r"
      }
    },
    {
      "cell_type": "code",
      "source": [
        "# Code.\n",
        "def arms_check():\n",
        "  '''\n",
        "  Takes the number and checks whether its an armstrong number or not\n",
        "  '''\n",
        "  user_inp = input('Mention the numnber: ')\n",
        "  num_len = len(user_inp)\n",
        "  num_list = list(user_inp)\n",
        "  value_list = []\n",
        "\n",
        "  for i in num_list:\n",
        "    value_list.append(int(i)**num_len)\n",
        "\n",
        "  total_value = sum(value_list)\n",
        "  if int(user_inp) == total_value:\n",
        "    print(f'{user_inp} is an armstrong number')\n",
        "  else:\n",
        "    print(f'{user_inp} is not an armstrong number')\n",
        "\n",
        "# Use Case.\n",
        "arms_check()"
      ],
      "metadata": {
        "colab": {
          "base_uri": "https://localhost:8080/"
        },
        "id": "gt_qe2DKpHMz",
        "outputId": "edfc5a8b-0439-4727-b4c3-cd837d329afd"
      },
      "execution_count": 25,
      "outputs": [
        {
          "output_type": "stream",
          "name": "stdout",
          "text": [
            "Mention the numnber: 371\n",
            "371 is an armstrong number\n"
          ]
        }
      ]
    },
    {
      "cell_type": "markdown",
      "source": [
        "# Q10.Write a program the given year is 1996, a leap year."
      ],
      "metadata": {
        "id": "OBXoF9QwpIrn"
      }
    },
    {
      "cell_type": "code",
      "source": [],
      "metadata": {
        "id": "1qtB15yApLiH"
      },
      "execution_count": null,
      "outputs": []
    }
  ]
}