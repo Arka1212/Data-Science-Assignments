{
  "nbformat": 4,
  "nbformat_minor": 0,
  "metadata": {
    "colab": {
      "provenance": [],
      "authorship_tag": "ABX9TyNg2e2xWGkab8oeAFBLmrL6",
      "include_colab_link": true
    },
    "kernelspec": {
      "name": "python3",
      "display_name": "Python 3"
    },
    "language_info": {
      "name": "python"
    }
  },
  "cells": [
    {
      "cell_type": "markdown",
      "metadata": {
        "id": "view-in-github",
        "colab_type": "text"
      },
      "source": [
        "<a href=\"https://colab.research.google.com/github/Arka1212/Data-Science-Assignments/blob/main/Python_Test.ipynb\" target=\"_parent\"><img src=\"https://colab.research.google.com/assets/colab-badge.svg\" alt=\"Open In Colab\"/></a>"
      ]
    },
    {
      "cell_type": "markdown",
      "source": [
        "## Q1. Write a Python program that defines a function called \"add_numbers\" that takes two arguments (i.e., numbers) and returns their sum. Within the function, add the two numbers together and return the result using the return statement. Call the function with the values 5 and 6, and print out the returned result.\n",
        "\n",
        "## This will result in the addition of 5 and 6, with the output of the program being the sum of these two numbers."
      ],
      "metadata": {
        "id": "G9k4ThQu7QCg"
      }
    },
    {
      "cell_type": "code",
      "source": [
        "# Code.\n",
        "def add_numbers(n1, n2):\n",
        "  '''\n",
        "  Takes two areguments and returns their sum.\n",
        "  '''\n",
        "  add = n1 + n2\n",
        "  return add\n",
        "\n",
        "# Use Case.\n",
        "print(add_numbers(5,6))"
      ],
      "metadata": {
        "colab": {
          "base_uri": "https://localhost:8080/"
        },
        "id": "gZY3GINh7a0l",
        "outputId": "7de2cb5c-1b1e-4bc0-e719-850ca3647144"
      },
      "execution_count": null,
      "outputs": [
        {
          "output_type": "stream",
          "name": "stdout",
          "text": [
            "11\n"
          ]
        }
      ]
    },
    {
      "cell_type": "markdown",
      "source": [
        "## Q2. Write a Python program that calculates the square root of a given number using a built-in function. Specifically, the program should take an integer or float input from the user, calculate its square root using the 'sqrt()' function from the 'math' module, and print out the result to the user.\n",
        "\n",
        "## As an example, calculate the square root of the number 625 using this program, which should output the value of 25."
      ],
      "metadata": {
        "id": "h4IxziCM7ejM"
      }
    },
    {
      "cell_type": "code",
      "source": [
        "# Code.\n",
        "def sq_root(n):\n",
        "  '''\n",
        "  Takes a number and calculates the square root of the particular number.\n",
        "  '''\n",
        "  import math\n",
        "  root_value = math.sqrt(n)\n",
        "  return root_value\n",
        "\n",
        "# Use Case.\n",
        "print(sq_root(625))"
      ],
      "metadata": {
        "colab": {
          "base_uri": "https://localhost:8080/"
        },
        "id": "xz6d4bxN8BIx",
        "outputId": "9d804385-11c5-4ae8-dbcb-a0dd669975b8"
      },
      "execution_count": null,
      "outputs": [
        {
          "output_type": "stream",
          "name": "stdout",
          "text": [
            "25.0\n"
          ]
        }
      ]
    },
    {
      "cell_type": "markdown",
      "source": [
        "## Q3.Write a program that prints all prime numbers between 0 to 50."
      ],
      "metadata": {
        "id": "nqxYqH1L8Bp6"
      }
    },
    {
      "cell_type": "code",
      "source": [
        "# Code.\n",
        "for num in range(2,51):\n",
        "  is_prime = True\n",
        "  for i in range(2,num):\n",
        "    if num % i == 0:\n",
        "      is_prime = False\n",
        "      break\n",
        "  if is_prime:\n",
        "    print(num)"
      ],
      "metadata": {
        "colab": {
          "base_uri": "https://localhost:8080/"
        },
        "id": "EpOr2WAt8E7Z",
        "outputId": "7498d5aa-c4b2-4187-85a8-1f99f0b2c098"
      },
      "execution_count": null,
      "outputs": [
        {
          "output_type": "stream",
          "name": "stdout",
          "text": [
            "2\n",
            "3\n",
            "5\n",
            "7\n",
            "11\n",
            "13\n",
            "17\n",
            "19\n",
            "23\n",
            "29\n",
            "31\n",
            "37\n",
            "41\n",
            "43\n",
            "47\n"
          ]
        }
      ]
    },
    {
      "cell_type": "markdown",
      "source": [
        "## Q4.How can we swap the values of three variables (let's say a, b, and c) without using a fourth variable?\n",
        "\n",
        "## For example, if we have a=5, b=8, and c=9, how can we obtain a=9, b=5, and c=8? The challenge is to perform this operation without using an additional variable to store any of the values during the swapping process."
      ],
      "metadata": {
        "id": "ovrtBiO38FiB"
      }
    },
    {
      "cell_type": "code",
      "source": [
        "# Code.\n",
        "a = 5\n",
        "b = 8\n",
        "c = 9\n",
        "a, b, c = c, a, b\n",
        "\n",
        "print(\"a =\", a)\n",
        "print(\"b =\", b)\n",
        "print(\"c =\", c)"
      ],
      "metadata": {
        "colab": {
          "base_uri": "https://localhost:8080/"
        },
        "id": "BpWmu8E08Mv0",
        "outputId": "f99a70ab-5ac8-4f1b-ebea-3d6fbd2d77b4"
      },
      "execution_count": null,
      "outputs": [
        {
          "output_type": "stream",
          "name": "stdout",
          "text": [
            "a = 9\n",
            "b = 5\n",
            "c = 8\n"
          ]
        }
      ]
    },
    {
      "cell_type": "markdown",
      "source": [
        "## Q5. Can you write a program that determines the nature of a given number (in this case, 87) as being positive, negative, or zero? The program should be designed to take the number as input and perform the necessary calculations to determine if the number is positive (i.e., greater than zero), negative (i.e., less than zero), or zero (i.e., equal to zero). The output of the program should indicate which of these three categories the given number falls into."
      ],
      "metadata": {
        "id": "nBDFnQZM8PdM"
      }
    },
    {
      "cell_type": "code",
      "source": [
        "# Code.\n",
        "def num_nature():\n",
        "  '''\n",
        "  Takes input as a number and checks the nature of the number.\n",
        "  '''\n",
        "  # User input.\n",
        "  num = int(input('Mention the number: '))\n",
        "\n",
        "  # Conditionals.\n",
        "  if num > 0:\n",
        "    print('Number is positive')\n",
        "  elif num < 0:\n",
        "    print('Number is negative')\n",
        "  elif num == 0:\n",
        "    print('Number is equal to zero')\n",
        "\n",
        "# Use Case.\n",
        "num_nature()"
      ],
      "metadata": {
        "colab": {
          "base_uri": "https://localhost:8080/"
        },
        "id": "d9-ESD9f8W2G",
        "outputId": "7db91402-e3f8-4d82-cf42-af7063727d50"
      },
      "execution_count": null,
      "outputs": [
        {
          "output_type": "stream",
          "name": "stdout",
          "text": [
            "Mention the number: 87\n",
            "Number is positive\n"
          ]
        }
      ]
    }
  ]
}