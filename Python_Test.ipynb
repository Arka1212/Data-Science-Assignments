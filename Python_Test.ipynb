{
  "nbformat": 4,
  "nbformat_minor": 0,
  "metadata": {
    "colab": {
      "provenance": [],
      "authorship_tag": "ABX9TyOQZ0vyfGLKbtmKSY57uGe9",
      "include_colab_link": true
    },
    "kernelspec": {
      "name": "python3",
      "display_name": "Python 3"
    },
    "language_info": {
      "name": "python"
    }
  },
  "cells": [
    {
      "cell_type": "markdown",
      "metadata": {
        "id": "view-in-github",
        "colab_type": "text"
      },
      "source": [
        "<a href=\"https://colab.research.google.com/github/Arka1212/Data-Science-Assignments/blob/main/Python_Test.ipynb\" target=\"_parent\"><img src=\"https://colab.research.google.com/assets/colab-badge.svg\" alt=\"Open In Colab\"/></a>"
      ]
    },
    {
      "cell_type": "markdown",
      "source": [
        "## Q1. Write a Python program that defines a function called \"add_numbers\" that takes two arguments (i.e., numbers) and returns their sum. Within the function, add the two numbers together and return the result using the return statement. Call the function with the values 5 and 6, and print out the returned result.\n",
        "\n",
        "## This will result in the addition of 5 and 6, with the output of the program being the sum of these two numbers."
      ],
      "metadata": {
        "id": "G9k4ThQu7QCg"
      }
    },
    {
      "cell_type": "code",
      "source": [
        "# Code.\n",
        "def add_numbers(n1, n2):\n",
        "  '''\n",
        "  Takes two areguments and returns their sum.\n",
        "  '''\n",
        "  add = n1 + n2\n",
        "  return add\n",
        "\n",
        "# Use Case.\n",
        "print(add_numbers(5,6))"
      ],
      "metadata": {
        "colab": {
          "base_uri": "https://localhost:8080/"
        },
        "id": "gZY3GINh7a0l",
        "outputId": "8dd1063b-80fb-497c-ce0a-bff5a8e2fbff"
      },
      "execution_count": 1,
      "outputs": [
        {
          "output_type": "stream",
          "name": "stdout",
          "text": [
            "11\n"
          ]
        }
      ]
    },
    {
      "cell_type": "markdown",
      "source": [
        "## Q2. Write a Python program that calculates the square root of a given number using a built-in function. Specifically, the program should take an integer or float input from the user, calculate its square root using the 'sqrt()' function from the 'math' module, and print out the result to the user.\n",
        "\n",
        "## As an example, calculate the square root of the number 625 using this program, which should output the value of 25."
      ],
      "metadata": {
        "id": "h4IxziCM7ejM"
      }
    },
    {
      "cell_type": "code",
      "source": [
        "# Code.\n",
        "def sq_root(n):\n",
        "  '''\n",
        "  Takes a number and calculates the square root of the particular number.\n",
        "  '''\n",
        "  import math\n",
        "  root_value = math.sqrt(n)\n",
        "  return root_value\n",
        "\n",
        "# Use Case.\n",
        "print(sq_root(625))"
      ],
      "metadata": {
        "colab": {
          "base_uri": "https://localhost:8080/"
        },
        "id": "xz6d4bxN8BIx",
        "outputId": "d5f32886-05da-4f9b-e211-457d164ed12e"
      },
      "execution_count": 2,
      "outputs": [
        {
          "output_type": "stream",
          "name": "stdout",
          "text": [
            "25.0\n"
          ]
        }
      ]
    },
    {
      "cell_type": "markdown",
      "source": [
        "## Q3.Write a program that prints all prime numbers between 0 to 50."
      ],
      "metadata": {
        "id": "nqxYqH1L8Bp6"
      }
    },
    {
      "cell_type": "code",
      "source": [
        "# Code.\n",
        "for num in range(2,51):\n",
        "  is_prime = True\n",
        "  for i in range(2,num):\n",
        "    if num % i == 0:\n",
        "      is_prime = False\n",
        "      break\n",
        "  if is_prime:\n",
        "    print(num)"
      ],
      "metadata": {
        "colab": {
          "base_uri": "https://localhost:8080/"
        },
        "id": "EpOr2WAt8E7Z",
        "outputId": "2662fe5c-c508-4c4b-a8cd-f93888dfe3a4"
      },
      "execution_count": 3,
      "outputs": [
        {
          "output_type": "stream",
          "name": "stdout",
          "text": [
            "2\n",
            "3\n",
            "5\n",
            "7\n",
            "11\n",
            "13\n",
            "17\n",
            "19\n",
            "23\n",
            "29\n",
            "31\n",
            "37\n",
            "41\n",
            "43\n",
            "47\n"
          ]
        }
      ]
    },
    {
      "cell_type": "markdown",
      "source": [
        "## Q4.How can we swap the values of three variables (let's say a, b, and c) without using a fourth variable?\n",
        "\n",
        "## For example, if we have a=5, b=8, and c=9, how can we obtain a=9, b=5, and c=8? The challenge is to perform this operation without using an additional variable to store any of the values during the swapping process."
      ],
      "metadata": {
        "id": "ovrtBiO38FiB"
      }
    },
    {
      "cell_type": "code",
      "source": [
        "# Code.\n",
        "a = 5\n",
        "b = 8\n",
        "c = 9\n",
        "a, b, c = c, a, b\n",
        "\n",
        "print(\"a =\", a)\n",
        "print(\"b =\", b)\n",
        "print(\"c =\", c)"
      ],
      "metadata": {
        "colab": {
          "base_uri": "https://localhost:8080/"
        },
        "id": "BpWmu8E08Mv0",
        "outputId": "c48dec7c-caf6-4513-e64b-41c5c88f1195"
      },
      "execution_count": 4,
      "outputs": [
        {
          "output_type": "stream",
          "name": "stdout",
          "text": [
            "a = 9\n",
            "b = 5\n",
            "c = 8\n"
          ]
        }
      ]
    },
    {
      "cell_type": "markdown",
      "source": [
        "## Q5. Can you write a program that determines the nature of a given number (in this case, 87) as being positive, negative, or zero? The program should be designed to take the number as input and perform the necessary calculations to determine if the number is positive (i.e., greater than zero), negative (i.e., less than zero), or zero (i.e., equal to zero). The output of the program should indicate which of these three categories the given number falls into."
      ],
      "metadata": {
        "id": "nBDFnQZM8PdM"
      }
    },
    {
      "cell_type": "code",
      "source": [
        "# Code.\n",
        "def num_nature():\n",
        "  '''\n",
        "  Takes input as a number and checks the nature of the number.\n",
        "  '''\n",
        "  # User input.\n",
        "  num = int(input('Mention the number: '))\n",
        "\n",
        "  # Conditionals.\n",
        "  if num > 0:\n",
        "    print('Number is positive')\n",
        "  elif num < 0:\n",
        "    print('Number is negative')\n",
        "  elif num == 0:\n",
        "    print('Number is equal to zero')\n",
        "\n",
        "# Use Case.\n",
        "num_nature()"
      ],
      "metadata": {
        "colab": {
          "base_uri": "https://localhost:8080/"
        },
        "id": "d9-ESD9f8W2G",
        "outputId": "69f92bc3-f977-42e4-fbbd-3fdf13f47070"
      },
      "execution_count": 5,
      "outputs": [
        {
          "output_type": "stream",
          "name": "stdout",
          "text": [
            "Mention the number: 4\n",
            "Number is positive\n"
          ]
        }
      ]
    },
    {
      "cell_type": "markdown",
      "source": [
        "# Q6. How can you create a program that determines whether a given number (in this case, 98) is even or odd? The program should be designed to take the number as input and perform the necessary calculations to determine whether it is divisible by two. If the number is divisible by two without leaving a remainder, it is an even number, and if there is a remainder, it is an odd number. The output of the program should indicate whether the given number is even or odd."
      ],
      "metadata": {
        "id": "2SevARwtonR-"
      }
    },
    {
      "cell_type": "code",
      "source": [
        "# Code.\n",
        "def odd_even_checker():\n",
        "  '''\n",
        "  Takes the number as input and outputs the information whether the number is even or odd\n",
        "  '''\n",
        "  user_input = int(input('Mention the number: '))\n",
        "\n",
        "  # Coditionals\n",
        "  if user_input % 2 == 0:\n",
        "    print(f'{user_input} is an even number')\n",
        "  else:\n",
        "    print(f'{user_input} is an odd number')\n",
        "\n",
        "# Use case.\n",
        "odd_even_checker()"
      ],
      "metadata": {
        "colab": {
          "base_uri": "https://localhost:8080/"
        },
        "id": "UqkAnYb0oyIy",
        "outputId": "f46f5f97-07e0-4d01-9db0-b8950d56ed7a"
      },
      "execution_count": 6,
      "outputs": [
        {
          "output_type": "stream",
          "name": "stdout",
          "text": [
            "Mention the number: 67\n",
            "67 is an odd number\n"
          ]
        }
      ]
    },
    {
      "cell_type": "markdown",
      "source": [
        "# Q7.Write a program for sum of digits.The digits are 76543 and the output should be 25."
      ],
      "metadata": {
        "id": "v-_vfb9zo3RW"
      }
    },
    {
      "cell_type": "code",
      "source": [
        "# Code\n",
        "def sum_of_digits():\n",
        "  '''\n",
        "  Takes the digits of the number and sums it up to return the value\n",
        "  '''\n",
        "  user_inp = input('Mention the number: ')\n",
        "  l = list(user_inp)\n",
        "  new_l = []\n",
        "  for i in l:\n",
        "    new_l.append(int(i))\n",
        "  print(sum(new_l))\n",
        "\n",
        "# Use Case.\n",
        "sum_of_digits()"
      ],
      "metadata": {
        "colab": {
          "base_uri": "https://localhost:8080/"
        },
        "id": "MIQVwLO2o6TG",
        "outputId": "ba4206dc-56b8-4784-a642-60d7f4ff1ec5"
      },
      "execution_count": 7,
      "outputs": [
        {
          "output_type": "stream",
          "name": "stdout",
          "text": [
            "Mention the number: 566\n",
            "17\n"
          ]
        }
      ]
    },
    {
      "cell_type": "markdown",
      "source": [
        "# Q8.Write a program for reversing the given number 5436 and the output should be 6345."
      ],
      "metadata": {
        "id": "yXlxZQD4o6oq"
      }
    },
    {
      "cell_type": "code",
      "source": [
        "# Code.\n",
        "def reverse_num():\n",
        "  '''\n",
        "  Takes the number and diasplays the reverse number\n",
        "  '''\n",
        "  user_inp = input('Mention the number: ')\n",
        "  reverse_user_inp = user_inp[::-1]\n",
        "  print(int(reverse_user_inp))\n",
        "\n",
        "# Use Case.\n",
        "reverse_num()"
      ],
      "metadata": {
        "colab": {
          "base_uri": "https://localhost:8080/"
        },
        "id": "6e8bhT7ZpAmI",
        "outputId": "7bb43b1b-8cd9-4180-ba02-775b9fbace0f"
      },
      "execution_count": 8,
      "outputs": [
        {
          "output_type": "stream",
          "name": "stdout",
          "text": [
            "Mention the number: 4567\n",
            "7654\n"
          ]
        }
      ]
    },
    {
      "cell_type": "markdown",
      "source": [
        "# Q9.Write a program to check if a given number 371 is an Armstrong number?"
      ],
      "metadata": {
        "id": "7FKCW0_ApE0r"
      }
    },
    {
      "cell_type": "code",
      "source": [
        "# Code.\n",
        "def arms_check():\n",
        "  '''\n",
        "  Takes the number and checks whether its an armstrong number or not\n",
        "  '''\n",
        "  user_inp = input('Mention the numnber: ')\n",
        "  num_len = len(user_inp)\n",
        "  num_list = list(user_inp)\n",
        "  value_list = []\n",
        "\n",
        "  for i in num_list:\n",
        "    value_list.append(int(i)**num_len)\n",
        "\n",
        "  total_value = sum(value_list)\n",
        "  if int(user_inp) == total_value:\n",
        "    print(f'{user_inp} is an armstrong number')\n",
        "  else:\n",
        "    print(f'{user_inp} is not an armstrong number')\n",
        "\n",
        "# Use Case.\n",
        "arms_check()"
      ],
      "metadata": {
        "colab": {
          "base_uri": "https://localhost:8080/"
        },
        "id": "gt_qe2DKpHMz",
        "outputId": "91abba7c-457f-4688-a25e-f6cb38fee4a9"
      },
      "execution_count": 9,
      "outputs": [
        {
          "output_type": "stream",
          "name": "stdout",
          "text": [
            "Mention the numnber: 345\n",
            "345 is not an armstrong number\n"
          ]
        }
      ]
    },
    {
      "cell_type": "markdown",
      "source": [
        "# Q10. Write a program the given year is 1996, a leap year."
      ],
      "metadata": {
        "id": "OBXoF9QwpIrn"
      }
    },
    {
      "cell_type": "code",
      "source": [
        "# Code.\n",
        "def leap_test(year):\n",
        "  '''\n",
        "  Take year as an argument and checks whether that is a leap year or not\n",
        "  '''\n",
        "  if year % 4 == 0:\n",
        "    print(f'{year} is a leap year')\n",
        "  elif year % 400 == 0:\n",
        "    print(f'{year} is a leap year')\n",
        "  else:\n",
        "    print(f'{year} is not a leap year')\n",
        "\n",
        "# Use Case.\n",
        "leap_test(1996)"
      ],
      "metadata": {
        "colab": {
          "base_uri": "https://localhost:8080/"
        },
        "id": "1qtB15yApLiH",
        "outputId": "70e26400-7c15-4a67-813a-a8eb69e5edc5"
      },
      "execution_count": 10,
      "outputs": [
        {
          "output_type": "stream",
          "name": "stdout",
          "text": [
            "1996 is a leap year\n"
          ]
        }
      ]
    },
    {
      "cell_type": "markdown",
      "source": [
        "# Q11. Create a list in python using the followings: 2,3,4,5,6,7 with variable ‘a’\n",
        "\n",
        "##Add ‘mango to the above list. Also add banana, grapes & orange in the list insert apple in the 5th position of a variable ‘a’ Remove last item from the list"
      ],
      "metadata": {
        "id": "aFGqZwCbzS0C"
      }
    },
    {
      "cell_type": "code",
      "source": [
        "# Code.\n",
        "a = [2,3,4,5,6,7]\n",
        "\n",
        "# Adding 'Mango', 'Banana', 'Grapes' & 'Orange'.\n",
        "a.append('Mango')\n",
        "a.append('Banana')\n",
        "a.append('Grapes')\n",
        "a.append('Orange')\n",
        "\n",
        "# Inserting 'Apple' in 5th position.\n",
        "a[5] = 'Apple'\n",
        "print(a)\n",
        "\n",
        "# Removing last item from list.\n",
        "a.pop()\n",
        "print(a)"
      ],
      "metadata": {
        "colab": {
          "base_uri": "https://localhost:8080/"
        },
        "id": "3DS4OBVUzUL7",
        "outputId": "569a1847-dcd2-471b-e855-e01e016465d6"
      },
      "execution_count": 11,
      "outputs": [
        {
          "output_type": "stream",
          "name": "stdout",
          "text": [
            "[2, 3, 4, 5, 6, 'Apple', 'Mango', 'Banana', 'Grapes', 'Orange']\n",
            "[2, 3, 4, 5, 6, 'Apple', 'Mango', 'Banana', 'Grapes']\n"
          ]
        }
      ]
    },
    {
      "cell_type": "markdown",
      "source": [
        "# Q12.L = [1,2,3,4,5,6,7]. Using the above list slice from 1:4"
      ],
      "metadata": {
        "id": "2al3Jk0FzUpL"
      }
    },
    {
      "cell_type": "code",
      "source": [
        "# Code.\n",
        "L = [1,2,3,4,5,6,7]\n",
        "sliced_L = L[1:4]\n",
        "print(sliced_L)"
      ],
      "metadata": {
        "colab": {
          "base_uri": "https://localhost:8080/"
        },
        "id": "VeNsk-0gziVZ",
        "outputId": "f6e6da45-67a6-4d28-aea9-ac796d18b07a"
      },
      "execution_count": 12,
      "outputs": [
        {
          "output_type": "stream",
          "name": "stdout",
          "text": [
            "[2, 3, 4]\n"
          ]
        }
      ]
    },
    {
      "cell_type": "markdown",
      "source": [
        "# Q13. Reverse the order of given string L = [4,5,6,8,3] Without using reverse() function."
      ],
      "metadata": {
        "id": "n7IRfv0qziyV"
      }
    },
    {
      "cell_type": "code",
      "source": [
        "# Code.\n",
        "L = [4,5,6,8,3]\n",
        "L_reverse = L[::-1]\n",
        "print(L_reverse)"
      ],
      "metadata": {
        "colab": {
          "base_uri": "https://localhost:8080/"
        },
        "id": "vP-hXNvozk9s",
        "outputId": "52fbdda3-5b9b-48b4-985f-2f44bb423dfa"
      },
      "execution_count": 13,
      "outputs": [
        {
          "output_type": "stream",
          "name": "stdout",
          "text": [
            "[3, 8, 6, 5, 4]\n"
          ]
        }
      ]
    },
    {
      "cell_type": "markdown",
      "source": [
        "# Q14. Use list comprehension to square the given list L=[2,4,7,3,6,8]"
      ],
      "metadata": {
        "id": "64cNgs7fzlVA"
      }
    },
    {
      "cell_type": "code",
      "source": [
        "# Code.\n",
        "L = [2,4,7,3,6,8]\n",
        "sq_L = [numbers**2 for numbers in L]\n",
        "print(sq_L)"
      ],
      "metadata": {
        "colab": {
          "base_uri": "https://localhost:8080/"
        },
        "id": "Mjaoe3dDznZF",
        "outputId": "13c63b29-dcb8-4de4-94bc-337227954420"
      },
      "execution_count": 14,
      "outputs": [
        {
          "output_type": "stream",
          "name": "stdout",
          "text": [
            "[4, 16, 49, 9, 36, 64]\n"
          ]
        }
      ]
    },
    {
      "cell_type": "markdown",
      "source": [
        "# Q15. Create a function that takes in a tuple of integers and returns the sum of the integers. Test the function with a tuple of your choice."
      ],
      "metadata": {
        "id": "A_o5pBKGznrw"
      }
    },
    {
      "cell_type": "code",
      "source": [
        "# Code.\n",
        "def tuple_sum(tuple):\n",
        "  '''\n",
        "  Takes in a tuple of integers and returns the sum of the integers.\n",
        "  '''\n",
        "  add_tuple = sum(tuple)\n",
        "  return f'Sum of all the elements in the tuple is {add_tuple}'\n",
        "\n",
        "# Use Case.\n",
        "random_tuple = (76,34,96,13)\n",
        "tuple_sum(random_tuple)"
      ],
      "metadata": {
        "colab": {
          "base_uri": "https://localhost:8080/",
          "height": 36
        },
        "id": "-S2-D_j6ztkc",
        "outputId": "7896b198-e09f-4343-b37e-5f5118b3a8fe"
      },
      "execution_count": 15,
      "outputs": [
        {
          "output_type": "execute_result",
          "data": {
            "text/plain": [
              "'Sum of all the elements in the tuple is 219'"
            ],
            "application/vnd.google.colaboratory.intrinsic+json": {
              "type": "string"
            }
          },
          "metadata": {},
          "execution_count": 15
        }
      ]
    },
    {
      "cell_type": "markdown",
      "source": [
        "# Q16. Create two sets of your favorite fruits, and use the union() method to combine them into a single set. Print the resulting set to the console."
      ],
      "metadata": {
        "id": "Z5elW3SfzuT3"
      }
    },
    {
      "cell_type": "code",
      "source": [
        "# Code.\n",
        "fruit_set = {'Guava', 'Mango'}\n",
        "fruit_set_1 = {'Apple', 'Banana'}\n",
        "\n",
        "# Union of two sets.\n",
        "union_set = fruit_set.union(fruit_set_1)\n",
        "print(union_set)"
      ],
      "metadata": {
        "colab": {
          "base_uri": "https://localhost:8080/"
        },
        "id": "B7tfrihyzygE",
        "outputId": "27747de3-659b-4f50-c2df-9f091c0938f3"
      },
      "execution_count": 16,
      "outputs": [
        {
          "output_type": "stream",
          "name": "stdout",
          "text": [
            "{'Apple', 'Mango', 'Guava', 'Banana'}\n"
          ]
        }
      ]
    },
    {
      "cell_type": "markdown",
      "source": [
        "# Q17. Create a set of random words, and use the add() method to add a new word to the set. Print the resulting set to the console."
      ],
      "metadata": {
        "id": "gcPCPrOSzzMF"
      }
    },
    {
      "cell_type": "code",
      "source": [
        "# Code.\n",
        "random_words = {'Pretense', 'Sycophant', 'Tome', 'Plethora'}\n",
        "\n",
        "# Adding new word.\n",
        "random_words.add('Candor')\n",
        "print(random_words)"
      ],
      "metadata": {
        "colab": {
          "base_uri": "https://localhost:8080/"
        },
        "id": "EpGC7sMfz2Wl",
        "outputId": "cf146cda-e422-4422-9eb8-aeac31cf27ed"
      },
      "execution_count": 17,
      "outputs": [
        {
          "output_type": "stream",
          "name": "stdout",
          "text": [
            "{'Tome', 'Sycophant', 'Plethora', 'Candor', 'Pretense'}\n"
          ]
        }
      ]
    },
    {
      "cell_type": "markdown",
      "source": [
        "# Q18. Create a set of your favorite animals, and use the remove() method to remove one animal from the set. Print the resulting set to the console."
      ],
      "metadata": {
        "id": "MMfy5mJfz258"
      }
    },
    {
      "cell_type": "code",
      "source": [
        "# Code.\n",
        "animals = {'Cheetah', 'Gorilla', 'Ghariyal', 'Coyote'}\n",
        "\n",
        "# Removing one element.\n",
        "animals.remove('Gorilla')\n",
        "print(animals)"
      ],
      "metadata": {
        "colab": {
          "base_uri": "https://localhost:8080/"
        },
        "id": "MdI7BBnAz57e",
        "outputId": "8bd3afa6-a17b-405d-99f4-33e980da7a6e"
      },
      "execution_count": 18,
      "outputs": [
        {
          "output_type": "stream",
          "name": "stdout",
          "text": [
            "{'Coyote', 'Ghariyal', 'Cheetah'}\n"
          ]
        }
      ]
    },
    {
      "cell_type": "markdown",
      "source": [
        "# Q19. favorite_books = {\"1984\", \"To Kill a Mockingbird\", \"Pride and Prejudice\"} favorite_movies = [\"The Shawshank Redemption\", \"The Godfather\", \"The Dark Knight\"]\n",
        "#Use the zip() function to combine the book set and movie list into a list of tuples representing book/ movie pairs. Print the resulting list."
      ],
      "metadata": {
        "id": "OWQ8o19Xz6tW"
      }
    },
    {
      "cell_type": "code",
      "source": [
        "# Code.\n",
        "favorite_books = {\"1984\", \"To Kill a Mockingbird\", \"Pride and Prejudice\"}\n",
        "favorite_movies = [\"The Shawshank Redemption\", \"The Godfather\", \"The Dark Knight\"]\n",
        "\n",
        "# Zipping the set and list.\n",
        "zip_list = list(zip(favorite_books, favorite_movies))\n",
        "print(zip_list)"
      ],
      "metadata": {
        "colab": {
          "base_uri": "https://localhost:8080/"
        },
        "id": "Nfbhg1oY0AQR",
        "outputId": "d2ee23ab-1946-4e43-c61a-8a38bfca4c6e"
      },
      "execution_count": 19,
      "outputs": [
        {
          "output_type": "stream",
          "name": "stdout",
          "text": [
            "[('Pride and Prejudice', 'The Shawshank Redemption'), ('To Kill a Mockingbird', 'The Godfather'), ('1984', 'The Dark Knight')]\n"
          ]
        }
      ]
    },
    {
      "cell_type": "markdown",
      "source": [
        "# Q20. Write a Python program to find the difference between consecutive numbers in a list."
      ],
      "metadata": {
        "id": "CSQiB19T0Aoq"
      }
    },
    {
      "cell_type": "code",
      "source": [
        "# Code.\n",
        "con_list = [33,51,66,44]\n",
        "\n",
        "dif_list = []\n",
        "for i in range(len(con_list) - 1):\n",
        "    dif = con_list[i+1] - con_list[i]\n",
        "    dif_list.append(dif)\n",
        "\n",
        "print(dif_list)"
      ],
      "metadata": {
        "colab": {
          "base_uri": "https://localhost:8080/"
        },
        "id": "lG6rDaD70E2y",
        "outputId": "a20236d1-04d6-4051-8fed-316890eafb78"
      },
      "execution_count": 20,
      "outputs": [
        {
          "output_type": "stream",
          "name": "stdout",
          "text": [
            "[18, 15, -22]\n"
          ]
        }
      ]
    },
    {
      "cell_type": "markdown",
      "source": [
        "# Q21. Create a dictionary called fruits with the following key-value pairs:\n",
        "# \"apple\": 0.75\n",
        "# \"banana\": 1.25\n",
        "# \"orange\": 0.90\n",
        "# Then, print out the price of a banana."
      ],
      "metadata": {
        "id": "jfsne8AVEvXB"
      }
    },
    {
      "cell_type": "code",
      "source": [
        "# Code.\n",
        "fruits = ['apple', 'banana', 'orange']\n",
        "price = [0.75, 1.25, 0.90]\n",
        "\n",
        "fruit_dic = dict(zip(fruits, price))\n",
        "print(fruit_dic)\n",
        "\n",
        "# Printing 'Banana' price.\n",
        "print(f'Price of Banana is {fruit_dic[\"banana\"]}')"
      ],
      "metadata": {
        "colab": {
          "base_uri": "https://localhost:8080/"
        },
        "id": "2xbVgNotFOqk",
        "outputId": "7f060fc1-97b5-4f17-bf5f-522e249bb65c"
      },
      "execution_count": 24,
      "outputs": [
        {
          "output_type": "stream",
          "name": "stdout",
          "text": [
            "{'apple': 0.75, 'banana': 1.25, 'orange': 0.9}\n",
            "Price of Banana is 1.25\n"
          ]
        }
      ]
    },
    {
      "cell_type": "markdown",
      "source": [
        "# Q22. Create an empty dictionary called ages. Add the following key-value pairs to the dictionary:\n",
        "# \"Alice\": 30\n",
        "# \"Bob\": 25\n",
        "# \"Charlie\": 35\n",
        "# Then, print out the age of Charlie."
      ],
      "metadata": {
        "id": "Z27QfLs9FPQq"
      }
    },
    {
      "cell_type": "code",
      "source": [
        "# Code.\n",
        "emp_dic = {}\n",
        "emp_dic['Alice'] = 30\n",
        "emp_dic['Bob'] = 25\n",
        "emp_dic['Charlie'] = 35\n",
        "print(emp_dic)\n",
        "\n",
        "# Age of Charlie.\n",
        "print(f'Age of Charlie is {emp_dic[\"Charlie\"]}')"
      ],
      "metadata": {
        "colab": {
          "base_uri": "https://localhost:8080/"
        },
        "id": "WnziY9AsFWpn",
        "outputId": "3b80fd18-4545-4feb-cced-f04ceab616c6"
      },
      "execution_count": 29,
      "outputs": [
        {
          "output_type": "stream",
          "name": "stdout",
          "text": [
            "{'Alice': 30, 'Bob': 25, 'Charlie': 35}\n",
            "Age of Charlie is 35\n"
          ]
        }
      ]
    },
    {
      "cell_type": "markdown",
      "source": [
        "# Q23. Write a function called word_count(text) that takes a string as input and returns a dictionary whereEach key is a word in the text and its value is the number of times that word appears in the text.Forfor example, word_count(\"hello world hello\") should return {\"hello\": 2, \"world\": 1}."
      ],
      "metadata": {
        "id": "aBPdjGUZFX_K"
      }
    },
    {
      "cell_type": "code",
      "source": [
        "# Code.\n",
        "def word_count(text):\n",
        "  '''\n",
        "  Takes a string as input and returns a dictionary where each key is a word in the text and its value is the number of times that word\n",
        "  appears in the text.\n",
        "  '''\n",
        "  # Splitting the string into list.\n",
        "  uniform_str = text.lower()\n",
        "  l = uniform_str.split(' ')\n",
        "\n",
        "  # Empty list  and empty dictionary to store counts.\n",
        "  c = []\n",
        "  d = {}\n",
        "\n",
        "  # Looping to find the count.\n",
        "  for k in l:\n",
        "    count = l.count(k)\n",
        "    d[k] = count\n",
        "\n",
        "  print(d)\n",
        "\n",
        "# Use Case.\n",
        "word_count('hello world hello')"
      ],
      "metadata": {
        "colab": {
          "base_uri": "https://localhost:8080/"
        },
        "id": "W2WZsGSHFedS",
        "outputId": "af80916f-c22f-4db6-a477-8bc1e025fa9d"
      },
      "execution_count": 47,
      "outputs": [
        {
          "output_type": "stream",
          "name": "stdout",
          "text": [
            "{'hello': 2, 'world': 1}\n"
          ]
        }
      ]
    },
    {
      "cell_type": "markdown",
      "source": [
        "# Q24. Create a dictionary called phone_book with the following key-value pairs:\n",
        "# \"Alice\": \"555-1234\"\n",
        "# \"Bob\": \"555-5678\"\n",
        "# \"Charlie\": \"555-9012\"\n",
        "# Then, prompt the user to enter a name and print out the corresponding phone number. If the name is not in the phone book, print out a message saying that the name was not found."
      ],
      "metadata": {
        "id": "bvUp-VlsFisz"
      }
    },
    {
      "cell_type": "code",
      "source": [],
      "metadata": {
        "id": "Dnfyw7dnFvin"
      },
      "execution_count": null,
      "outputs": []
    },
    {
      "cell_type": "markdown",
      "source": [
        "# Q25. Write a program that prompts the user to enter a number between 1 and 10. If the number is less than 5, print out \"Too low!\", otherwise print out \"Too high!\"."
      ],
      "metadata": {
        "id": "72ZyC3wwFxA8"
      }
    },
    {
      "cell_type": "code",
      "source": [],
      "metadata": {
        "id": "FvoxniH-F1Kq"
      },
      "execution_count": null,
      "outputs": []
    },
    {
      "cell_type": "markdown",
      "source": [
        "# Q26. Write a program that prompts the user to enter a password. If the password is \"password123\", print out \"Access granted\", otherwise print out \"Access denied\"."
      ],
      "metadata": {
        "id": "wEzIXscUF1gs"
      }
    },
    {
      "cell_type": "code",
      "source": [],
      "metadata": {
        "id": "7qoSE85oF6Ow"
      },
      "execution_count": null,
      "outputs": []
    },
    {
      "cell_type": "markdown",
      "source": [
        "# Q27. Write a program that prompts the user to enter a positive integer. Then, use a loop to print out all the odd numbers from 1 to that integer."
      ],
      "metadata": {
        "id": "7J65_bxMF6oP"
      }
    },
    {
      "cell_type": "code",
      "source": [],
      "metadata": {
        "id": "BbM-ne46F9VJ"
      },
      "execution_count": null,
      "outputs": []
    },
    {
      "cell_type": "markdown",
      "source": [
        "# Q28. Write a program that generates a random number between 1 and 100 and then prompts the user to guess the number. If the user's guess is too low, print out \"Too low!\", if the guess is too high,print out \"Too high!\", and if the guess is correct, print out \"You win!\"."
      ],
      "metadata": {
        "id": "m_MR0KlMF9yF"
      }
    },
    {
      "cell_type": "code",
      "source": [],
      "metadata": {
        "id": "_Ppah5cDGD30"
      },
      "execution_count": null,
      "outputs": []
    },
    {
      "cell_type": "markdown",
      "source": [
        "# Q29. Write a program that generates a random number between 1 and 10 and then prompts the user to guess the number. The user has three attempts to guess the number. If the user guesses correctly within three attempts, print out \"You win!\", otherwise print out \"You lose!\"."
      ],
      "metadata": {
        "id": "Z4fmi-cgGEXG"
      }
    },
    {
      "cell_type": "code",
      "source": [],
      "metadata": {
        "id": "A_6uJXu_GI4H"
      },
      "execution_count": null,
      "outputs": []
    },
    {
      "cell_type": "markdown",
      "source": [
        "# Q30. Write a program that prompts the user to enter their age and then prints out whether they are a child (age 0-12), a teenager (age 13-19), an adult (age 20-59), or a senior (age 60+)"
      ],
      "metadata": {
        "id": "rA3bR3WnGJro"
      }
    },
    {
      "cell_type": "code",
      "source": [],
      "metadata": {
        "id": "vP6rXGZNGM3T"
      },
      "execution_count": null,
      "outputs": []
    },
    {
      "cell_type": "markdown",
      "source": [
        "# Q31. Create a class called \"Person\" with properties for \"name\", \"age\", and \"gender\". Create an object of this class and print out its properties."
      ],
      "metadata": {
        "id": "0Y_MDj5GGNnb"
      }
    },
    {
      "cell_type": "code",
      "source": [],
      "metadata": {
        "id": "0TQkOzUbGRl3"
      },
      "execution_count": null,
      "outputs": []
    }
  ]
}