{
  "nbformat": 4,
  "nbformat_minor": 0,
  "metadata": {
    "colab": {
      "provenance": [],
      "authorship_tag": "ABX9TyNtx5oH2YlRt7e0tv7DuJHY",
      "include_colab_link": true
    },
    "kernelspec": {
      "name": "python3",
      "display_name": "Python 3"
    },
    "language_info": {
      "name": "python"
    }
  },
  "cells": [
    {
      "cell_type": "markdown",
      "metadata": {
        "id": "view-in-github",
        "colab_type": "text"
      },
      "source": [
        "<a href=\"https://colab.research.google.com/github/Arka1212/Data-Science-Assignments/blob/main/Python_Test.ipynb\" target=\"_parent\"><img src=\"https://colab.research.google.com/assets/colab-badge.svg\" alt=\"Open In Colab\"/></a>"
      ]
    },
    {
      "cell_type": "markdown",
      "source": [
        "## Q1. Write a Python program that defines a function called \"add_numbers\" that takes two arguments (i.e., numbers) and returns their sum. Within the function, add the two numbers together and return the result using the return statement. Call the function with the values 5 and 6, and print out the returned result.\n",
        "\n",
        "## This will result in the addition of 5 and 6, with the output of the program being the sum of these two numbers."
      ],
      "metadata": {
        "id": "G9k4ThQu7QCg"
      }
    },
    {
      "cell_type": "code",
      "source": [
        "# Code.\n",
        "def add_numbers(n1, n2):\n",
        "  '''\n",
        "  Takes two areguments and returns their sum.\n",
        "  '''\n",
        "  add = n1 + n2\n",
        "  return add\n",
        "\n",
        "# Use Case.\n",
        "print(add_numbers(5,6))"
      ],
      "metadata": {
        "colab": {
          "base_uri": "https://localhost:8080/"
        },
        "id": "gZY3GINh7a0l",
        "outputId": "5b7d5f4c-7922-4cef-f6ef-a8ca0f6709e9"
      },
      "execution_count": 1,
      "outputs": [
        {
          "output_type": "stream",
          "name": "stdout",
          "text": [
            "11\n"
          ]
        }
      ]
    },
    {
      "cell_type": "markdown",
      "source": [
        "## Q2. Write a Python program that calculates the square root of a given number using a built-in function. Specifically, the program should take an integer or float input from the user, calculate its square root using the 'sqrt()' function from the 'math' module, and print out the result to the user.\n",
        "\n",
        "## As an example, calculate the square root of the number 625 using this program, which should output the value of 25."
      ],
      "metadata": {
        "id": "h4IxziCM7ejM"
      }
    },
    {
      "cell_type": "code",
      "source": [
        "# Code.\n",
        "def sq_root(n):\n",
        "  '''\n",
        "  Takes a number and calculates the square root of the particular number.\n",
        "  '''\n",
        "  import math\n",
        "  root_value = math.sqrt(n)\n",
        "  return root_value\n",
        "\n",
        "# Use Case.\n",
        "print(sq_root(625))"
      ],
      "metadata": {
        "colab": {
          "base_uri": "https://localhost:8080/"
        },
        "id": "xz6d4bxN8BIx",
        "outputId": "ae6756cb-1137-4289-fa02-cd972e1186cf"
      },
      "execution_count": 2,
      "outputs": [
        {
          "output_type": "stream",
          "name": "stdout",
          "text": [
            "25.0\n"
          ]
        }
      ]
    },
    {
      "cell_type": "markdown",
      "source": [
        "## Q3.Write a program that prints all prime numbers between 0 to 50."
      ],
      "metadata": {
        "id": "nqxYqH1L8Bp6"
      }
    },
    {
      "cell_type": "code",
      "source": [
        "# Code.\n",
        "for num in range(2,51):\n",
        "  is_prime = True\n",
        "  for i in range(2,num):\n",
        "    if num % i == 0:\n",
        "      is_prime = False\n",
        "      break\n",
        "  if is_prime:\n",
        "    print(num)"
      ],
      "metadata": {
        "colab": {
          "base_uri": "https://localhost:8080/"
        },
        "id": "EpOr2WAt8E7Z",
        "outputId": "db8b84b9-3d44-40a1-d505-3f112649147f"
      },
      "execution_count": 3,
      "outputs": [
        {
          "output_type": "stream",
          "name": "stdout",
          "text": [
            "2\n",
            "3\n",
            "5\n",
            "7\n",
            "11\n",
            "13\n",
            "17\n",
            "19\n",
            "23\n",
            "29\n",
            "31\n",
            "37\n",
            "41\n",
            "43\n",
            "47\n"
          ]
        }
      ]
    },
    {
      "cell_type": "markdown",
      "source": [
        "## Q4.How can we swap the values of three variables (let's say a, b, and c) without using a fourth variable?\n",
        "\n",
        "## For example, if we have a=5, b=8, and c=9, how can we obtain a=9, b=5, and c=8? The challenge is to perform this operation without using an additional variable to store any of the values during the swapping process."
      ],
      "metadata": {
        "id": "ovrtBiO38FiB"
      }
    },
    {
      "cell_type": "code",
      "source": [
        "# Code.\n",
        "a = 5\n",
        "b = 8\n",
        "c = 9\n",
        "a, b, c = c, a, b\n",
        "\n",
        "print(\"a =\", a)\n",
        "print(\"b =\", b)\n",
        "print(\"c =\", c)"
      ],
      "metadata": {
        "colab": {
          "base_uri": "https://localhost:8080/"
        },
        "id": "BpWmu8E08Mv0",
        "outputId": "c4d58597-c632-4f6e-f697-fb6507b2a5c0"
      },
      "execution_count": 4,
      "outputs": [
        {
          "output_type": "stream",
          "name": "stdout",
          "text": [
            "a = 9\n",
            "b = 5\n",
            "c = 8\n"
          ]
        }
      ]
    },
    {
      "cell_type": "markdown",
      "source": [
        "## Q5. Can you write a program that determines the nature of a given number (in this case, 87) as being positive, negative, or zero? The program should be designed to take the number as input and perform the necessary calculations to determine if the number is positive (i.e., greater than zero), negative (i.e., less than zero), or zero (i.e., equal to zero). The output of the program should indicate which of these three categories the given number falls into."
      ],
      "metadata": {
        "id": "nBDFnQZM8PdM"
      }
    },
    {
      "cell_type": "code",
      "source": [
        "# Code.\n",
        "def num_nature():\n",
        "  '''\n",
        "  Takes input as a number and checks the nature of the number.\n",
        "  '''\n",
        "  # User input.\n",
        "  num = int(input('Mention the number: '))\n",
        "\n",
        "  # Conditionals.\n",
        "  if num > 0:\n",
        "    print('Number is positive')\n",
        "  elif num < 0:\n",
        "    print('Number is negative')\n",
        "  elif num == 0:\n",
        "    print('Number is equal to zero')\n",
        "\n",
        "# Use Case.\n",
        "num_nature()"
      ],
      "metadata": {
        "colab": {
          "base_uri": "https://localhost:8080/"
        },
        "id": "d9-ESD9f8W2G",
        "outputId": "f914098b-9a74-42cf-8177-02754b615a58"
      },
      "execution_count": 5,
      "outputs": [
        {
          "output_type": "stream",
          "name": "stdout",
          "text": [
            "Mention the number: 56\n",
            "Number is positive\n"
          ]
        }
      ]
    },
    {
      "cell_type": "markdown",
      "source": [
        "# Q6. How can you create a program that determines whether a given number (in this case, 98) is even or odd? The program should be designed to take the number as input and perform the necessary calculations to determine whether it is divisible by two. If the number is divisible by two without leaving a remainder, it is an even number, and if there is a remainder, it is an odd number. The output of the program should indicate whether the given number is even or odd."
      ],
      "metadata": {
        "id": "2SevARwtonR-"
      }
    },
    {
      "cell_type": "code",
      "source": [
        "# Code.\n",
        "def odd_even_checker():\n",
        "  '''\n",
        "  Takes the number as input and outputs the information whether the number is even or odd\n",
        "  '''\n",
        "  user_input = int(input('Mention the number: '))\n",
        "\n",
        "  # Coditionals\n",
        "  if user_input % 2 == 0:\n",
        "    print(f'{user_input} is an even number')\n",
        "  else:\n",
        "    print(f'{user_input} is an odd number')\n",
        "\n",
        "# Use case.\n",
        "odd_even_checker()"
      ],
      "metadata": {
        "colab": {
          "base_uri": "https://localhost:8080/"
        },
        "id": "UqkAnYb0oyIy",
        "outputId": "e769e28a-bc8b-4632-8b45-f5a3a7d91f68"
      },
      "execution_count": 6,
      "outputs": [
        {
          "output_type": "stream",
          "name": "stdout",
          "text": [
            "Mention the number: 43\n",
            "43 is an odd number\n"
          ]
        }
      ]
    },
    {
      "cell_type": "markdown",
      "source": [
        "# Q7.Write a program for sum of digits.The digits are 76543 and the output should be 25."
      ],
      "metadata": {
        "id": "v-_vfb9zo3RW"
      }
    },
    {
      "cell_type": "code",
      "source": [
        "# Code\n",
        "def sum_of_digits():\n",
        "  '''\n",
        "  Takes the digits of the number and sums it up to return the value\n",
        "  '''\n",
        "  user_inp = input('Mention the number: ')\n",
        "  l = list(user_inp)\n",
        "  new_l = []\n",
        "  for i in l:\n",
        "    new_l.append(int(i))\n",
        "  print(sum(new_l))\n",
        "\n",
        "# Use Case.\n",
        "sum_of_digits()"
      ],
      "metadata": {
        "colab": {
          "base_uri": "https://localhost:8080/"
        },
        "id": "MIQVwLO2o6TG",
        "outputId": "c9b42bad-b7e5-4085-f540-69480713da93"
      },
      "execution_count": 7,
      "outputs": [
        {
          "output_type": "stream",
          "name": "stdout",
          "text": [
            "Mention the number: 5678\n",
            "26\n"
          ]
        }
      ]
    },
    {
      "cell_type": "markdown",
      "source": [
        "# Q8.Write a program for reversing the given number 5436 and the output should be 6345."
      ],
      "metadata": {
        "id": "yXlxZQD4o6oq"
      }
    },
    {
      "cell_type": "code",
      "source": [
        "# Code.\n",
        "def reverse_num():\n",
        "  '''\n",
        "  Takes the number and diasplays the reverse number\n",
        "  '''\n",
        "  user_inp = input('Mention the number: ')\n",
        "  reverse_user_inp = user_inp[::-1]\n",
        "  print(int(reverse_user_inp))\n",
        "\n",
        "# Use Case.\n",
        "reverse_num()"
      ],
      "metadata": {
        "colab": {
          "base_uri": "https://localhost:8080/"
        },
        "id": "6e8bhT7ZpAmI",
        "outputId": "c6d29cbd-80b8-4512-e989-21452e3cfad8"
      },
      "execution_count": 8,
      "outputs": [
        {
          "output_type": "stream",
          "name": "stdout",
          "text": [
            "Mention the number: 123456\n",
            "654321\n"
          ]
        }
      ]
    },
    {
      "cell_type": "markdown",
      "source": [
        "# Q9.Write a program to check if a given number 371 is an Armstrong number?"
      ],
      "metadata": {
        "id": "7FKCW0_ApE0r"
      }
    },
    {
      "cell_type": "code",
      "source": [
        "# Code.\n",
        "def arms_check():\n",
        "  '''\n",
        "  Takes the number and checks whether its an armstrong number or not\n",
        "  '''\n",
        "  user_inp = input('Mention the numnber: ')\n",
        "  num_len = len(user_inp)\n",
        "  num_list = list(user_inp)\n",
        "  value_list = []\n",
        "\n",
        "  for i in num_list:\n",
        "    value_list.append(int(i)**num_len)\n",
        "\n",
        "  total_value = sum(value_list)\n",
        "  if int(user_inp) == total_value:\n",
        "    print(f'{user_inp} is an armstrong number')\n",
        "  else:\n",
        "    print(f'{user_inp} is not an armstrong number')\n",
        "\n",
        "# Use Case.\n",
        "arms_check()"
      ],
      "metadata": {
        "colab": {
          "base_uri": "https://localhost:8080/"
        },
        "id": "gt_qe2DKpHMz",
        "outputId": "903b0ab3-c9ec-46d2-f216-19df0ccc4daa"
      },
      "execution_count": 9,
      "outputs": [
        {
          "output_type": "stream",
          "name": "stdout",
          "text": [
            "Mention the numnber: 444\n",
            "444 is not an armstrong number\n"
          ]
        }
      ]
    },
    {
      "cell_type": "markdown",
      "source": [
        "# Q10. Write a program the given year is 1996, a leap year."
      ],
      "metadata": {
        "id": "OBXoF9QwpIrn"
      }
    },
    {
      "cell_type": "code",
      "source": [
        "# Code.\n",
        "def leap_test(year):\n",
        "  '''\n",
        "  Take year as an argument and checks whether that is a leap year or not\n",
        "  '''\n",
        "  if year % 4 == 0:\n",
        "    print(f'{year} is a leap year')\n",
        "  elif year % 400 == 0:\n",
        "    print(f'{year} is a leap year')\n",
        "  else:\n",
        "    print(f'{year} is not a leap year')\n",
        "\n",
        "# Use Case.\n",
        "leap_test(1996)"
      ],
      "metadata": {
        "colab": {
          "base_uri": "https://localhost:8080/"
        },
        "id": "1qtB15yApLiH",
        "outputId": "fb5886d6-c696-42d7-e9c3-baaa934ce69d"
      },
      "execution_count": 10,
      "outputs": [
        {
          "output_type": "stream",
          "name": "stdout",
          "text": [
            "1996 is a leap year\n"
          ]
        }
      ]
    },
    {
      "cell_type": "markdown",
      "source": [
        "# Q11. Create a list in python using the followings: 2,3,4,5,6,7 with variable ‘a’\n",
        "\n",
        "##Add ‘mango to the above list. Also add banana, grapes & orange in the list insert apple in the 5th position of a variable ‘a’ Remove last item from the list"
      ],
      "metadata": {
        "id": "aFGqZwCbzS0C"
      }
    },
    {
      "cell_type": "code",
      "source": [
        "# Code.\n",
        "a = [2,3,4,5,6,7]\n",
        "\n",
        "# Adding 'Mango', 'Banana', 'Grapes' & 'Orange'.\n",
        "a.append('Mango')\n",
        "a.append('Banana')\n",
        "a.append('Grapes')\n",
        "a.append('Orange')\n",
        "\n",
        "# Inserting 'Apple' in 5th position.\n",
        "a[5] = 'Apple'\n",
        "print(a)\n",
        "\n",
        "# Removing last item from list.\n",
        "a.pop()\n",
        "print(a)"
      ],
      "metadata": {
        "colab": {
          "base_uri": "https://localhost:8080/"
        },
        "id": "3DS4OBVUzUL7",
        "outputId": "c28e3d9a-f5e0-4267-d40a-2d19e8537358"
      },
      "execution_count": 11,
      "outputs": [
        {
          "output_type": "stream",
          "name": "stdout",
          "text": [
            "[2, 3, 4, 5, 6, 'Apple', 'Mango', 'Banana', 'Grapes', 'Orange']\n",
            "[2, 3, 4, 5, 6, 'Apple', 'Mango', 'Banana', 'Grapes']\n"
          ]
        }
      ]
    },
    {
      "cell_type": "markdown",
      "source": [
        "# Q12.L = [1,2,3,4,5,6,7]. Using the above list slice from 1:4"
      ],
      "metadata": {
        "id": "2al3Jk0FzUpL"
      }
    },
    {
      "cell_type": "code",
      "source": [
        "# Code.\n",
        "L = [1,2,3,4,5,6,7]\n",
        "sliced_L = L[1:4]\n",
        "print(sliced_L)"
      ],
      "metadata": {
        "colab": {
          "base_uri": "https://localhost:8080/"
        },
        "id": "VeNsk-0gziVZ",
        "outputId": "a0662440-5020-44dc-e19c-a3160cdea20d"
      },
      "execution_count": 12,
      "outputs": [
        {
          "output_type": "stream",
          "name": "stdout",
          "text": [
            "[2, 3, 4]\n"
          ]
        }
      ]
    },
    {
      "cell_type": "markdown",
      "source": [
        "# Q13. Reverse the order of given string L = [4,5,6,8,3] Without using reverse() function."
      ],
      "metadata": {
        "id": "n7IRfv0qziyV"
      }
    },
    {
      "cell_type": "code",
      "source": [
        "# Code.\n",
        "L = [4,5,6,8,3]\n",
        "L_reverse = L[::-1]\n",
        "print(L_reverse)"
      ],
      "metadata": {
        "colab": {
          "base_uri": "https://localhost:8080/"
        },
        "id": "vP-hXNvozk9s",
        "outputId": "31cdbe15-507f-4938-9586-e891ea19e01a"
      },
      "execution_count": 13,
      "outputs": [
        {
          "output_type": "stream",
          "name": "stdout",
          "text": [
            "[3, 8, 6, 5, 4]\n"
          ]
        }
      ]
    },
    {
      "cell_type": "markdown",
      "source": [
        "# Q14. Use list comprehension to square the given list L=[2,4,7,3,6,8]"
      ],
      "metadata": {
        "id": "64cNgs7fzlVA"
      }
    },
    {
      "cell_type": "code",
      "source": [
        "# Code.\n",
        "L = [2,4,7,3,6,8]\n",
        "sq_L = [numbers**2 for numbers in L]\n",
        "print(sq_L)"
      ],
      "metadata": {
        "colab": {
          "base_uri": "https://localhost:8080/"
        },
        "id": "Mjaoe3dDznZF",
        "outputId": "227c1bce-77db-4a55-c176-4b1c6f44c3fb"
      },
      "execution_count": 14,
      "outputs": [
        {
          "output_type": "stream",
          "name": "stdout",
          "text": [
            "[4, 16, 49, 9, 36, 64]\n"
          ]
        }
      ]
    },
    {
      "cell_type": "markdown",
      "source": [
        "# Q15. Create a function that takes in a tuple of integers and returns the sum of the integers. Test the function with a tuple of your choice."
      ],
      "metadata": {
        "id": "A_o5pBKGznrw"
      }
    },
    {
      "cell_type": "code",
      "source": [
        "# Code.\n",
        "def tuple_sum(tuple):\n",
        "  '''\n",
        "  Takes in a tuple of integers and returns the sum of the integers.\n",
        "  '''\n",
        "  add_tuple = sum(tuple)\n",
        "  return f'Sum of all the elements in the tuple is {add_tuple}'\n",
        "\n",
        "# Use Case.\n",
        "random_tuple = (76,34,96,13)\n",
        "tuple_sum(random_tuple)"
      ],
      "metadata": {
        "colab": {
          "base_uri": "https://localhost:8080/",
          "height": 36
        },
        "id": "-S2-D_j6ztkc",
        "outputId": "73cd0e15-b36e-4ceb-a4cf-05f9b379f4f2"
      },
      "execution_count": 15,
      "outputs": [
        {
          "output_type": "execute_result",
          "data": {
            "text/plain": [
              "'Sum of all the elements in the tuple is 219'"
            ],
            "application/vnd.google.colaboratory.intrinsic+json": {
              "type": "string"
            }
          },
          "metadata": {},
          "execution_count": 15
        }
      ]
    },
    {
      "cell_type": "markdown",
      "source": [
        "# Q16. Create two sets of your favorite fruits, and use the union() method to combine them into a single set. Print the resulting set to the console."
      ],
      "metadata": {
        "id": "Z5elW3SfzuT3"
      }
    },
    {
      "cell_type": "code",
      "source": [
        "# Code.\n",
        "fruit_set = {'Guava', 'Mango'}\n",
        "fruit_set_1 = {'Apple', 'Banana'}\n",
        "\n",
        "# Union of two sets.\n",
        "union_set = fruit_set.union(fruit_set_1)\n",
        "print(union_set)"
      ],
      "metadata": {
        "colab": {
          "base_uri": "https://localhost:8080/"
        },
        "id": "B7tfrihyzygE",
        "outputId": "02ddfe86-bc8f-4f80-cecc-23f9187b5115"
      },
      "execution_count": 16,
      "outputs": [
        {
          "output_type": "stream",
          "name": "stdout",
          "text": [
            "{'Guava', 'Banana', 'Apple', 'Mango'}\n"
          ]
        }
      ]
    },
    {
      "cell_type": "markdown",
      "source": [
        "# Q17. Create a set of random words, and use the add() method to add a new word to the set. Print the resulting set to the console."
      ],
      "metadata": {
        "id": "gcPCPrOSzzMF"
      }
    },
    {
      "cell_type": "code",
      "source": [
        "# Code.\n",
        "random_words = {'Pretense', 'Sycophant', 'Tome', 'Plethora'}\n",
        "\n",
        "# Adding new word.\n",
        "random_words.add('Candor')\n",
        "print(random_words)"
      ],
      "metadata": {
        "colab": {
          "base_uri": "https://localhost:8080/"
        },
        "id": "EpGC7sMfz2Wl",
        "outputId": "09e3415d-0ad1-419d-8533-d8f9742d33d0"
      },
      "execution_count": 17,
      "outputs": [
        {
          "output_type": "stream",
          "name": "stdout",
          "text": [
            "{'Tome', 'Plethora', 'Candor', 'Pretense', 'Sycophant'}\n"
          ]
        }
      ]
    },
    {
      "cell_type": "markdown",
      "source": [
        "# Q18. Create a set of your favorite animals, and use the remove() method to remove one animal from the set. Print the resulting set to the console."
      ],
      "metadata": {
        "id": "MMfy5mJfz258"
      }
    },
    {
      "cell_type": "code",
      "source": [
        "# Code.\n",
        "animals = {'Cheetah', 'Gorilla', 'Ghariyal', 'Coyote'}\n",
        "\n",
        "# Removing one element.\n",
        "animals.remove('Gorilla')\n",
        "print(animals)"
      ],
      "metadata": {
        "colab": {
          "base_uri": "https://localhost:8080/"
        },
        "id": "MdI7BBnAz57e",
        "outputId": "4f072c9e-903f-4568-bc33-20d34c32a510"
      },
      "execution_count": 18,
      "outputs": [
        {
          "output_type": "stream",
          "name": "stdout",
          "text": [
            "{'Coyote', 'Ghariyal', 'Cheetah'}\n"
          ]
        }
      ]
    },
    {
      "cell_type": "markdown",
      "source": [
        "# Q19. favorite_books = {\"1984\", \"To Kill a Mockingbird\", \"Pride and Prejudice\"} favorite_movies = [\"The Shawshank Redemption\", \"The Godfather\", \"The Dark Knight\"]\n",
        "#Use the zip() function to combine the book set and movie list into a list of tuples representing book/ movie pairs. Print the resulting list."
      ],
      "metadata": {
        "id": "OWQ8o19Xz6tW"
      }
    },
    {
      "cell_type": "code",
      "source": [
        "# Code.\n",
        "favorite_books = {\"1984\", \"To Kill a Mockingbird\", \"Pride and Prejudice\"}\n",
        "favorite_movies = [\"The Shawshank Redemption\", \"The Godfather\", \"The Dark Knight\"]\n",
        "\n",
        "# Zipping the set and list.\n",
        "zip_list = list(zip(favorite_books, favorite_movies))\n",
        "print(zip_list)"
      ],
      "metadata": {
        "colab": {
          "base_uri": "https://localhost:8080/"
        },
        "id": "Nfbhg1oY0AQR",
        "outputId": "c70feb10-83be-4fd8-a067-5d9e036c08ee"
      },
      "execution_count": 19,
      "outputs": [
        {
          "output_type": "stream",
          "name": "stdout",
          "text": [
            "[('Pride and Prejudice', 'The Shawshank Redemption'), ('To Kill a Mockingbird', 'The Godfather'), ('1984', 'The Dark Knight')]\n"
          ]
        }
      ]
    },
    {
      "cell_type": "markdown",
      "source": [
        "# Q20. Write a Python program to find the difference between consecutive numbers in a list."
      ],
      "metadata": {
        "id": "CSQiB19T0Aoq"
      }
    },
    {
      "cell_type": "code",
      "source": [
        "# Code.\n",
        "con_list = [33,51,66,44]\n",
        "\n",
        "dif_list = []\n",
        "for i in range(len(con_list) - 1):\n",
        "    dif = con_list[i+1] - con_list[i]\n",
        "    dif_list.append(dif)\n",
        "\n",
        "print(dif_list)"
      ],
      "metadata": {
        "colab": {
          "base_uri": "https://localhost:8080/"
        },
        "id": "lG6rDaD70E2y",
        "outputId": "200ac928-2257-4f5d-80da-bf61922c979c"
      },
      "execution_count": 20,
      "outputs": [
        {
          "output_type": "stream",
          "name": "stdout",
          "text": [
            "[18, 15, -22]\n"
          ]
        }
      ]
    },
    {
      "cell_type": "markdown",
      "source": [
        "# Q21. Create a dictionary called fruits with the following key-value pairs:\n",
        "# \"apple\": 0.75\n",
        "# \"banana\": 1.25\n",
        "# \"orange\": 0.90\n",
        "# Then, print out the price of a banana."
      ],
      "metadata": {
        "id": "jfsne8AVEvXB"
      }
    },
    {
      "cell_type": "code",
      "source": [
        "# Code.\n",
        "fruits = ['apple', 'banana', 'orange']\n",
        "price = [0.75, 1.25, 0.90]\n",
        "\n",
        "fruit_dic = dict(zip(fruits, price))\n",
        "print(fruit_dic)\n",
        "\n",
        "# Printing 'Banana' price.\n",
        "print(f'Price of Banana is {fruit_dic[\"banana\"]}')"
      ],
      "metadata": {
        "colab": {
          "base_uri": "https://localhost:8080/"
        },
        "id": "2xbVgNotFOqk",
        "outputId": "2fb179a2-55a4-4de6-d488-bea0f5b2517f"
      },
      "execution_count": 21,
      "outputs": [
        {
          "output_type": "stream",
          "name": "stdout",
          "text": [
            "{'apple': 0.75, 'banana': 1.25, 'orange': 0.9}\n",
            "Price of Banana is 1.25\n"
          ]
        }
      ]
    },
    {
      "cell_type": "markdown",
      "source": [
        "# Q22. Create an empty dictionary called ages. Add the following key-value pairs to the dictionary:\n",
        "# \"Alice\": 30\n",
        "# \"Bob\": 25\n",
        "# \"Charlie\": 35\n",
        "# Then, print out the age of Charlie."
      ],
      "metadata": {
        "id": "Z27QfLs9FPQq"
      }
    },
    {
      "cell_type": "code",
      "source": [
        "# Code.\n",
        "emp_dic = {}\n",
        "emp_dic['Alice'] = 30\n",
        "emp_dic['Bob'] = 25\n",
        "emp_dic['Charlie'] = 35\n",
        "print(emp_dic)\n",
        "\n",
        "# Age of Charlie.\n",
        "print(f'Age of Charlie is {emp_dic[\"Charlie\"]}')"
      ],
      "metadata": {
        "colab": {
          "base_uri": "https://localhost:8080/"
        },
        "id": "WnziY9AsFWpn",
        "outputId": "cfb9f55e-6832-418e-b7b4-a5b768de2657"
      },
      "execution_count": 22,
      "outputs": [
        {
          "output_type": "stream",
          "name": "stdout",
          "text": [
            "{'Alice': 30, 'Bob': 25, 'Charlie': 35}\n",
            "Age of Charlie is 35\n"
          ]
        }
      ]
    },
    {
      "cell_type": "markdown",
      "source": [
        "# Q23. Write a function called word_count(text) that takes a string as input and returns a dictionary whereEach key is a word in the text and its value is the number of times that word appears in the text.Forfor example, word_count(\"hello world hello\") should return {\"hello\": 2, \"world\": 1}."
      ],
      "metadata": {
        "id": "aBPdjGUZFX_K"
      }
    },
    {
      "cell_type": "code",
      "source": [
        "# Code.\n",
        "def word_count(text):\n",
        "  '''\n",
        "  Takes a string as input and returns a dictionary where each key is a word in the text and its value is the number of times that word\n",
        "  appears in the text.\n",
        "  '''\n",
        "  # Splitting the string into list.\n",
        "  uniform_str = text.lower()\n",
        "  l = uniform_str.split(' ')\n",
        "\n",
        "  # Empty dictionary to store key-value pairs.\n",
        "  d = {}\n",
        "\n",
        "  # Looping to find the count.\n",
        "  for k in l:\n",
        "    count = l.count(k)\n",
        "    d[k] = count\n",
        "\n",
        "  print(d)\n",
        "\n",
        "# Use Case.\n",
        "word_count('hello world hello bowl can cowl bowl bowl cowl can')"
      ],
      "metadata": {
        "colab": {
          "base_uri": "https://localhost:8080/"
        },
        "id": "W2WZsGSHFedS",
        "outputId": "1e08a628-44c6-49d7-ee30-11fd502c1649"
      },
      "execution_count": 23,
      "outputs": [
        {
          "output_type": "stream",
          "name": "stdout",
          "text": [
            "{'hello': 2, 'world': 1, 'bowl': 3, 'can': 2, 'cowl': 2}\n"
          ]
        }
      ]
    },
    {
      "cell_type": "markdown",
      "source": [
        "# Q24. Create a dictionary called phone_book with the following key-value pairs:\n",
        "# \"Alice\": \"555-1234\"\n",
        "# \"Bob\": \"555-5678\"\n",
        "# \"Charlie\": \"555-9012\"\n",
        "# Then, prompt the user to enter a name and print out the corresponding phone number. If the name is not in the phone book, print out a message saying that the name was not found."
      ],
      "metadata": {
        "id": "bvUp-VlsFisz"
      }
    },
    {
      "cell_type": "code",
      "source": [
        "# Code.\n",
        "e = {\"Alice\":\"555-1234\", \"Bob\":\"555-5678\", \"Charlie\":\"555-9012\"}\n",
        "\n",
        "# Code to extract number.\n",
        "name_inp = input('Mention the name: ').capitalize()\n",
        "\n",
        "if name_inp in e.keys():\n",
        "  print(e[name_inp])\n",
        "else:\n",
        "  print('Name not found')"
      ],
      "metadata": {
        "colab": {
          "base_uri": "https://localhost:8080/"
        },
        "id": "Dnfyw7dnFvin",
        "outputId": "c422459f-8090-4b0b-d682-0cfbdf9a681c"
      },
      "execution_count": 24,
      "outputs": [
        {
          "output_type": "stream",
          "name": "stdout",
          "text": [
            "Mention the name: Bob\n",
            "555-5678\n"
          ]
        }
      ]
    },
    {
      "cell_type": "markdown",
      "source": [
        "# Q25. Write a program that prompts the user to enter a number between 1 and 10. If the number is less than 5, print out \"Too low!\", otherwise print out \"Too high!\"."
      ],
      "metadata": {
        "id": "72ZyC3wwFxA8"
      }
    },
    {
      "cell_type": "code",
      "source": [
        "# Code.\n",
        "num = int(input('Mention a number between 1 to 10: '))\n",
        "if num < 5:\n",
        "  print('Too Low')\n",
        "else:\n",
        "  print('Too High')"
      ],
      "metadata": {
        "colab": {
          "base_uri": "https://localhost:8080/"
        },
        "id": "FvoxniH-F1Kq",
        "outputId": "c927411e-1988-43fe-8e60-692221f5c2f5"
      },
      "execution_count": 25,
      "outputs": [
        {
          "output_type": "stream",
          "name": "stdout",
          "text": [
            "Mention a number between 1 to 10: 4\n",
            "Too Low\n"
          ]
        }
      ]
    },
    {
      "cell_type": "markdown",
      "source": [
        "# Q26. Write a program that prompts the user to enter a password. If the password is \"password123\", print out \"Access granted\", otherwise print out \"Access denied\"."
      ],
      "metadata": {
        "id": "wEzIXscUF1gs"
      }
    },
    {
      "cell_type": "code",
      "source": [
        "# Code.\n",
        "pw = input('Insert the password: ')\n",
        "if pw == 'password123':\n",
        "  print('ACCESS GRANTED')\n",
        "else:\n",
        "  print('ACCESS DENIED')"
      ],
      "metadata": {
        "colab": {
          "base_uri": "https://localhost:8080/"
        },
        "id": "7qoSE85oF6Ow",
        "outputId": "9d3a6093-3fc8-418c-afc3-1ce31b7b03ef"
      },
      "execution_count": 26,
      "outputs": [
        {
          "output_type": "stream",
          "name": "stdout",
          "text": [
            "Insert the password: kkkss\n",
            "ACCESS DENIED\n"
          ]
        }
      ]
    },
    {
      "cell_type": "markdown",
      "source": [
        "# Q27. Write a program that prompts the user to enter a positive integer. Then, use a loop to print out all the odd numbers from 1 to that integer."
      ],
      "metadata": {
        "id": "7J65_bxMF6oP"
      }
    },
    {
      "cell_type": "code",
      "source": [
        "# Code.\n",
        "user_inp = int(input('Type a positive integer: '))\n",
        "\n",
        "if user_inp < 0:\n",
        "  print(\"It is not a positive integer\")\n",
        "elif user_inp > 0:\n",
        "  odd_list = []\n",
        "  for i in range(1, user_inp):\n",
        "    if i % 2 != 0:\n",
        "      odd_list.append(i)\n",
        "    else:\n",
        "      pass\n",
        "  print(odd_list)"
      ],
      "metadata": {
        "colab": {
          "base_uri": "https://localhost:8080/"
        },
        "id": "BbM-ne46F9VJ",
        "outputId": "37052d16-0b38-4cc4-dba9-3ff7a9da7d7d"
      },
      "execution_count": 29,
      "outputs": [
        {
          "output_type": "stream",
          "name": "stdout",
          "text": [
            "Type a positive integer: -9\n",
            "It is not a positive integer\n"
          ]
        }
      ]
    },
    {
      "cell_type": "markdown",
      "source": [
        "# Q28. Write a program that generates a random number between 1 and 100 and then prompts the user to guess the number. If the user's guess is too low, print out \"Too low!\", if the guess is too high,print out \"Too high!\", and if the guess is correct, print out \"You win!\"."
      ],
      "metadata": {
        "id": "m_MR0KlMF9yF"
      }
    },
    {
      "cell_type": "code",
      "source": [
        "# Code.\n",
        "import random\n",
        "rand = random.randint(1,100)\n",
        "\n",
        "# Number Guessing.\n",
        "g = int(input('Guess the number: '))\n",
        "if g == rand:\n",
        "  print('You Win')\n",
        "elif g < rand - 20:\n",
        "  print('Too Low')\n",
        "elif g > rand + 20:\n",
        "  print('Too High')\n",
        "else:\n",
        "  pass"
      ],
      "metadata": {
        "colab": {
          "base_uri": "https://localhost:8080/"
        },
        "id": "_Ppah5cDGD30",
        "outputId": "547ef8ca-85a3-4fdc-b861-d82be7b730f2"
      },
      "execution_count": 30,
      "outputs": [
        {
          "output_type": "stream",
          "name": "stdout",
          "text": [
            "Guess the number: 78\n",
            "Too High\n"
          ]
        }
      ]
    },
    {
      "cell_type": "markdown",
      "source": [
        "# Q29. Write a program that generates a random number between 1 and 10 and then prompts the user to guess the number. The user has three attempts to guess the number. If the user guesses correctly within three attempts, print out \"You win!\", otherwise print out \"You lose!\"."
      ],
      "metadata": {
        "id": "Z4fmi-cgGEXG"
      }
    },
    {
      "cell_type": "code",
      "source": [
        "# Code.\n",
        "import random\n",
        "rand = random.randint(1,10)\n",
        "attempts = 3\n",
        "\n",
        "# Number Guessing.\n",
        "for i in range(1, attempts + 1):\n",
        "  guess = int(input('Guess the number: '))\n",
        "  if guess == rand:\n",
        "    print('You win')\n",
        "    break\n",
        "  elif i < attempts:\n",
        "    print('Wrong guess')\n",
        "  else:\n",
        "    print('You Lose')"
      ],
      "metadata": {
        "colab": {
          "base_uri": "https://localhost:8080/"
        },
        "id": "A_6uJXu_GI4H",
        "outputId": "89bf6b7b-632c-47a7-d235-09194a3a2dc5"
      },
      "execution_count": 31,
      "outputs": [
        {
          "output_type": "stream",
          "name": "stdout",
          "text": [
            "Guess the number: 65\n",
            "Wrong guess\n",
            "Guess the number: 22\n",
            "Wrong guess\n",
            "Guess the number: 65\n",
            "You Lose\n"
          ]
        }
      ]
    },
    {
      "cell_type": "markdown",
      "source": [
        "# Q30. Write a program that prompts the user to enter their age and then prints out whether they are a child (age 0-12), a teenager (age 13-19), an adult (age 20-59), or a senior (age 60+)"
      ],
      "metadata": {
        "id": "rA3bR3WnGJro"
      }
    },
    {
      "cell_type": "code",
      "source": [
        "# Code.\n",
        "m = int(input('Mention your age: '))\n",
        "if 0 < m <= 12:\n",
        "  print('Child')\n",
        "elif 13 < m <= 19:\n",
        "  print('Teenager')\n",
        "elif 20 < m <= 59:\n",
        "  print('Adult')\n",
        "elif m > 60:\n",
        "  print('Senior')\n",
        "else:\n",
        "  pass"
      ],
      "metadata": {
        "colab": {
          "base_uri": "https://localhost:8080/"
        },
        "id": "vP6rXGZNGM3T",
        "outputId": "5f24f52c-e573-4bec-ae7e-2d79058ca52a"
      },
      "execution_count": 33,
      "outputs": [
        {
          "output_type": "stream",
          "name": "stdout",
          "text": [
            "Mention your age: 25\n",
            "Adult\n"
          ]
        }
      ]
    },
    {
      "cell_type": "markdown",
      "source": [
        "# Q31. Create a class called \"Person\" with properties for \"name\", \"age\", and \"gender\". Create an object of this class and print out its properties."
      ],
      "metadata": {
        "id": "0Y_MDj5GGNnb"
      }
    },
    {
      "cell_type": "code",
      "source": [
        "# Code.\n",
        "class Person:\n",
        "  def __init__(self, name, age, gender):\n",
        "    self.name = name\n",
        "    self.age = age\n",
        "    self.gender = gender\n",
        "\n",
        "# Creating object.\n",
        "person_obj = Person('Sayan Bandopadhyay', 25, 'Male')\n",
        "\n",
        "# Printing properties of object.\n",
        "print(f'Name of the person is {person_obj.name}')\n",
        "print(f'Age of the person is {person_obj.age}')\n",
        "print(f'Gender of the person is {person_obj.gender}')"
      ],
      "metadata": {
        "colab": {
          "base_uri": "https://localhost:8080/"
        },
        "id": "0TQkOzUbGRl3",
        "outputId": "795e7ee1-af42-4ed6-d6b7-921b06c72759"
      },
      "execution_count": 34,
      "outputs": [
        {
          "output_type": "stream",
          "name": "stdout",
          "text": [
            "Name of the person is Sayan Bandopadhyay\n",
            "Age of the person is 25\n",
            "Gender of the person is Male\n"
          ]
        }
      ]
    },
    {
      "cell_type": "markdown",
      "source": [
        "# Q32. Write a Python class called \"Rectangle\" with attributes for \"width\" and \"height\". Implement methods to calculate the area and perimeter of the rectangle. Create an instance of this class and use it to print out the rectangle's area and perimeter."
      ],
      "metadata": {
        "id": "J7ZZI7IVM3s9"
      }
    },
    {
      "cell_type": "code",
      "source": [
        "# Code.\n",
        "class Rectangle:\n",
        "  def __init__(self, length, width):\n",
        "    self.length = length\n",
        "    self.width = width\n",
        "\n",
        "  def area(self):\n",
        "    a = self.length * self.width\n",
        "    return f'Area is {a}'\n",
        "\n",
        "  def peri(self):\n",
        "    p = 2 * (self.length + self.width)\n",
        "    return f'Perimeter is {p}'\n",
        "\n",
        "# Creating class instance.\n",
        "rec_object = Rectangle(50, 20)\n",
        "rectangle_area = rec_object.area()\n",
        "rectangle_peri = rec_object.peri()\n",
        "\n",
        "# Outputing the area and perimeter.\n",
        "print(rectangle_area)\n",
        "print(rectangle_peri)"
      ],
      "metadata": {
        "colab": {
          "base_uri": "https://localhost:8080/"
        },
        "id": "K-pPwltlM8Cs",
        "outputId": "c6bde7d5-03de-43f5-d047-10007fee949e"
      },
      "execution_count": 39,
      "outputs": [
        {
          "output_type": "stream",
          "name": "stdout",
          "text": [
            "Area is 1000\n",
            "Perimeter is 140\n"
          ]
        }
      ]
    },
    {
      "cell_type": "markdown",
      "source": [
        "# Q33. Write a Python class called \"BankAccount\" with attributes for \"balance\" and \"interest_rate\". Implement methods to deposit and withdraw money from the account, as well as to calculate the interest earned on the balance based on the interest rate. Create an instance of this class and use it to test out the implemented methods for deposit, withdrawal, and interest calculation."
      ],
      "metadata": {
        "id": "iA4oQWmNNBYt"
      }
    },
    {
      "cell_type": "code",
      "source": [
        "# Code.\n",
        "class BankAccount:\n",
        "  def __init__(self, balance, int_rate):\n",
        "    self.balance = balance\n",
        "    self.interest_rate = int_rate\n",
        "\n",
        "  def deposit(self):\n",
        "    ask = int(input('Mention Amount: '))\n",
        "    bal = self.balance + ask\n",
        "    self.balance += ask\n",
        "    return f'Depsoited {ask} and the updated balance is {bal}'\n",
        "\n",
        "  def withdraw(self):\n",
        "    ask1 = int(input('Mention Amount: '))\n",
        "    if ask1 <= self.balance:\n",
        "      self.balance -= ask1  # Update the balance\n",
        "      return f'Withdrew {ask1} and the remaining balance is {self.balance}'\n",
        "    else:\n",
        "      return 'Insufficient funds for withdrawal'\n",
        "\n",
        "\n",
        "  def int_rate_calc(self):\n",
        "    i = self.balance * (self.interest_rate / 100)\n",
        "    return f'Interest to be earned on the balance is {i}'\n",
        "\n",
        "# Creating class instance.\n",
        "my_bank_acc = BankAccount(65000, 6)\n",
        "\n",
        "# Depsoting Money.\n",
        "dep = my_bank_acc.deposit()\n",
        "print(dep)\n",
        "\n",
        "# Withdrawing Money.\n",
        "withdrawn = my_bank_acc.withdraw()\n",
        "print(withdrawn)\n",
        "\n",
        "# Interest Calculations.\n",
        "i_amount = my_bank_acc.int_rate_calc()\n",
        "print(i_amount)"
      ],
      "metadata": {
        "colab": {
          "base_uri": "https://localhost:8080/"
        },
        "id": "v5w3S-thNFfb",
        "outputId": "effedf96-a21a-4e13-f881-a6ee5e3f18c2"
      },
      "execution_count": 45,
      "outputs": [
        {
          "output_type": "stream",
          "name": "stdout",
          "text": [
            "Mention Amount: 4500\n",
            "Depsoited 4500 and the updated balance is 69500\n",
            "Mention Amount: 7800\n",
            "Withdrew 7800 and the remaining balance is 61700\n",
            "Interest to be earned on the balance is 3702.0\n"
          ]
        }
      ]
    },
    {
      "cell_type": "markdown",
      "source": [
        "# Q34. Write a Python class called \"Animal\" with attributes for \"name\" and \"species\". Create a subclass of \"Animal\" called \"Dog\" with additional attributes for \"breed\" and \"owner\". Implement both classes with appropriate methods and constructors to initialize their properties. Create instances of both classes and use them to print out the various properties of the animals and dogs, such as their names, species, breeds, and owners."
      ],
      "metadata": {
        "id": "rwdz67iDNHGf"
      }
    },
    {
      "cell_type": "code",
      "source": [],
      "metadata": {
        "id": "pO8GUm5VNngD"
      },
      "execution_count": null,
      "outputs": []
    },
    {
      "cell_type": "markdown",
      "source": [
        "# Q35. Create a class called \"Car\" with properties for \"make\", \"model\", and \"year\". Create a subclass of \"Car\" called \"ElectricCar\" with additional properties for \"battery_size\" and \"range\". Create objects of both classes and print out their properties."
      ],
      "metadata": {
        "id": "cXwIdcN_Ntau"
      }
    },
    {
      "cell_type": "code",
      "source": [],
      "metadata": {
        "id": "ydC24KHoNyK6"
      },
      "execution_count": null,
      "outputs": []
    },
    {
      "cell_type": "markdown",
      "source": [
        "# Q36. Create a class called \"Student\" with properties for \"name\" and \"id\". Create a subclass of \"Student\" called \"GraduateStudent\" with additional properties for \"advisor\" and \"research_area\". Create objects of both classes and print out their properties."
      ],
      "metadata": {
        "id": "oSRG8GDyNy6a"
      }
    },
    {
      "cell_type": "code",
      "source": [],
      "metadata": {
        "id": "lgvZZYpVN3tz"
      },
      "execution_count": null,
      "outputs": []
    }
  ]
}