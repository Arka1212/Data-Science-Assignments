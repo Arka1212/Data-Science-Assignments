{
  "nbformat": 4,
  "nbformat_minor": 0,
  "metadata": {
    "colab": {
      "provenance": [],
      "authorship_tag": "ABX9TyOjjRebHZ2yvVvkTRvRW/my",
      "include_colab_link": true
    },
    "kernelspec": {
      "name": "python3",
      "display_name": "Python 3"
    },
    "language_info": {
      "name": "python"
    }
  },
  "cells": [
    {
      "cell_type": "markdown",
      "metadata": {
        "id": "view-in-github",
        "colab_type": "text"
      },
      "source": [
        "<a href=\"https://colab.research.google.com/github/Arka1212/Data-Science-Assignments/blob/main/Python_Test.ipynb\" target=\"_parent\"><img src=\"https://colab.research.google.com/assets/colab-badge.svg\" alt=\"Open In Colab\"/></a>"
      ]
    },
    {
      "cell_type": "markdown",
      "source": [
        "## Q1. Write a Python program that defines a function called \"add_numbers\" that takes two arguments (i.e., numbers) and returns their sum. Within the function, add the two numbers together and return the result using the return statement. Call the function with the values 5 and 6, and print out the returned result.\n",
        "\n",
        "## This will result in the addition of 5 and 6, with the output of the program being the sum of these two numbers."
      ],
      "metadata": {
        "id": "G9k4ThQu7QCg"
      }
    },
    {
      "cell_type": "code",
      "source": [
        "# Code.\n",
        "def add_numbers(n1, n2):\n",
        "  '''\n",
        "  Takes two areguments and returns their sum.\n",
        "  '''\n",
        "  add = n1 + n2\n",
        "  return add\n",
        "\n",
        "# Use Case.\n",
        "print(add_numbers(5,6))"
      ],
      "metadata": {
        "colab": {
          "base_uri": "https://localhost:8080/"
        },
        "id": "gZY3GINh7a0l",
        "outputId": "5cbd6633-8f5e-490b-9dfd-f35ccc500b89"
      },
      "execution_count": 1,
      "outputs": [
        {
          "output_type": "stream",
          "name": "stdout",
          "text": [
            "11\n"
          ]
        }
      ]
    },
    {
      "cell_type": "markdown",
      "source": [
        "## Q2. Write a Python program that calculates the square root of a given number using a built-in function. Specifically, the program should take an integer or float input from the user, calculate its square root using the 'sqrt()' function from the 'math' module, and print out the result to the user.\n",
        "\n",
        "## As an example, calculate the square root of the number 625 using this program, which should output the value of 25."
      ],
      "metadata": {
        "id": "h4IxziCM7ejM"
      }
    },
    {
      "cell_type": "code",
      "source": [
        "# Code.\n",
        "def sq_root(n):\n",
        "  '''\n",
        "  Takes a number and calculates the square root of the particular number.\n",
        "  '''\n",
        "  import math\n",
        "  root_value = math.sqrt(n)\n",
        "  return root_value\n",
        "\n",
        "# Use Case.\n",
        "print(sq_root(625))"
      ],
      "metadata": {
        "colab": {
          "base_uri": "https://localhost:8080/"
        },
        "id": "xz6d4bxN8BIx",
        "outputId": "716ce5fe-a0cc-4aa4-9e87-65e15e5b109b"
      },
      "execution_count": 2,
      "outputs": [
        {
          "output_type": "stream",
          "name": "stdout",
          "text": [
            "25.0\n"
          ]
        }
      ]
    },
    {
      "cell_type": "markdown",
      "source": [
        "## Q3.Write a program that prints all prime numbers between 0 to 50."
      ],
      "metadata": {
        "id": "nqxYqH1L8Bp6"
      }
    },
    {
      "cell_type": "code",
      "source": [
        "# Code.\n",
        "for num in range(2,51):\n",
        "  is_prime = True\n",
        "  for i in range(2,num):\n",
        "    if num % i == 0:\n",
        "      is_prime = False\n",
        "      break\n",
        "  if is_prime:\n",
        "    print(num)"
      ],
      "metadata": {
        "colab": {
          "base_uri": "https://localhost:8080/"
        },
        "id": "EpOr2WAt8E7Z",
        "outputId": "76cd94d6-593e-4798-c325-a7c9c89f0a0e"
      },
      "execution_count": 3,
      "outputs": [
        {
          "output_type": "stream",
          "name": "stdout",
          "text": [
            "2\n",
            "3\n",
            "5\n",
            "7\n",
            "11\n",
            "13\n",
            "17\n",
            "19\n",
            "23\n",
            "29\n",
            "31\n",
            "37\n",
            "41\n",
            "43\n",
            "47\n"
          ]
        }
      ]
    },
    {
      "cell_type": "markdown",
      "source": [
        "## Q4.How can we swap the values of three variables (let's say a, b, and c) without using a fourth variable?\n",
        "\n",
        "## For example, if we have a=5, b=8, and c=9, how can we obtain a=9, b=5, and c=8? The challenge is to perform this operation without using an additional variable to store any of the values during the swapping process."
      ],
      "metadata": {
        "id": "ovrtBiO38FiB"
      }
    },
    {
      "cell_type": "code",
      "source": [
        "# Code.\n",
        "a = 5\n",
        "b = 8\n",
        "c = 9\n",
        "a, b, c = c, a, b\n",
        "\n",
        "print(\"a =\", a)\n",
        "print(\"b =\", b)\n",
        "print(\"c =\", c)"
      ],
      "metadata": {
        "colab": {
          "base_uri": "https://localhost:8080/"
        },
        "id": "BpWmu8E08Mv0",
        "outputId": "bea22fb2-66f4-4c28-f548-f3217864c443"
      },
      "execution_count": 4,
      "outputs": [
        {
          "output_type": "stream",
          "name": "stdout",
          "text": [
            "a = 9\n",
            "b = 5\n",
            "c = 8\n"
          ]
        }
      ]
    },
    {
      "cell_type": "markdown",
      "source": [
        "## Q5. Can you write a program that determines the nature of a given number (in this case, 87) as being positive, negative, or zero? The program should be designed to take the number as input and perform the necessary calculations to determine if the number is positive (i.e., greater than zero), negative (i.e., less than zero), or zero (i.e., equal to zero). The output of the program should indicate which of these three categories the given number falls into."
      ],
      "metadata": {
        "id": "nBDFnQZM8PdM"
      }
    },
    {
      "cell_type": "code",
      "source": [
        "# Code.\n",
        "def num_nature():\n",
        "  '''\n",
        "  Takes input as a number and checks the nature of the number.\n",
        "  '''\n",
        "  # User input.\n",
        "  num = int(input('Mention the number: '))\n",
        "\n",
        "  # Conditionals.\n",
        "  if num > 0:\n",
        "    print('Number is positive')\n",
        "  elif num < 0:\n",
        "    print('Number is negative')\n",
        "  elif num == 0:\n",
        "    print('Number is equal to zero')\n",
        "\n",
        "# Use Case.\n",
        "num_nature()"
      ],
      "metadata": {
        "colab": {
          "base_uri": "https://localhost:8080/"
        },
        "id": "d9-ESD9f8W2G",
        "outputId": "d60d07b4-3153-486d-e8a1-a76034bacc97"
      },
      "execution_count": 5,
      "outputs": [
        {
          "output_type": "stream",
          "name": "stdout",
          "text": [
            "Mention the number: -44\n",
            "Number is negative\n"
          ]
        }
      ]
    },
    {
      "cell_type": "markdown",
      "source": [
        "# Q6. How can you create a program that determines whether a given number (in this case, 98) is even or odd? The program should be designed to take the number as input and perform the necessary calculations to determine whether it is divisible by two. If the number is divisible by two without leaving a remainder, it is an even number, and if there is a remainder, it is an odd number. The output of the program should indicate whether the given number is even or odd."
      ],
      "metadata": {
        "id": "2SevARwtonR-"
      }
    },
    {
      "cell_type": "code",
      "source": [
        "# Code.\n",
        "def odd_even_checker():\n",
        "  '''\n",
        "  Takes the number as input and outputs the information whether the number is even or odd\n",
        "  '''\n",
        "  user_input = int(input('Mention the number: '))\n",
        "\n",
        "  # Coditionals\n",
        "  if user_input % 2 == 0:\n",
        "    print(f'{user_input} is an even number')\n",
        "  else:\n",
        "    print(f'{user_input} is an odd number')\n",
        "\n",
        "# Use case.\n",
        "odd_even_checker()"
      ],
      "metadata": {
        "colab": {
          "base_uri": "https://localhost:8080/"
        },
        "id": "UqkAnYb0oyIy",
        "outputId": "b2c86a54-39aa-4a6f-def4-8d3277f2caa5"
      },
      "execution_count": 6,
      "outputs": [
        {
          "output_type": "stream",
          "name": "stdout",
          "text": [
            "Mention the number: 45\n",
            "45 is an odd number\n"
          ]
        }
      ]
    },
    {
      "cell_type": "markdown",
      "source": [
        "# Q7.Write a program for sum of digits.The digits are 76543 and the output should be 25."
      ],
      "metadata": {
        "id": "v-_vfb9zo3RW"
      }
    },
    {
      "cell_type": "code",
      "source": [
        "# Code\n",
        "def sum_of_digits():\n",
        "  '''\n",
        "  Takes the digits of the number and sums it up to return the value\n",
        "  '''\n",
        "  user_inp = input('Mention the number: ')\n",
        "  l = list(user_inp)\n",
        "  new_l = []\n",
        "  for i in l:\n",
        "    new_l.append(int(i))\n",
        "  print(sum(new_l))\n",
        "\n",
        "# Use Case.\n",
        "sum_of_digits()"
      ],
      "metadata": {
        "colab": {
          "base_uri": "https://localhost:8080/"
        },
        "id": "MIQVwLO2o6TG",
        "outputId": "0dbd1285-451e-4d9a-9c79-cbe5778528ff"
      },
      "execution_count": 7,
      "outputs": [
        {
          "output_type": "stream",
          "name": "stdout",
          "text": [
            "Mention the number: 345\n",
            "12\n"
          ]
        }
      ]
    },
    {
      "cell_type": "markdown",
      "source": [
        "# Q8.Write a program for reversing the given number 5436 and the output should be 6345."
      ],
      "metadata": {
        "id": "yXlxZQD4o6oq"
      }
    },
    {
      "cell_type": "code",
      "source": [
        "# Code.\n",
        "def reverse_num():\n",
        "  '''\n",
        "  Takes the number and diasplays the reverse number\n",
        "  '''\n",
        "  user_inp = input('Mention the number: ')\n",
        "  reverse_user_inp = user_inp[::-1]\n",
        "  print(int(reverse_user_inp))\n",
        "\n",
        "# Use Case.\n",
        "reverse_num()"
      ],
      "metadata": {
        "colab": {
          "base_uri": "https://localhost:8080/"
        },
        "id": "6e8bhT7ZpAmI",
        "outputId": "2b8b8dcc-22b4-4455-deb3-18bf80a64253"
      },
      "execution_count": 8,
      "outputs": [
        {
          "output_type": "stream",
          "name": "stdout",
          "text": [
            "Mention the number: 421\n",
            "124\n"
          ]
        }
      ]
    },
    {
      "cell_type": "markdown",
      "source": [
        "# Q9.Write a program to check if a given number 371 is an Armstrong number?"
      ],
      "metadata": {
        "id": "7FKCW0_ApE0r"
      }
    },
    {
      "cell_type": "code",
      "source": [
        "# Code.\n",
        "def arms_check():\n",
        "  '''\n",
        "  Takes the number and checks whether its an armstrong number or not\n",
        "  '''\n",
        "  user_inp = input('Mention the numnber: ')\n",
        "  num_len = len(user_inp)\n",
        "  num_list = list(user_inp)\n",
        "  value_list = []\n",
        "\n",
        "  for i in num_list:\n",
        "    value_list.append(int(i)**num_len)\n",
        "\n",
        "  total_value = sum(value_list)\n",
        "  if int(user_inp) == total_value:\n",
        "    print(f'{user_inp} is an armstrong number')\n",
        "  else:\n",
        "    print(f'{user_inp} is not an armstrong number')\n",
        "\n",
        "# Use Case.\n",
        "arms_check()"
      ],
      "metadata": {
        "colab": {
          "base_uri": "https://localhost:8080/"
        },
        "id": "gt_qe2DKpHMz",
        "outputId": "37f9cea0-40b6-4649-f61a-1753ae2d452d"
      },
      "execution_count": 9,
      "outputs": [
        {
          "output_type": "stream",
          "name": "stdout",
          "text": [
            "Mention the numnber: 476\n",
            "476 is not an armstrong number\n"
          ]
        }
      ]
    },
    {
      "cell_type": "markdown",
      "source": [
        "# Q10. Write a program the given year is 1996, a leap year."
      ],
      "metadata": {
        "id": "OBXoF9QwpIrn"
      }
    },
    {
      "cell_type": "code",
      "source": [
        "# Code.\n",
        "def leap_test(year):\n",
        "  '''\n",
        "  Take year as an argument and checks whether that is a leap year or not\n",
        "  '''\n",
        "  if year % 4 == 0:\n",
        "    print(f'{year} is a leap year')\n",
        "  elif year % 400 == 0:\n",
        "    print(f'{year} is a leap year')\n",
        "  else:\n",
        "    print(f'{year} is not a leap year')\n",
        "\n",
        "# Use Case.\n",
        "leap_test(1996)"
      ],
      "metadata": {
        "colab": {
          "base_uri": "https://localhost:8080/"
        },
        "id": "1qtB15yApLiH",
        "outputId": "e7b54b5e-15c1-43a6-e9d4-cc6ef860fe93"
      },
      "execution_count": 10,
      "outputs": [
        {
          "output_type": "stream",
          "name": "stdout",
          "text": [
            "1996 is a leap year\n"
          ]
        }
      ]
    },
    {
      "cell_type": "markdown",
      "source": [
        "# Q11. Create a list in python using the followings: 2,3,4,5,6,7 with variable ‘a’\n",
        "\n",
        "##Add ‘mango to the above list. Also add banana, grapes & orange in the list insert apple in the 5th position of a variable ‘a’ Remove last item from the list"
      ],
      "metadata": {
        "id": "aFGqZwCbzS0C"
      }
    },
    {
      "cell_type": "code",
      "source": [],
      "metadata": {
        "id": "3DS4OBVUzUL7"
      },
      "execution_count": null,
      "outputs": []
    },
    {
      "cell_type": "markdown",
      "source": [
        "# Q12.L = [1,2,3,4,5,6,7]. Using the above list slice from 1:4"
      ],
      "metadata": {
        "id": "2al3Jk0FzUpL"
      }
    },
    {
      "cell_type": "code",
      "source": [],
      "metadata": {
        "id": "VeNsk-0gziVZ"
      },
      "execution_count": null,
      "outputs": []
    },
    {
      "cell_type": "markdown",
      "source": [
        "# Q13. Reverse the order of given string L = [4,5,6,8,3] Without using reverse() function."
      ],
      "metadata": {
        "id": "n7IRfv0qziyV"
      }
    },
    {
      "cell_type": "code",
      "source": [],
      "metadata": {
        "id": "vP-hXNvozk9s"
      },
      "execution_count": null,
      "outputs": []
    },
    {
      "cell_type": "markdown",
      "source": [
        "# Q14. Use list comprehension to square the given list L=[2,4,7,3,6,8]"
      ],
      "metadata": {
        "id": "64cNgs7fzlVA"
      }
    },
    {
      "cell_type": "code",
      "source": [],
      "metadata": {
        "id": "Mjaoe3dDznZF"
      },
      "execution_count": null,
      "outputs": []
    },
    {
      "cell_type": "markdown",
      "source": [
        "# Q15. Create a function that takes in a tuple of integers and returns the sum of the integers. Test the function with a tuple of your choice."
      ],
      "metadata": {
        "id": "A_o5pBKGznrw"
      }
    },
    {
      "cell_type": "code",
      "source": [],
      "metadata": {
        "id": "-S2-D_j6ztkc"
      },
      "execution_count": null,
      "outputs": []
    },
    {
      "cell_type": "markdown",
      "source": [
        "# Q16. Create two sets of your favorite fruits, and use the union() method to combine them into a single set. Print the resulting set to the console."
      ],
      "metadata": {
        "id": "Z5elW3SfzuT3"
      }
    },
    {
      "cell_type": "code",
      "source": [],
      "metadata": {
        "id": "B7tfrihyzygE"
      },
      "execution_count": null,
      "outputs": []
    },
    {
      "cell_type": "markdown",
      "source": [
        "# Q17. Create a set of random words, and use the add() method to add a new word to the set.Print the resulting set to the console."
      ],
      "metadata": {
        "id": "gcPCPrOSzzMF"
      }
    },
    {
      "cell_type": "code",
      "source": [],
      "metadata": {
        "id": "EpGC7sMfz2Wl"
      },
      "execution_count": null,
      "outputs": []
    },
    {
      "cell_type": "markdown",
      "source": [
        "# Q18. Create a set of your favorite animals, and use the remove() method to remove one animal from the set. Print the resulting set to the console."
      ],
      "metadata": {
        "id": "MMfy5mJfz258"
      }
    },
    {
      "cell_type": "code",
      "source": [],
      "metadata": {
        "id": "MdI7BBnAz57e"
      },
      "execution_count": null,
      "outputs": []
    },
    {
      "cell_type": "markdown",
      "source": [
        "# Q19. favorite_books = {\"1984\", \"To Kill a Mockingbird\", \"Pride and Prejudice\"} favorite_movies = [\"The Shawshank Redemption\", \"The Godfather\", \"The Dark Knight\"]\n",
        "#Use the zip() function to combine the book set and movie list into a list of tuples representing book/ movie pairs. Print the resulting list."
      ],
      "metadata": {
        "id": "OWQ8o19Xz6tW"
      }
    },
    {
      "cell_type": "code",
      "source": [],
      "metadata": {
        "id": "Nfbhg1oY0AQR"
      },
      "execution_count": null,
      "outputs": []
    },
    {
      "cell_type": "markdown",
      "source": [
        "# Q20. Write a Python program to find the difference between consecutive numbers in a list."
      ],
      "metadata": {
        "id": "CSQiB19T0Aoq"
      }
    },
    {
      "cell_type": "code",
      "source": [],
      "metadata": {
        "id": "lG6rDaD70E2y"
      },
      "execution_count": null,
      "outputs": []
    }
  ]
}