{
  "nbformat": 4,
  "nbformat_minor": 0,
  "metadata": {
    "colab": {
      "provenance": [],
      "authorship_tag": "ABX9TyOg0VlawdAttGIhxk9kwcfQ",
      "include_colab_link": true
    },
    "kernelspec": {
      "name": "python3",
      "display_name": "Python 3"
    },
    "language_info": {
      "name": "python"
    }
  },
  "cells": [
    {
      "cell_type": "markdown",
      "metadata": {
        "id": "view-in-github",
        "colab_type": "text"
      },
      "source": [
        "<a href=\"https://colab.research.google.com/github/Arka1212/Data-Science-Assignments/blob/main/Assignment_1.ipynb\" target=\"_parent\"><img src=\"https://colab.research.google.com/assets/colab-badge.svg\" alt=\"Open In Colab\"/></a>"
      ]
    },
    {
      "cell_type": "markdown",
      "source": [
        "## Q1. Create one variable containing following type of data:\n",
        "## (i) string\n",
        "## (ii) list\n",
        "## (iii) float\n",
        "## (iv) tuple"
      ],
      "metadata": {
        "id": "_erpkrT0oNSJ"
      }
    },
    {
      "cell_type": "code",
      "source": [
        "# String.\n",
        "new_string = 'Sayan Bandopadhyay'\n",
        "print(type(new_string))"
      ],
      "metadata": {
        "colab": {
          "base_uri": "https://localhost:8080/"
        },
        "id": "GkhjH_hCocrK",
        "outputId": "25faf7d0-cd36-4e37-8d92-5ff914e09525"
      },
      "execution_count": 1,
      "outputs": [
        {
          "output_type": "stream",
          "name": "stdout",
          "text": [
            "<class 'str'>\n"
          ]
        }
      ]
    },
    {
      "cell_type": "code",
      "source": [
        "# List.\n",
        "new_list = [2,3,4,'Sayan',True]\n",
        "print(type(new_list))"
      ],
      "metadata": {
        "colab": {
          "base_uri": "https://localhost:8080/"
        },
        "id": "ODFpE1LAor6z",
        "outputId": "5765751d-d3bc-4aee-c500-1143b8654b20"
      },
      "execution_count": 2,
      "outputs": [
        {
          "output_type": "stream",
          "name": "stdout",
          "text": [
            "<class 'list'>\n"
          ]
        }
      ]
    },
    {
      "cell_type": "code",
      "source": [
        "# Float.\n",
        "num = 55.89\n",
        "print(type(num))"
      ],
      "metadata": {
        "colab": {
          "base_uri": "https://localhost:8080/"
        },
        "id": "tG006CZDpDrl",
        "outputId": "3e67e835-f602-4ab0-a8e7-2613bb3c3519"
      },
      "execution_count": 3,
      "outputs": [
        {
          "output_type": "stream",
          "name": "stdout",
          "text": [
            "<class 'float'>\n"
          ]
        }
      ]
    },
    {
      "cell_type": "code",
      "source": [
        "# Tuple.\n",
        "t = (23,'Hyundai')\n",
        "print(type(t))"
      ],
      "metadata": {
        "colab": {
          "base_uri": "https://localhost:8080/"
        },
        "id": "Mogj1hndpL7q",
        "outputId": "b9fd1a95-0941-4e0c-89f2-8d988f611fe1"
      },
      "execution_count": 4,
      "outputs": [
        {
          "output_type": "stream",
          "name": "stdout",
          "text": [
            "<class 'tuple'>\n"
          ]
        }
      ]
    },
    {
      "cell_type": "markdown",
      "source": [
        "## Q2. Given are some following variables containing data:\n",
        "## (i) var1 = ‘ ‘\n",
        "## (ii) var2 = ‘[ DS , ML , Python]’\n",
        "## (iii) var3 = [ ‘DS’ , ’ML’ , ‘Python’ ]\n",
        "## (iv) var4 = 1."
      ],
      "metadata": {
        "id": "4rsDxa97pZl2"
      }
    },
    {
      "cell_type": "code",
      "source": [
        "# Data Type.\n",
        "var1 = ''\n",
        "print(f'Data type of var1 is {type(var1)}')\n",
        "\n",
        "var3 = [ 'DS' , 'ML' , 'Python']\n",
        "print(f'Data type of var1 is {type(var3)}')\n",
        "\n",
        "var4 = 1\n",
        "print(f'Data type of var1 is {type(var4)}')"
      ],
      "metadata": {
        "colab": {
          "base_uri": "https://localhost:8080/"
        },
        "id": "GcbYjtbDpjo2",
        "outputId": "37d160b6-8174-40a6-ee5c-d4d95d272f94"
      },
      "execution_count": 9,
      "outputs": [
        {
          "output_type": "stream",
          "name": "stdout",
          "text": [
            "Data type of var1 is <class 'str'>\n",
            "Data type of var1 is <class 'list'>\n",
            "Data type of var1 is <class 'int'>\n"
          ]
        }
      ]
    },
    {
      "cell_type": "markdown",
      "source": [
        "## Q3. Explain the use of the following operators using an example:\n",
        "## (i) /\n",
        "## (ii) %\n",
        "## (iii) //\n",
        "## (iv) **"
      ],
      "metadata": {
        "id": "MnASUgzvqgmF"
      }
    },
    {
      "cell_type": "code",
      "source": [
        "# Division.\n",
        "num1 = 44\n",
        "num2 = 11\n",
        "num1 / num2 "
      ],
      "metadata": {
        "colab": {
          "base_uri": "https://localhost:8080/"
        },
        "id": "Ub3C-zQSqo5o",
        "outputId": "bcb9bed8-c0ad-41a7-ecc5-c38847279c6c"
      },
      "execution_count": 10,
      "outputs": [
        {
          "output_type": "execute_result",
          "data": {
            "text/plain": [
              "4.0"
            ]
          },
          "metadata": {},
          "execution_count": 10
        }
      ]
    },
    {
      "cell_type": "code",
      "source": [
        "# Modulus.\n",
        "num3 = 34\n",
        "num4 = 5\n",
        "num3 % num4"
      ],
      "metadata": {
        "colab": {
          "base_uri": "https://localhost:8080/"
        },
        "id": "9EGR0Z1iq1vE",
        "outputId": "78da6d95-c1fd-4881-ed97-ea20f0e100aa"
      },
      "execution_count": 11,
      "outputs": [
        {
          "output_type": "execute_result",
          "data": {
            "text/plain": [
              "4"
            ]
          },
          "metadata": {},
          "execution_count": 11
        }
      ]
    },
    {
      "cell_type": "code",
      "source": [
        "# Floor Division.\n",
        "num5 = 41\n",
        "num6 = 7\n",
        "num5 // num6"
      ],
      "metadata": {
        "colab": {
          "base_uri": "https://localhost:8080/"
        },
        "id": "Z4Y0CE1VrEPe",
        "outputId": "33bfa0d0-1fb8-4ea1-a9eb-ea2861ad83fc"
      },
      "execution_count": 12,
      "outputs": [
        {
          "output_type": "execute_result",
          "data": {
            "text/plain": [
              "5"
            ]
          },
          "metadata": {},
          "execution_count": 12
        }
      ]
    },
    {
      "cell_type": "code",
      "source": [
        "# Exponent.\n",
        "num7 = 7\n",
        "num8 = 3\n",
        "num7 ** num8"
      ],
      "metadata": {
        "colab": {
          "base_uri": "https://localhost:8080/"
        },
        "id": "bb36vkhwrNUe",
        "outputId": "20911bac-6d38-425d-8283-993152c101da"
      },
      "execution_count": 13,
      "outputs": [
        {
          "output_type": "execute_result",
          "data": {
            "text/plain": [
              "343"
            ]
          },
          "metadata": {},
          "execution_count": 13
        }
      ]
    },
    {
      "cell_type": "markdown",
      "source": [
        "## Q4. Create a list of length 10 of your choice containing multiple types of data. Using for loop print the element and its data type."
      ],
      "metadata": {
        "id": "lz6GX734rc1X"
      }
    },
    {
      "cell_type": "code",
      "source": [
        "list1 = [4, 5, 6, 'Sayan', 'Rohan', True, False, 5.6, 6.7, 3+6j]\n",
        "print(f'Number of elements in list1 is {len(list1)}')\n",
        "for i in list1:\n",
        "  print(i, type(i))"
      ],
      "metadata": {
        "colab": {
          "base_uri": "https://localhost:8080/"
        },
        "id": "Etk6VtHMrgHS",
        "outputId": "15d953e7-4df9-4105-ce57-46b6ad7a323f"
      },
      "execution_count": 15,
      "outputs": [
        {
          "output_type": "stream",
          "name": "stdout",
          "text": [
            "Number of elements in list1 is 10\n",
            "4 <class 'int'>\n",
            "5 <class 'int'>\n",
            "6 <class 'int'>\n",
            "Sayan <class 'str'>\n",
            "Rohan <class 'str'>\n",
            "True <class 'bool'>\n",
            "False <class 'bool'>\n",
            "5.6 <class 'float'>\n",
            "6.7 <class 'float'>\n",
            "(3+6j) <class 'complex'>\n"
          ]
        }
      ]
    },
    {
      "cell_type": "markdown",
      "source": [
        "## Q5. Using a while loop, verify if the number A is purely divisible by number B and if so then how many times it can be divisible."
      ],
      "metadata": {
        "id": "VOI8UWJksqyP"
      }
    },
    {
      "cell_type": "code",
      "source": [
        "n1 = 45\n",
        "n2 = 3\n",
        "l = []\n",
        "while n1 % n2 == 0:\n",
        "  print('Completely Divisible')\n",
        "  n1 /= 3\n",
        "\n",
        "# So n1 is divisible by n2 only 2 times."
      ],
      "metadata": {
        "colab": {
          "base_uri": "https://localhost:8080/"
        },
        "id": "bdUwJbeAstvO",
        "outputId": "b8d56187-2aed-4436-fba2-0f4d25ba1037"
      },
      "execution_count": 18,
      "outputs": [
        {
          "output_type": "stream",
          "name": "stdout",
          "text": [
            "Completely Divisible\n",
            "Completely Divisible\n"
          ]
        }
      ]
    }
  ]
}