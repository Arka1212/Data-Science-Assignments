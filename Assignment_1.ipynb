{
  "nbformat": 4,
  "nbformat_minor": 0,
  "metadata": {
    "colab": {
      "provenance": [],
      "authorship_tag": "ABX9TyP8RZMRWjoFEZ4+d4/gxT++",
      "include_colab_link": true
    },
    "kernelspec": {
      "name": "python3",
      "display_name": "Python 3"
    },
    "language_info": {
      "name": "python"
    }
  },
  "cells": [
    {
      "cell_type": "markdown",
      "metadata": {
        "id": "view-in-github",
        "colab_type": "text"
      },
      "source": [
        "<a href=\"https://colab.research.google.com/github/Arka1212/Data-Science-Assignments/blob/main/Assignment_1.ipynb\" target=\"_parent\"><img src=\"https://colab.research.google.com/assets/colab-badge.svg\" alt=\"Open In Colab\"/></a>"
      ]
    },
    {
      "cell_type": "markdown",
      "source": [
        "## Q1. Create one variable containing following type of data:\n",
        "## (i) string\n",
        "## (ii) list\n",
        "## (iii) float\n",
        "## (iv) tuple"
      ],
      "metadata": {
        "id": "_erpkrT0oNSJ"
      }
    },
    {
      "cell_type": "code",
      "source": [
        "# String.\n",
        "new_string = 'Sayan Bandopadhyay'\n",
        "print(type(new_string))"
      ],
      "metadata": {
        "colab": {
          "base_uri": "https://localhost:8080/"
        },
        "id": "GkhjH_hCocrK",
        "outputId": "25faf7d0-cd36-4e37-8d92-5ff914e09525"
      },
      "execution_count": 1,
      "outputs": [
        {
          "output_type": "stream",
          "name": "stdout",
          "text": [
            "<class 'str'>\n"
          ]
        }
      ]
    },
    {
      "cell_type": "code",
      "source": [
        "# List.\n",
        "new_list = [2,3,4,'Sayan',True]\n",
        "print(type(new_list))"
      ],
      "metadata": {
        "colab": {
          "base_uri": "https://localhost:8080/"
        },
        "id": "ODFpE1LAor6z",
        "outputId": "5765751d-d3bc-4aee-c500-1143b8654b20"
      },
      "execution_count": 2,
      "outputs": [
        {
          "output_type": "stream",
          "name": "stdout",
          "text": [
            "<class 'list'>\n"
          ]
        }
      ]
    },
    {
      "cell_type": "code",
      "source": [
        "# Float.\n",
        "num = 55.89\n",
        "print(type(num))"
      ],
      "metadata": {
        "colab": {
          "base_uri": "https://localhost:8080/"
        },
        "id": "tG006CZDpDrl",
        "outputId": "3e67e835-f602-4ab0-a8e7-2613bb3c3519"
      },
      "execution_count": 3,
      "outputs": [
        {
          "output_type": "stream",
          "name": "stdout",
          "text": [
            "<class 'float'>\n"
          ]
        }
      ]
    },
    {
      "cell_type": "code",
      "source": [
        "# Tuple.\n",
        "t = (23,'Hyundai')\n",
        "print(type(t))"
      ],
      "metadata": {
        "colab": {
          "base_uri": "https://localhost:8080/"
        },
        "id": "Mogj1hndpL7q",
        "outputId": "b9fd1a95-0941-4e0c-89f2-8d988f611fe1"
      },
      "execution_count": 4,
      "outputs": [
        {
          "output_type": "stream",
          "name": "stdout",
          "text": [
            "<class 'tuple'>\n"
          ]
        }
      ]
    },
    {
      "cell_type": "markdown",
      "source": [
        "## Q2. Given are some following variables containing data:\n",
        "## (i) var1 = ‘ ‘\n",
        "## (ii) var2 = ‘[ DS , ML , Python]’\n",
        "## (iii) var3 = [ ‘DS’ , ’ML’ , ‘Python’ ]\n",
        "## (iv) var4 = 1."
      ],
      "metadata": {
        "id": "4rsDxa97pZl2"
      }
    },
    {
      "cell_type": "code",
      "source": [
        "# Data Type.\n",
        "var1 = ''\n",
        "print(f'Data type of var1 is {type(var1)}')\n",
        "\n",
        "var3 = [ 'DS' , 'ML' , 'Python']\n",
        "print(f'Data type of var1 is {type(var3)}')\n",
        "\n",
        "var4 = 1\n",
        "print(f'Data type of var1 is {type(var4)}')"
      ],
      "metadata": {
        "colab": {
          "base_uri": "https://localhost:8080/"
        },
        "id": "GcbYjtbDpjo2",
        "outputId": "37d160b6-8174-40a6-ee5c-d4d95d272f94"
      },
      "execution_count": 9,
      "outputs": [
        {
          "output_type": "stream",
          "name": "stdout",
          "text": [
            "Data type of var1 is <class 'str'>\n",
            "Data type of var1 is <class 'list'>\n",
            "Data type of var1 is <class 'int'>\n"
          ]
        }
      ]
    },
    {
      "cell_type": "markdown",
      "source": [
        "## Q3. Explain the use of the following operators using an example:\n",
        "## (i) /\n",
        "## (ii) %\n",
        "## (iii) //\n",
        "## (iv) **"
      ],
      "metadata": {
        "id": "MnASUgzvqgmF"
      }
    },
    {
      "cell_type": "code",
      "source": [
        "# Division.\n",
        "num1 = 44\n",
        "num2 = 11\n",
        "num1 / num2 "
      ],
      "metadata": {
        "colab": {
          "base_uri": "https://localhost:8080/"
        },
        "id": "Ub3C-zQSqo5o",
        "outputId": "bcb9bed8-c0ad-41a7-ecc5-c38847279c6c"
      },
      "execution_count": 10,
      "outputs": [
        {
          "output_type": "execute_result",
          "data": {
            "text/plain": [
              "4.0"
            ]
          },
          "metadata": {},
          "execution_count": 10
        }
      ]
    },
    {
      "cell_type": "code",
      "source": [
        "# Modulus.\n",
        "num3 = 34\n",
        "num4 = 5\n",
        "num3 % num4"
      ],
      "metadata": {
        "colab": {
          "base_uri": "https://localhost:8080/"
        },
        "id": "9EGR0Z1iq1vE",
        "outputId": "78da6d95-c1fd-4881-ed97-ea20f0e100aa"
      },
      "execution_count": 11,
      "outputs": [
        {
          "output_type": "execute_result",
          "data": {
            "text/plain": [
              "4"
            ]
          },
          "metadata": {},
          "execution_count": 11
        }
      ]
    },
    {
      "cell_type": "code",
      "source": [
        "# Floor Division.\n",
        "num5 = 41\n",
        "num6 = 7\n",
        "num5 // num6"
      ],
      "metadata": {
        "colab": {
          "base_uri": "https://localhost:8080/"
        },
        "id": "Z4Y0CE1VrEPe",
        "outputId": "33bfa0d0-1fb8-4ea1-a9eb-ea2861ad83fc"
      },
      "execution_count": 12,
      "outputs": [
        {
          "output_type": "execute_result",
          "data": {
            "text/plain": [
              "5"
            ]
          },
          "metadata": {},
          "execution_count": 12
        }
      ]
    },
    {
      "cell_type": "code",
      "source": [
        "# Exponent.\n",
        "num7 = 7\n",
        "num8 = 3\n",
        "num7 ** num8"
      ],
      "metadata": {
        "colab": {
          "base_uri": "https://localhost:8080/"
        },
        "id": "bb36vkhwrNUe",
        "outputId": "20911bac-6d38-425d-8283-993152c101da"
      },
      "execution_count": 13,
      "outputs": [
        {
          "output_type": "execute_result",
          "data": {
            "text/plain": [
              "343"
            ]
          },
          "metadata": {},
          "execution_count": 13
        }
      ]
    },
    {
      "cell_type": "markdown",
      "source": [
        "## Q4. Create a list of length 10 of your choice containing multiple types of data. Using for loop print the element and its data type."
      ],
      "metadata": {
        "id": "lz6GX734rc1X"
      }
    },
    {
      "cell_type": "code",
      "source": [
        "list1 = [4, 5, 6, 'Sayan', 'Rohan', True, False, 5.6, 6.7, 3+6j]\n",
        "print(f'Number of elements in list1 is {len(list1)}')\n",
        "for i in list1:\n",
        "  print(i, type(i))"
      ],
      "metadata": {
        "colab": {
          "base_uri": "https://localhost:8080/"
        },
        "id": "Etk6VtHMrgHS",
        "outputId": "15d953e7-4df9-4105-ce57-46b6ad7a323f"
      },
      "execution_count": 15,
      "outputs": [
        {
          "output_type": "stream",
          "name": "stdout",
          "text": [
            "Number of elements in list1 is 10\n",
            "4 <class 'int'>\n",
            "5 <class 'int'>\n",
            "6 <class 'int'>\n",
            "Sayan <class 'str'>\n",
            "Rohan <class 'str'>\n",
            "True <class 'bool'>\n",
            "False <class 'bool'>\n",
            "5.6 <class 'float'>\n",
            "6.7 <class 'float'>\n",
            "(3+6j) <class 'complex'>\n"
          ]
        }
      ]
    },
    {
      "cell_type": "markdown",
      "source": [
        "## Q5. Using a while loop, verify if the number A is purely divisible by number B and if so then how many times it can be divisible."
      ],
      "metadata": {
        "id": "VOI8UWJksqyP"
      }
    },
    {
      "cell_type": "code",
      "source": [
        "n1 = 45\n",
        "n2 = 3\n",
        "while n1 % n2 == 0:\n",
        "  print('Completely Divisible')\n",
        "  n1 /= 3\n",
        "\n",
        "# So n1 is divisible by n2 only 2 times."
      ],
      "metadata": {
        "colab": {
          "base_uri": "https://localhost:8080/"
        },
        "id": "bdUwJbeAstvO",
        "outputId": "998b15f5-08eb-4d8a-a4a8-5529787e1585"
      },
      "execution_count": 19,
      "outputs": [
        {
          "output_type": "stream",
          "name": "stdout",
          "text": [
            "Completely Divisible\n",
            "Completely Divisible\n"
          ]
        }
      ]
    },
    {
      "cell_type": "markdown",
      "source": [
        "## Q6. Create a list containing 25 int type data. Using for loop and if-else condition print if the element is divisible by 3 or not."
      ],
      "metadata": {
        "id": "42Y-aFLZvI1V"
      }
    },
    {
      "cell_type": "code",
      "source": [
        "# Creating a list with 25 integers.\n",
        "num_list = []\n",
        "for i in range(25,51):\n",
        "  num_list.append(i)\n",
        "\n",
        "print(num_list)\n",
        "\n",
        "# Looping through the list to find numbers divisible by 3.\n",
        "for k in num_list:\n",
        "  if k % 3 == 0:\n",
        "    print(f'{k} is divisible by 3')\n",
        "  else:\n",
        "    print(f'{k} is not divisible by 3')\n"
      ],
      "metadata": {
        "colab": {
          "base_uri": "https://localhost:8080/"
        },
        "id": "RZ3VieJivKci",
        "outputId": "bcaae21a-e054-4388-9389-9b6b79e13aa3"
      },
      "execution_count": 24,
      "outputs": [
        {
          "output_type": "stream",
          "name": "stdout",
          "text": [
            "[25, 26, 27, 28, 29, 30, 31, 32, 33, 34, 35, 36, 37, 38, 39, 40, 41, 42, 43, 44, 45, 46, 47, 48, 49, 50]\n",
            "25 is not divisible by 3\n",
            "26 is not divisible by 3\n",
            "27 is divisible by 3\n",
            "28 is not divisible by 3\n",
            "29 is not divisible by 3\n",
            "30 is divisible by 3\n",
            "31 is not divisible by 3\n",
            "32 is not divisible by 3\n",
            "33 is divisible by 3\n",
            "34 is not divisible by 3\n",
            "35 is not divisible by 3\n",
            "36 is divisible by 3\n",
            "37 is not divisible by 3\n",
            "38 is not divisible by 3\n",
            "39 is divisible by 3\n",
            "40 is not divisible by 3\n",
            "41 is not divisible by 3\n",
            "42 is divisible by 3\n",
            "43 is not divisible by 3\n",
            "44 is not divisible by 3\n",
            "45 is divisible by 3\n",
            "46 is not divisible by 3\n",
            "47 is not divisible by 3\n",
            "48 is divisible by 3\n",
            "49 is not divisible by 3\n",
            "50 is not divisible by 3\n"
          ]
        }
      ]
    },
    {
      "cell_type": "markdown",
      "source": [
        "## Q7. What do you understand about mutable and immutable data types? Give examples for both showing this property."
      ],
      "metadata": {
        "id": "ugstMJDCwyX0"
      }
    },
    {
      "cell_type": "code",
      "source": [
        "# Mutable data type.\n",
        "list_a = [2,3,4,'Sayan',True]\n",
        "list_a[3] = 'Akash'\n",
        "list_a\n",
        "\n",
        "# Mutable means which can be changed or replaced as 'Sayan' is replaced by 'Akash' in the list. List is a mutable object."
      ],
      "metadata": {
        "colab": {
          "base_uri": "https://localhost:8080/"
        },
        "id": "6fW3D3IXw00g",
        "outputId": "d732af11-b5c2-4bc3-d487-b4d6e801bfb8"
      },
      "execution_count": 26,
      "outputs": [
        {
          "output_type": "execute_result",
          "data": {
            "text/plain": [
              "[2, 3, 4, 'Akash', True]"
            ]
          },
          "metadata": {},
          "execution_count": 26
        }
      ]
    },
    {
      "cell_type": "code",
      "source": [
        "# Immutable data type.\n",
        "str_1 = 'Hot'\n",
        "# str_1[0] = 'P'             This will throw an error.\n",
        "\n",
        "# Immutable means which cant be changed or replaced as 'H' cant be replaed by 'P' in the string. String is an immutable object."
      ],
      "metadata": {
        "colab": {
          "base_uri": "https://localhost:8080/",
          "height": 36
        },
        "id": "hFF1ozYExVdn",
        "outputId": "2d67f447-a891-4697-e8ac-5daba3bd5a8b"
      },
      "execution_count": 28,
      "outputs": [
        {
          "output_type": "execute_result",
          "data": {
            "text/plain": [
              "'H'"
            ],
            "application/vnd.google.colaboratory.intrinsic+json": {
              "type": "string"
            }
          },
          "metadata": {},
          "execution_count": 28
        }
      ]
    }
  ]
}