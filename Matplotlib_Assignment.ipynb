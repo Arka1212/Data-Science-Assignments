{
  "nbformat": 4,
  "nbformat_minor": 0,
  "metadata": {
    "colab": {
      "provenance": [],
      "authorship_tag": "ABX9TyOJl7IoSEFGd34wvA1syZ8T",
      "include_colab_link": true
    },
    "kernelspec": {
      "name": "python3",
      "display_name": "Python 3"
    },
    "language_info": {
      "name": "python"
    }
  },
  "cells": [
    {
      "cell_type": "markdown",
      "metadata": {
        "id": "view-in-github",
        "colab_type": "text"
      },
      "source": [
        "<a href=\"https://colab.research.google.com/github/Arka1212/Data-Science-Assignments/blob/main/Matplotlib_Assignment.ipynb\" target=\"_parent\"><img src=\"https://colab.research.google.com/assets/colab-badge.svg\" alt=\"Open In Colab\"/></a>"
      ]
    },
    {
      "cell_type": "markdown",
      "source": [
        "# Q1: What is Matplotlib? Why is it used? Name five plots that can be plotted using the Pyplot module of Matplotlib."
      ],
      "metadata": {
        "id": "x-_QwP8dWxDE"
      }
    },
    {
      "cell_type": "code",
      "source": [
        "'''\n",
        "Matplotlib is a popular Python library for creating static, animated, and interactive visualizations in a wide variety of formats. It\n",
        "is usually used for data analysis and visualisation purpose.\n",
        "5 different types of plots are:\n",
        "* Line Plot\n",
        "* Bar Plot\n",
        "* Scatter Plot\n",
        "* Histogram\n",
        "* Pie Chart\n",
        "'''"
      ],
      "metadata": {
        "colab": {
          "base_uri": "https://localhost:8080/",
          "height": 54
        },
        "id": "gyksUypVWy7s",
        "outputId": "e1ce3db8-71a8-447d-eb70-b9bf0fd2cee5"
      },
      "execution_count": 1,
      "outputs": [
        {
          "output_type": "execute_result",
          "data": {
            "text/plain": [
              "'\\nMatplotlib is a popular Python library for creating static, animated, and interactive visualizations in a wide variety of formats. It\\nis usually used for data analysis and visualisation purpose.\\n5 different types of plots are:\\n* Line Plot\\n* Bar Plot\\n* Scatter Plot\\n* Histogram\\n* Pie Chart \\n'"
            ],
            "application/vnd.google.colaboratory.intrinsic+json": {
              "type": "string"
            }
          },
          "metadata": {},
          "execution_count": 1
        }
      ]
    },
    {
      "cell_type": "markdown",
      "source": [
        "# Q2: What is a scatter plot? Use the following code to generate data for x and y. Using this generated dataplot a scatter plot.\n",
        "## import numpy as np\n",
        "## np.random.seed(3)\n",
        "## x = 3 + np.random.normal(0, 2, 50)\n",
        "## y = 3 + np.random.normal(0, 2, len(x))\n",
        "### Note: Also add title, xlabel, and ylabel to the plot."
      ],
      "metadata": {
        "id": "GVez8QPgWzQL"
      }
    },
    {
      "cell_type": "code",
      "source": [
        "'''\n",
        "Scatter plots display individual data points as markers on a two-dimensional plane, making them useful for visualizing the distribution\n",
        "and relationships between two variables.\n",
        "'''\n",
        "\n",
        "# Code.\n",
        "import matplotlib.pyplot as plt\n",
        "import numpy as np\n",
        "np.random.seed(3)\n",
        "x = 3 + np.random.normal(0, 2, 50)\n",
        "y = 3 + np.random.normal(0, 2, len(x))\n",
        "\n",
        "# Plotting the graph.\n",
        "plt.figure(figsize = (6,4))\n",
        "plt.scatter(x,y, marker = '*', color = '#FF8212', alpha = .9)\n",
        "plt.title('Scatter Plot', fontsize = 25)\n",
        "plt.xlabel('x-axis', fontsize = 15)\n",
        "plt.ylabel('y-axis', fontsize = 15)\n",
        "plt.grid()\n",
        "plt.show()"
      ],
      "metadata": {
        "colab": {
          "base_uri": "https://localhost:8080/",
          "height": 429
        },
        "id": "P-oMyAVIW7_u",
        "outputId": "cc6bbf9d-f9df-4281-cbba-32f73fbdde7a"
      },
      "execution_count": 16,
      "outputs": [
        {
          "output_type": "display_data",
          "data": {
            "text/plain": [
              "<Figure size 600x400 with 1 Axes>"
            ],
            "image/png": "[encoded data removed]"
          },
          "metadata": {}
        }
      ]
    },
    {
      "cell_type": "markdown",
      "source": [
        "# Q3: Why is the subplot() function used? Draw four line plots using the subplot() function.\n",
        "\n",
        "Use the following data:\n",
        "\n",
        "import numpy as np\n",
        "\n",
        "For line 1: x = np.array([0, 1, 2, 3, 4, 5]) and y = np.array([0, 100, 200, 300, 400, 500])\n",
        "\n",
        "For line 2: x = np.array([0, 1, 2, 3, 4, 5]) and y = np.array([50, 20, 40, 20, 60, 70])\n",
        "\n",
        "For line 3: x = np.array([0, 1, 2, 3, 4, 5]) and y = np.array([10, 20, 30, 40, 50, 60])\n",
        "\n",
        "For line 4: x = np.array([0, 1, 2, 3, 4, 5]) and y = np.array([200, 350, 250, 550, 450, 150])\n"
      ],
      "metadata": {
        "id": "EDSTljU5W8xo"
      }
    },
    {
      "cell_type": "code",
      "source": [],
      "metadata": {
        "id": "rAqGnzWCXUNZ"
      },
      "execution_count": null,
      "outputs": []
    },
    {
      "cell_type": "markdown",
      "source": [
        "# Q4: What is a bar plot? Why is it used? Using the following data plot a bar plot and a horizontal bar plot.\n",
        "\n",
        "import numpy as np\n",
        "\n",
        "company = np.array([\"Apple\", \"Microsoft\", \"Google\", \"AMD\"])\n",
        "\n",
        "profit = np.array([3000, 8000, 1000, 10000])\n"
      ],
      "metadata": {
        "id": "4esk1JZdXUpK"
      }
    },
    {
      "cell_type": "code",
      "source": [],
      "metadata": {
        "id": "Bcqn6GS1XYgt"
      },
      "execution_count": null,
      "outputs": []
    },
    {
      "cell_type": "markdown",
      "source": [
        "# Q5: What is a box plot? Why is it used? Using the following data plot a box plot.\n",
        "\n",
        "box1 = np.random.normal(100, 10, 200)\n",
        "\n",
        "box2 = np.random.normal(90, 20, 200)\n"
      ],
      "metadata": {
        "id": "lMTKhlMjXY8p"
      }
    },
    {
      "cell_type": "code",
      "source": [],
      "metadata": {
        "id": "gSQw0jmxXczJ"
      },
      "execution_count": null,
      "outputs": []
    }
  ]
}