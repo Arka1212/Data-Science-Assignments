{
  "nbformat": 4,
  "nbformat_minor": 0,
  "metadata": {
    "colab": {
      "provenance": [],
      "authorship_tag": "ABX9TyPqOHnOPRvqPx7Iq8TopjH8",
      "include_colab_link": true
    },
    "kernelspec": {
      "name": "python3",
      "display_name": "Python 3"
    },
    "language_info": {
      "name": "python"
    }
  },
  "cells": [
    {
      "cell_type": "markdown",
      "metadata": {
        "id": "view-in-github",
        "colab_type": "text"
      },
      "source": [
        "<a href=\"https://colab.research.google.com/github/Arka1212/Data-Science-Assignments/blob/main/Assignment_2.ipynb\" target=\"_parent\"><img src=\"https://colab.research.google.com/assets/colab-badge.svg\" alt=\"Open In Colab\"/></a>"
      ]
    },
    {
      "cell_type": "markdown",
      "source": [
        "## Q1. How do you comment code in Python? What are the different types of comments?"
      ],
      "metadata": {
        "id": "EuYz3Y4RqEuc"
      }
    },
    {
      "cell_type": "code",
      "source": [
        "# This is a type comment used for single line comment.\n",
        "'''This type of comment is used for multiple lines comment.'''"
      ],
      "metadata": {
        "colab": {
          "base_uri": "https://localhost:8080/",
          "height": 36
        },
        "id": "mIPnBikpqGFH",
        "outputId": "502e474c-943b-4816-aafa-2465ed5b6d89"
      },
      "execution_count": 2,
      "outputs": [
        {
          "output_type": "execute_result",
          "data": {
            "text/plain": [
              "'This type of comment is used for multiple lines comment.'"
            ],
            "application/vnd.google.colaboratory.intrinsic+json": {
              "type": "string"
            }
          },
          "metadata": {},
          "execution_count": 2
        }
      ]
    },
    {
      "cell_type": "markdown",
      "source": [
        "## Q2. What are variables in Python? How do you declare and assign values to variables?"
      ],
      "metadata": {
        "id": "hzSCJOE0qo1w"
      }
    },
    {
      "cell_type": "code",
      "source": [
        "'''Variables are like containers to store different data values'''\n",
        "random_number = 3732823832\n",
        "# Here, variable is 'random_number' which store a value which is 3732823832."
      ],
      "metadata": {
        "id": "7a0Otxitqq1q"
      },
      "execution_count": 3,
      "outputs": []
    },
    {
      "cell_type": "markdown",
      "source": [
        "## Q3. How do you convert one data type to another in Python?"
      ],
      "metadata": {
        "id": "F6dA0jeirONg"
      }
    },
    {
      "cell_type": "code",
      "source": [
        "# Example.\n",
        "num = 456456\n",
        "print(type(num))          # Datatype is integer.\n",
        "new_num = str(num)        # Converting datatype to string from integer.\n",
        "print(type(new_num))"
      ],
      "metadata": {
        "colab": {
          "base_uri": "https://localhost:8080/"
        },
        "id": "vCBl2WRmrPwb",
        "outputId": "25c503a6-91b0-498c-8e72-0c67b7634412"
      },
      "execution_count": 5,
      "outputs": [
        {
          "output_type": "stream",
          "name": "stdout",
          "text": [
            "<class 'int'>\n",
            "<class 'str'>\n"
          ]
        }
      ]
    },
    {
      "cell_type": "markdown",
      "source": [
        "## Q4. How do you write and execute a Python script from the command line?"
      ],
      "metadata": {
        "id": "VNxFw5ewsA4E"
      }
    },
    {
      "cell_type": "code",
      "source": [
        "'''Need to open a command line and typing:---->   python first_script.py Hello World!'''"
      ],
      "metadata": {
        "colab": {
          "base_uri": "https://localhost:8080/",
          "height": 36
        },
        "id": "YmJ0bRrWsCRW",
        "outputId": "8e957fe1-70d0-420d-a7db-fc6fa3dd2f90"
      },
      "execution_count": 6,
      "outputs": [
        {
          "output_type": "execute_result",
          "data": {
            "text/plain": [
              "'Need to open a command line and typing:---->   python first_script.py Hello World!'"
            ],
            "application/vnd.google.colaboratory.intrinsic+json": {
              "type": "string"
            }
          },
          "metadata": {},
          "execution_count": 6
        }
      ]
    },
    {
      "cell_type": "markdown",
      "source": [
        "## Q5. Given a list my_list = [1, 2, 3, 4, 5], write the code to slice the list and obtain the sub-list [2, 3]."
      ],
      "metadata": {
        "id": "pOOsXySXsyL8"
      }
    },
    {
      "cell_type": "code",
      "source": [
        "# Code.\n",
        "my_list = [1,2,3,4,5]\n",
        "sub_list = my_list[1:3]\n",
        "print(sub_list)"
      ],
      "metadata": {
        "colab": {
          "base_uri": "https://localhost:8080/"
        },
        "id": "fpDg7C73szMW",
        "outputId": "836c51b2-4fed-4f1d-f708-9fa78cfcd399"
      },
      "execution_count": 8,
      "outputs": [
        {
          "output_type": "stream",
          "name": "stdout",
          "text": [
            "[2, 3]\n"
          ]
        }
      ]
    }
  ]
}