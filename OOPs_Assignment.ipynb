{
  "nbformat": 4,
  "nbformat_minor": 0,
  "metadata": {
    "colab": {
      "provenance": [],
      "authorship_tag": "ABX9TyPU6GojwuVwuyoLxfxF/411",
      "include_colab_link": true
    },
    "kernelspec": {
      "name": "python3",
      "display_name": "Python 3"
    },
    "language_info": {
      "name": "python"
    }
  },
  "cells": [
    {
      "cell_type": "markdown",
      "metadata": {
        "id": "view-in-github",
        "colab_type": "text"
      },
      "source": [
        "<a href=\"https://colab.research.google.com/github/Arka1212/Data-Science-Assignments/blob/main/OOPs_Assignment.ipynb\" target=\"_parent\"><img src=\"https://colab.research.google.com/assets/colab-badge.svg\" alt=\"Open In Colab\"/></a>"
      ]
    },
    {
      "cell_type": "markdown",
      "source": [
        "# Q1. Explain Class and Object with respect to Object-Oriented Programming. Give a suitable example."
      ],
      "metadata": {
        "id": "vuQXB3CV2Zin"
      }
    },
    {
      "cell_type": "code",
      "source": [
        "'''\n",
        "A \"class\" is a blueprint or template for creating objects. It defines the properties and methods that an object of that class will have.\n",
        "Properties are the data or state of an object, and methods are the actions or behaviors that an object can perform.\n",
        "\n",
        "An \"object\" is an instance of a class, and it contains its own data and methods\n",
        "\n",
        "For example, you could create a class called \"Person\" that has properties such as name, age and methods such as speak() and walk().\n",
        "Each instance of the Person class would be a unique object with its own name and age, but they would all have the same methods to speak\n",
        "and walk.\n",
        "'''"
      ],
      "metadata": {
        "colab": {
          "base_uri": "https://localhost:8080/",
          "height": 90
        },
        "id": "HST6h2sy2b-H",
        "outputId": "3584b69f-1d14-4f4e-cf4a-e87cbd81aab4"
      },
      "execution_count": 1,
      "outputs": [
        {
          "output_type": "execute_result",
          "data": {
            "text/plain": [
              "'\\nA \"class\" is a blueprint or template for creating objects. It defines the properties and methods that an object of that class will have.\\nProperties are the data or state of an object, and methods are the actions or behaviors that an object can perform.\\n\\nAn \"object\" is an instance of a class, and it contains its own data and methods\\n\\nFor example, you could create a class called \"Person\" that has properties such as name, age and methods such as speak() and walk(). \\nEach instance of the Person class would be a unique object with its own name and age, but they would all have the same methods to speak \\nand walk.\\n'"
            ],
            "application/vnd.google.colaboratory.intrinsic+json": {
              "type": "string"
            }
          },
          "metadata": {},
          "execution_count": 1
        }
      ]
    },
    {
      "cell_type": "markdown",
      "source": [
        "# Q2. Name the four pillars of OOPs."
      ],
      "metadata": {
        "id": "dUSBA4753HgY"
      }
    },
    {
      "cell_type": "code",
      "source": [
        "'''\n",
        "1. Polymorphism:\n",
        "Polymorphism\" is also supported in Python, which means that objects of different classes can be treated as if they were objects of a\n",
        "common class. This allows for greater flexibility in code and makes it easier to write code that can work with multiple types of objects.\n",
        "\n",
        "2. Encapsulation:\n",
        "One of the key features of OOP in Python is \"encapsulation\", which means that the internal state of an object is hidden and can only\n",
        "be accessed or modified through the object's methods. This helps to protect the object's data and prevent it from being modified in\n",
        "unexpected ways.\n",
        "\n",
        "3. Inheritance:\n",
        "Another key feature of OOP in Python is \"inheritance\", which allows new classes to be created that inherit the properties and methods\n",
        "of an existing class. This allows for code reuse and makes it easy to create new classes that have similar functionality to existing\n",
        "classes.\n",
        "Types of inheritance:\n",
        "* Single inheritance\n",
        "* Multiple inheritance\n",
        "* Multilevel inheritance\n",
        "* Hierarchical Inheritance\n",
        "* Hybrid Inheritance\n",
        "\n",
        "4. Abstraction:\n",
        "Another key feature is Abstraction which helps to keep user unaware about the basic implementation of a function property. The user\n",
        "will only be able to view basic functionalities whereas internal details are hidden.\n",
        "'''"
      ],
      "metadata": {
        "colab": {
          "base_uri": "https://localhost:8080/",
          "height": 126
        },
        "id": "VyOY0Cuf3JjD",
        "outputId": "cc35b1a4-de7f-4aab-e188-9a77aad64de8"
      },
      "execution_count": 2,
      "outputs": [
        {
          "output_type": "execute_result",
          "data": {
            "text/plain": [
              "'\\n1. Polymorphism:\\nPolymorphism\" is also supported in Python, which means that objects of different classes can be treated as if they were objects of a\\ncommon class. This allows for greater flexibility in code and makes it easier to write code that can work with multiple types of objects.\\n\\n2. Encapsulation:\\nOne of the key features of OOP in Python is \"encapsulation\", which means that the internal state of an object is hidden and can only\\nbe accessed or modified through the object\\'s methods. This helps to protect the object\\'s data and prevent it from being modified in\\nunexpected ways.\\n\\n3. Inheritance:\\nAnother key feature of OOP in Python is \"inheritance\", which allows new classes to be created that inherit the properties and methods\\nof an existing class. This allows for code reuse and makes it easy to create new classes that have similar functionality to existing\\nclasses.\\nTypes of inheritance:\\n* Single inheritance\\n* Multiple inheritance\\n* Multilevel inheritance\\n* Hierarchical Inheritance\\n* Hybrid Inheritance\\n\\n4. Abstraction:\\nAnother key feature is Abstraction which helps to keep user unaware about the basic implementation of a function property. The user\\nwill only be able to view basic functionalities whereas internal details are hidden.\\n'"
            ],
            "application/vnd.google.colaboratory.intrinsic+json": {
              "type": "string"
            }
          },
          "metadata": {},
          "execution_count": 2
        }
      ]
    },
    {
      "cell_type": "markdown",
      "source": [
        "# Q3. Explain why the __init__() function is used. Give a suitable example."
      ],
      "metadata": {
        "id": "mFCY6OKC5YVk"
      }
    },
    {
      "cell_type": "code",
      "source": [
        "'''\n",
        "Its basically known as Constructor function which is a special method in a class used to create and initialize an object of a class.\n",
        "There are different types of constructors. Constructor is invoked automatically when an object of a class is created. A constructor is a\n",
        "unique function that gets called automatically when an object is created of a class. The main purpose of a constructor is to initialize\n",
        "or assign values to the data members of that class. It cannot return any value other than None.\n",
        "'''\n",
        "# Example Code.\n",
        "class person:\n",
        "  def __init__(self,n,o):\n",
        "    self.name = n\n",
        "    self.occ = o\n",
        "\n",
        "  def info(self):\n",
        "    print(f\"{self.name} is a {self.occ}\")\n",
        "\n",
        "# Creating objects.\n",
        "first_person = person('Sayan','Income Tax Inspector')\n",
        "second_person = person('Arijit','Data Analyst')\n",
        "\n",
        "first_person.info()\n",
        "second_person.info()"
      ],
      "metadata": {
        "colab": {
          "base_uri": "https://localhost:8080/"
        },
        "id": "lpwmhVMn5baW",
        "outputId": "a0951947-ce2c-4cdf-91e3-d08f4b318bda"
      },
      "execution_count": 4,
      "outputs": [
        {
          "output_type": "stream",
          "name": "stdout",
          "text": [
            "Sayan is a Income Tax Inspector\n",
            "Arijit is a Data Analyst\n"
          ]
        }
      ]
    }
  ]
}