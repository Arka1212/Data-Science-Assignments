{
  "nbformat": 4,
  "nbformat_minor": 0,
  "metadata": {
    "colab": {
      "provenance": [],
      "authorship_tag": "ABX9TyMcoZgAcKb1p2tVEHScLnak",
      "include_colab_link": true
    },
    "kernelspec": {
      "name": "python3",
      "display_name": "Python 3"
    },
    "language_info": {
      "name": "python"
    }
  },
  "cells": [
    {
      "cell_type": "markdown",
      "metadata": {
        "id": "view-in-github",
        "colab_type": "text"
      },
      "source": [
        "<a href=\"https://colab.research.google.com/github/Arka1212/Data-Science-Assignments/blob/main/OOPs_Assignment.ipynb\" target=\"_parent\"><img src=\"https://colab.research.google.com/assets/colab-badge.svg\" alt=\"Open In Colab\"/></a>"
      ]
    },
    {
      "cell_type": "markdown",
      "source": [
        "# Q1. Explain Class and Object with respect to Object-Oriented Programming. Give a suitable example."
      ],
      "metadata": {
        "id": "vuQXB3CV2Zin"
      }
    },
    {
      "cell_type": "code",
      "source": [
        "'''\n",
        "A \"class\" is a blueprint or template for creating objects. It defines the properties and methods that an object of that class will have.\n",
        "Properties are the data or state of an object, and methods are the actions or behaviors that an object can perform.\n",
        "\n",
        "An \"object\" is an instance of a class, and it contains its own data and methods\n",
        "\n",
        "For example, you could create a class called \"Person\" that has properties such as name, age and methods such as speak() and walk().\n",
        "Each instance of the Person class would be a unique object with its own name and age, but they would all have the same methods to speak\n",
        "and walk.\n",
        "'''"
      ],
      "metadata": {
        "colab": {
          "base_uri": "https://localhost:8080/",
          "height": 90
        },
        "id": "HST6h2sy2b-H",
        "outputId": "3584b69f-1d14-4f4e-cf4a-e87cbd81aab4"
      },
      "execution_count": 1,
      "outputs": [
        {
          "output_type": "execute_result",
          "data": {
            "text/plain": [
              "'\\nA \"class\" is a blueprint or template for creating objects. It defines the properties and methods that an object of that class will have.\\nProperties are the data or state of an object, and methods are the actions or behaviors that an object can perform.\\n\\nAn \"object\" is an instance of a class, and it contains its own data and methods\\n\\nFor example, you could create a class called \"Person\" that has properties such as name, age and methods such as speak() and walk(). \\nEach instance of the Person class would be a unique object with its own name and age, but they would all have the same methods to speak \\nand walk.\\n'"
            ],
            "application/vnd.google.colaboratory.intrinsic+json": {
              "type": "string"
            }
          },
          "metadata": {},
          "execution_count": 1
        }
      ]
    },
    {
      "cell_type": "markdown",
      "source": [
        "# Q2. Name the four pillars of OOPs."
      ],
      "metadata": {
        "id": "dUSBA4753HgY"
      }
    },
    {
      "cell_type": "code",
      "source": [
        "'''\n",
        "1. Polymorphism:\n",
        "Polymorphism\" is also supported in Python, which means that objects of different classes can be treated as if they were objects of a\n",
        "common class. This allows for greater flexibility in code and makes it easier to write code that can work with multiple types of objects.\n",
        "\n",
        "2. Encapsulation:\n",
        "One of the key features of OOP in Python is \"encapsulation\", which means that the internal state of an object is hidden and can only\n",
        "be accessed or modified through the object's methods. This helps to protect the object's data and prevent it from being modified in\n",
        "unexpected ways.\n",
        "\n",
        "3. Inheritance:\n",
        "Another key feature of OOP in Python is \"inheritance\", which allows new classes to be created that inherit the properties and methods\n",
        "of an existing class. This allows for code reuse and makes it easy to create new classes that have similar functionality to existing\n",
        "classes.\n",
        "Types of inheritance:\n",
        "* Single inheritance\n",
        "* Multiple inheritance\n",
        "* Multilevel inheritance\n",
        "* Hierarchical Inheritance\n",
        "* Hybrid Inheritance\n",
        "\n",
        "4. Abstraction:\n",
        "Another key feature is Abstraction which helps to keep user unaware about the basic implementation of a function property. The user\n",
        "will only be able to view basic functionalities whereas internal details are hidden.\n",
        "'''"
      ],
      "metadata": {
        "colab": {
          "base_uri": "https://localhost:8080/",
          "height": 126
        },
        "id": "VyOY0Cuf3JjD",
        "outputId": "cc35b1a4-de7f-4aab-e188-9a77aad64de8"
      },
      "execution_count": 2,
      "outputs": [
        {
          "output_type": "execute_result",
          "data": {
            "text/plain": [
              "'\\n1. Polymorphism:\\nPolymorphism\" is also supported in Python, which means that objects of different classes can be treated as if they were objects of a\\ncommon class. This allows for greater flexibility in code and makes it easier to write code that can work with multiple types of objects.\\n\\n2. Encapsulation:\\nOne of the key features of OOP in Python is \"encapsulation\", which means that the internal state of an object is hidden and can only\\nbe accessed or modified through the object\\'s methods. This helps to protect the object\\'s data and prevent it from being modified in\\nunexpected ways.\\n\\n3. Inheritance:\\nAnother key feature of OOP in Python is \"inheritance\", which allows new classes to be created that inherit the properties and methods\\nof an existing class. This allows for code reuse and makes it easy to create new classes that have similar functionality to existing\\nclasses.\\nTypes of inheritance:\\n* Single inheritance\\n* Multiple inheritance\\n* Multilevel inheritance\\n* Hierarchical Inheritance\\n* Hybrid Inheritance\\n\\n4. Abstraction:\\nAnother key feature is Abstraction which helps to keep user unaware about the basic implementation of a function property. The user\\nwill only be able to view basic functionalities whereas internal details are hidden.\\n'"
            ],
            "application/vnd.google.colaboratory.intrinsic+json": {
              "type": "string"
            }
          },
          "metadata": {},
          "execution_count": 2
        }
      ]
    },
    {
      "cell_type": "markdown",
      "source": [
        "# Q3. Explain why the __init__() function is used. Give a suitable example."
      ],
      "metadata": {
        "id": "mFCY6OKC5YVk"
      }
    },
    {
      "cell_type": "code",
      "source": [
        "'''\n",
        "Its basically known as Constructor function which is a special method in a class used to create and initialize an object of a class.\n",
        "There are different types of constructors. Constructor is invoked automatically when an object of a class is created. A constructor is a\n",
        "unique function that gets called automatically when an object is created of a class. The main purpose of a constructor is to initialize\n",
        "or assign values to the data members of that class. It cannot return any value other than None.\n",
        "'''\n",
        "# Example Code.\n",
        "class person:\n",
        "  def __init__(self,n,o):\n",
        "    self.name = n\n",
        "    self.occ = o\n",
        "\n",
        "  def info(self):\n",
        "    print(f\"{self.name} is a {self.occ}\")\n",
        "\n",
        "# Creating objects.\n",
        "first_person = person('Sayan','Income Tax Inspector')\n",
        "second_person = person('Arijit','Data Analyst')\n",
        "\n",
        "first_person.info()\n",
        "second_person.info()"
      ],
      "metadata": {
        "colab": {
          "base_uri": "https://localhost:8080/"
        },
        "id": "lpwmhVMn5baW",
        "outputId": "a0951947-ce2c-4cdf-91e3-d08f4b318bda"
      },
      "execution_count": 4,
      "outputs": [
        {
          "output_type": "stream",
          "name": "stdout",
          "text": [
            "Sayan is a Income Tax Inspector\n",
            "Arijit is a Data Analyst\n"
          ]
        }
      ]
    },
    {
      "cell_type": "markdown",
      "source": [
        "# Q4. Why self is used in OOPs?"
      ],
      "metadata": {
        "id": "BThwhx7n6M0E"
      }
    },
    {
      "cell_type": "code",
      "source": [
        "'''\n",
        "The self is used to represent the instance of the class. With this keyword, we can access the attributes and methods of the class in\n",
        "python. It binds the attributes with the given arguments.\n",
        "'''"
      ],
      "metadata": {
        "colab": {
          "base_uri": "https://localhost:8080/",
          "height": 54
        },
        "id": "VmkDhORV6P92",
        "outputId": "8df88f63-d62b-4de2-d1b2-b4807753dc7c"
      },
      "execution_count": 5,
      "outputs": [
        {
          "output_type": "execute_result",
          "data": {
            "text/plain": [
              "'\\nThe self is used to represent the instance of the class. With this keyword, we can access the attributes and methods of the class in \\npython. It binds the attributes with the given arguments.\\n'"
            ],
            "application/vnd.google.colaboratory.intrinsic+json": {
              "type": "string"
            }
          },
          "metadata": {},
          "execution_count": 5
        }
      ]
    },
    {
      "cell_type": "markdown",
      "source": [
        "# Q5. What is inheritance? Give an example for each type of inheritance."
      ],
      "metadata": {
        "id": "cgoLj7NE6puV"
      }
    },
    {
      "cell_type": "code",
      "source": [
        "'''\n",
        "Another key feature of OOP in Python is \"inheritance\", which allows new classes to be created that inherit the properties and methods\n",
        "of an existing class. This allows for code reuse and makes it easy to create new classes that have similar functionality to existing\n",
        "classes.\n",
        "Types of inheritance:\n",
        "* Single inheritance\n",
        "* Multiple inheritance\n",
        "* Multilevel inheritance\n",
        "* Hierarchical Inheritance\n",
        "* Hybrid Inheritance\n",
        "'''"
      ],
      "metadata": {
        "colab": {
          "base_uri": "https://localhost:8080/",
          "height": 72
        },
        "id": "RgPtUJsj6s8g",
        "outputId": "2205c11f-1bae-45c9-ac3e-115f45070085"
      },
      "execution_count": 6,
      "outputs": [
        {
          "output_type": "execute_result",
          "data": {
            "text/plain": [
              "'\\nAnother key feature of OOP in Python is \"inheritance\", which allows new classes to be created that inherit the properties and methods\\nof an existing class. This allows for code reuse and makes it easy to create new classes that have similar functionality to existing\\nclasses.\\nTypes of inheritance:\\n* Single inheritance\\n* Multiple inheritance\\n* Multilevel inheritance\\n* Hierarchical Inheritance\\n* Hybrid Inheritance\\n'"
            ],
            "application/vnd.google.colaboratory.intrinsic+json": {
              "type": "string"
            }
          },
          "metadata": {},
          "execution_count": 6
        }
      ]
    },
    {
      "cell_type": "code",
      "source": [
        "# Single inheritance\n",
        "class employee:\n",
        "  def __init__(self, n, i):\n",
        "    self.name = n\n",
        "    self.id = i\n",
        "\n",
        "  def details(self):\n",
        "    print(f\"The name of Employee {self.id} is {self.name}\")\n",
        "\n",
        "employee_1 = employee('Sayan Banerjee', 4545)                   # Creating a object\n",
        "print(employee_1.name)                                          # Getting employee name\n",
        "print(employee_1.id)                                            # Getting employee id\n",
        "employee_1.details()                                            # Getting empoloyee full details\n",
        "\n",
        "# Creating a new class including all the features or method of the previous class (Inheritance).\n",
        "class programmer(employee):                            # New class is created and the argument is previous class name.\n",
        "    def showlang(self):\n",
        "      print('The default language is PYTHON')\n",
        "\n",
        "employee_1 = programmer('Sayan Banerjee', 4545)       # Now it will support both methods and features of employee and programmer class.\n",
        "employee_1.details()\n",
        "employee_1.showlang()"
      ],
      "metadata": {
        "colab": {
          "base_uri": "https://localhost:8080/"
        },
        "id": "BW4ITt-47Coo",
        "outputId": "ff22cb75-c182-454b-fb80-bc914355ad53"
      },
      "execution_count": 7,
      "outputs": [
        {
          "output_type": "stream",
          "name": "stdout",
          "text": [
            "Sayan Banerjee\n",
            "4545\n",
            "The name of Employee 4545 is Sayan Banerjee\n",
            "The name of Employee 4545 is Sayan Banerjee\n",
            "The default language is PYTHON\n"
          ]
        }
      ]
    },
    {
      "cell_type": "code",
      "source": [
        "# Multiple Inheritance\n",
        "class Employee:                                        # Class 1\n",
        "  def __init__(self, name):\n",
        "    self.name = name\n",
        "  def show(self):\n",
        "    print(f\"The name is {self.name}\")\n",
        "\n",
        "class Dancer:                                         # Class 2\n",
        "  def __init__(self, dance):\n",
        "    self.dance = dance\n",
        "\n",
        "  def show(self):\n",
        "    print(f\"The dance is {self.dance}\")\n",
        "\n",
        "class DancerEmployee(Employee, Dancer):              # Class 3 which inherits the properties of two different classes.\n",
        "  def __init__(self, dance, name):\n",
        "    self.dance = dance\n",
        "    self.name = name\n",
        "\n",
        "o  = DancerEmployee(\"Kathak\", \"Shivani\")\n",
        "print(o.name)\n",
        "print(o.dance)\n",
        "o.show()\n",
        "print(DancerEmployee.mro())"
      ],
      "metadata": {
        "colab": {
          "base_uri": "https://localhost:8080/"
        },
        "id": "XQKhFG6T7GNF",
        "outputId": "a3f3a64e-ddf1-41ba-e3f6-9ee6ca986755"
      },
      "execution_count": 8,
      "outputs": [
        {
          "output_type": "stream",
          "name": "stdout",
          "text": [
            "Shivani\n",
            "Kathak\n",
            "The name is Shivani\n",
            "[<class '__main__.DancerEmployee'>, <class '__main__.Employee'>, <class '__main__.Dancer'>, <class 'object'>]\n"
          ]
        }
      ]
    },
    {
      "cell_type": "code",
      "source": [
        "# Multilevel Inheritance.\n",
        "class class1:                                # Creating class 1.\n",
        "  def class1_det(self):\n",
        "    print('Class1 returns')\n",
        "\n",
        "class class2(class1):                        # Creating class 2 inheriting the properties of class 1.\n",
        "  def class2_det(self):\n",
        "    print('Class2 returns')\n",
        "\n",
        "class class3(class2):                        # Creating class 3 inheriting the propertiesn of both class 1 & class 2.\n",
        "  def class3_det(self):\n",
        "    print('Class3 returns')\n",
        "\n",
        "# Creating an object.\n",
        "obj = class3()\n",
        "obj.class1_det()                           # Accessing class1 properties.\n",
        "obj.class2_det()                           # Accessing class2 properties.\n",
        "obj.class3_det()                           # Accessing class3 properties."
      ],
      "metadata": {
        "colab": {
          "base_uri": "https://localhost:8080/"
        },
        "id": "eBgS2L4R7RVz",
        "outputId": "dea4f940-a666-49a5-b9f8-9a36315304a6"
      },
      "execution_count": 9,
      "outputs": [
        {
          "output_type": "stream",
          "name": "stdout",
          "text": [
            "Class1 returns\n",
            "Class2 returns\n",
            "Class3 returns\n"
          ]
        }
      ]
    },
    {
      "cell_type": "code",
      "source": [
        "# Hybrid Inheritance.\n",
        "class Animal:\n",
        "    def __init__(self, name):\n",
        "        self.name = name\n",
        "\n",
        "    def speak(self):\n",
        "        print(\"Animal speaks!\")\n",
        "\n",
        "class Mammal(Animal):\n",
        "    def speak(self):\n",
        "        print(\"Mammal speaks!\")\n",
        "\n",
        "class Bird(Animal):\n",
        "    def speak(self):\n",
        "        print(\"Bird speaks!\")\n",
        "\n",
        "class Bat(Mammal, Bird):\n",
        "    def speak(self):\n",
        "        print(\"Bat speaks!\")\n",
        "\n",
        "# Creating objects and calling methods\n",
        "animal = Animal(\"Generic Animal\")\n",
        "mammal = Mammal(\"Generic Mammal\")\n",
        "bird = Bird(\"Generic Bird\")\n",
        "bat = Bat(\"Bat\")\n",
        "\n",
        "animal.speak()  # Output: Animal speaks!\n",
        "mammal.speak()  # Output: Mammal speaks!\n",
        "bird.speak()    # Output: Bird speaks!\n",
        "bat.speak()     # Output: Bat speaks!"
      ],
      "metadata": {
        "colab": {
          "base_uri": "https://localhost:8080/"
        },
        "id": "QkWzhXex7afm",
        "outputId": "66879df6-0a05-4f3f-f298-e56cc86943d9"
      },
      "execution_count": 10,
      "outputs": [
        {
          "output_type": "stream",
          "name": "stdout",
          "text": [
            "Animal speaks!\n",
            "Mammal speaks!\n",
            "Bird speaks!\n",
            "Bat speaks!\n"
          ]
        }
      ]
    },
    {
      "cell_type": "code",
      "source": [
        "# Hierarchical Inheritance.\n",
        "class Animal:\n",
        "    def __init__(self, name):\n",
        "        self.name = name\n",
        "\n",
        "    def speak(self):\n",
        "        print(\"Animal speaks!\")\n",
        "\n",
        "class Dog(Animal):\n",
        "    def speak(self):\n",
        "        print(\"Dog barks!\")\n",
        "\n",
        "class Cat(Animal):\n",
        "    def speak(self):\n",
        "        print(\"Cat meows!\")\n",
        "\n",
        "class Lion(Animal):\n",
        "    def speak(self):\n",
        "        print(\"Lion roars!\")\n",
        "\n",
        "# Creating objects and calling methods\n",
        "animal = Animal(\"Generic Animal\")\n",
        "dog = Dog(\"Tommy\")\n",
        "cat = Cat(\"Whiskers\")\n",
        "lion = Lion(\"Simba\")\n",
        "\n",
        "animal.speak()  # Output: Animal speaks!\n",
        "dog.speak()     # Output: Dog barks!\n",
        "cat.speak()     # Output: Cat meows!\n",
        "lion.speak()    # Output: Lion roars!\n"
      ],
      "metadata": {
        "colab": {
          "base_uri": "https://localhost:8080/"
        },
        "id": "vaWYXSrb8LOI",
        "outputId": "3e72f914-531d-4f90-b9f7-ff3783b4176c"
      },
      "execution_count": 11,
      "outputs": [
        {
          "output_type": "stream",
          "name": "stdout",
          "text": [
            "Animal speaks!\n",
            "Dog barks!\n",
            "Cat meows!\n",
            "Lion roars!\n"
          ]
        }
      ]
    }
  ]
}