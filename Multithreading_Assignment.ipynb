{
  "nbformat": 4,
  "nbformat_minor": 0,
  "metadata": {
    "colab": {
      "provenance": [],
      "authorship_tag": "ABX9TyNv4rmF9ZsrZi+ToGEQZ9WJ",
      "include_colab_link": true
    },
    "kernelspec": {
      "name": "python3",
      "display_name": "Python 3"
    },
    "language_info": {
      "name": "python"
    }
  },
  "cells": [
    {
      "cell_type": "markdown",
      "metadata": {
        "id": "view-in-github",
        "colab_type": "text"
      },
      "source": [
        "<a href=\"https://colab.research.google.com/github/Arka1212/Data-Science-Assignments/blob/main/Multithreading_Assignment.ipynb\" target=\"_parent\"><img src=\"https://colab.research.google.com/assets/colab-badge.svg\" alt=\"Open In Colab\"/></a>"
      ]
    },
    {
      "cell_type": "markdown",
      "source": [
        "# Q1. What is multithreading in python? Why is it used? Name the module used to handle threads in python."
      ],
      "metadata": {
        "id": "F02xTKHGbxjC"
      }
    },
    {
      "cell_type": "code",
      "source": [
        "'''\n",
        "Multithreading in Python refers to the ability of a program to perform multiple tasks concurrently within the same process. It allows\n",
        "multiple threads (smaller units of execution) to run simultaneously, utilizing the available CPU cores to execute tasks in parallel.\n",
        "\n",
        "Its used for performing tasks simultaneously leading to faster exceution improved oeverall performance. In addition, it is also used\n",
        "performing time-consuming tasks in the background.\n",
        "'''\n",
        "import threading\n",
        "\n",
        "# 'threading' module is used to handle the threads in python."
      ],
      "metadata": {
        "id": "i-m_nlzpd6uH"
      },
      "execution_count": 3,
      "outputs": []
    },
    {
      "cell_type": "markdown",
      "source": [
        "# Q2. Why threading module used? Write the use of the following functions.\n",
        "\n",
        "* activeCount()\n",
        "* currentThread()\n",
        "* enumerate()\n",
        "\n",
        "\n"
      ],
      "metadata": {
        "id": "yzb8B5zqcCNh"
      }
    },
    {
      "cell_type": "code",
      "source": [
        "'''\n",
        "The threading module in Python is used to work with threads, allowing developers to create and manage concurrent execution of tasks\n",
        "within a single process.\n",
        "\n",
        "* activeCount(): This function returns the number of currently active threads in the program, including the main thread.\n",
        "* enumerate(): enumerate() is useful in various scenarios, such as when we have a list of threads and we want to iterate over them\n",
        "               while keeping track of their indices. It allows us to easily access specific threads in the list by their index and\n",
        "               perform thread-related operations accordingly.\n",
        "* currentThread(): Using this we can also access other attributes of the Thread object, such as ident (the thread identifier),\n",
        "                  is_alive() (check if the thread is still running), isDaemon() (check if the thread is a daemon thread), etc. These\n",
        "                  attributes and methods can be helpful for thread management and debugging in more complex multi-threaded applications.\n",
        "'''"
      ],
      "metadata": {
        "colab": {
          "base_uri": "https://localhost:8080/",
          "height": 126
        },
        "id": "qwEhWoJFfDcw",
        "outputId": "1f71f034-7b8d-44f1-f759-fd9ad46a72b4"
      },
      "execution_count": 6,
      "outputs": [
        {
          "output_type": "execute_result",
          "data": {
            "text/plain": [
              "'\\nThe threading module in Python is used to work with threads, allowing developers to create and manage concurrent execution of tasks \\nwithin a single process.\\n\\n* activeCount(): This function returns the number of currently active threads in the program, including the main thread.\\n* enumerate(): enumerate() is useful in various scenarios, such as when we have a list of threads and we want to iterate over them \\n               while keeping track of their indices. It allows us to easily access specific threads in the list by their index and \\n               perform thread-related operations accordingly. \\n* currentThread(): Using this we can also access other attributes of the Thread object, such as ident (the thread identifier), \\n                  is_alive() (check if the thread is still running), isDaemon() (check if the thread is a daemon thread), etc. These \\n                  attributes and methods can be helpful for thread management and debugging in more complex multi-threaded applications.\\n'"
            ],
            "application/vnd.google.colaboratory.intrinsic+json": {
              "type": "string"
            }
          },
          "metadata": {},
          "execution_count": 6
        }
      ]
    },
    {
      "cell_type": "markdown",
      "source": [
        "# Q3. Explain the following functions.\n",
        "\n",
        "* run()\n",
        "* start()\n",
        "* join()\n",
        "* isAlive()"
      ],
      "metadata": {
        "id": "ZuJOfMttcaBr"
      }
    },
    {
      "cell_type": "code",
      "source": [
        "'''\n",
        "* run() is a method in python which helps in automatically calling the custom thread.\n",
        "* start() method is used to begin the execution of a thread. It is a method of the Thread class, and it initiates the call to the run()\n",
        "  method in the new thread.\n",
        "* join() method is used to wait for a thread to complete its execution before moving on to the next steps in the program. When we call\n",
        "  join() on a thread, the program will block and wait until that thread finishes its task.\n",
        "* isAlive() method is used to check whether a thread is currently running or has finished executing. It returns True if the thread is\n",
        "  active and False otherwise.\n",
        "'''"
      ],
      "metadata": {
        "colab": {
          "base_uri": "https://localhost:8080/",
          "height": 90
        },
        "id": "apIFjrEjhRQF",
        "outputId": "96b03db6-a09b-4c2e-f280-6cc78d14b98f"
      },
      "execution_count": 8,
      "outputs": [
        {
          "output_type": "execute_result",
          "data": {
            "text/plain": [
              "'\\n* run() is a method in python which helps in automatically calling the custom thread.\\n* start() method is used to begin the execution of a thread. It is a method of the Thread class, and it initiates the call to the run()\\n  method in the new thread. \\n* join() method is used to wait for a thread to complete its execution before moving on to the next steps in the program. When we call\\n  join() on a thread, the program will block and wait until that thread finishes its task.\\n* isAlive() method is used to check whether a thread is currently running or has finished executing. It returns True if the thread is \\n  active and False otherwise.\\n'"
            ],
            "application/vnd.google.colaboratory.intrinsic+json": {
              "type": "string"
            }
          },
          "metadata": {},
          "execution_count": 8
        }
      ]
    },
    {
      "cell_type": "markdown",
      "source": [
        "# Q4. Write a python program to create two threads. Thread one must print the list of squares and thread two must print the list of cubes."
      ],
      "metadata": {
        "id": "7J3Vnw31cngj"
      }
    },
    {
      "cell_type": "code",
      "source": [
        "# Function for squaring list of numbers.\n",
        "def sq(num_list):\n",
        "  sq_list = []\n",
        "  for i in num_list:\n",
        "    c = i**2\n",
        "    sq_list.append(c)\n",
        "  print(f'Square list : {sq_list}')\n",
        "\n",
        "# Function for cubing list of numbers.\n",
        "def cube(c_list):\n",
        "  cube_list = []\n",
        "  for k in c_list:\n",
        "    v = k**3\n",
        "    cube_list.append(v)\n",
        "  print(f'Cube lsit : {cube_list}')\n",
        "\n",
        "# Using Threading run both functions simultaneously.\n",
        "import threading\n",
        "if __name__ == '__main__':\n",
        "  n = [34,44,54,64]\n",
        "\n",
        "  thread_1 = threading.Thread(target = sq, args = (n,))\n",
        "  thread_2 = threading.Thread(target = cube, args = (n,))\n",
        "\n",
        "  thread_1.start()\n",
        "  thread_2.start()\n",
        "\n",
        "  thread_1.join()\n",
        "  thread_2.join()"
      ],
      "metadata": {
        "colab": {
          "base_uri": "https://localhost:8080/"
        },
        "id": "nshUJVzjkLKj",
        "outputId": "0cc2576d-0adb-4255-dd33-d846ebc3c119"
      },
      "execution_count": 14,
      "outputs": [
        {
          "output_type": "stream",
          "name": "stdout",
          "text": [
            "Square list : [1156, 1936, 2916, 4096]\n",
            "Cube lsit : [39304, 85184, 157464, 262144]\n"
          ]
        }
      ]
    },
    {
      "cell_type": "markdown",
      "source": [
        "# Q5. State advantages and disadvantages of multithreading."
      ],
      "metadata": {
        "id": "-oRC0og0ctrN"
      }
    },
    {
      "cell_type": "code",
      "source": [
        "'''\n",
        "Advantages are as follows:\n",
        "* Multithreading allows an application to perform multiple tasks concurrently.\n",
        "* Multithreading can make better use of available CPU cores, especially on modern processors with multiple cores.\n",
        "* Multithreading can significantly increase the overall efficiency and reduce the total time taken to complete all tasks.\n",
        "\n",
        "Disadvantages are as follows:\n",
        "* Multithreading introduces concurrency and potential race conditions.\n",
        "* When multiple threads access shared resources, proper synchronization mechanisms (e.g., locks, semaphores) are required to avoid data\n",
        "  corruption or inconsistent results.\n",
        "* Deadlocks can occur when two or more threads are waiting for each other to release resources, resulting in a situation where no thread\n",
        "  can proceed. It can lead to a complete halt of the application.\n",
        "* Multithreaded bugs may not occur consistently or may be challenging to reproduce, making it difficult to identify and fix issues.\n",
        "'''"
      ],
      "metadata": {
        "colab": {
          "base_uri": "https://localhost:8080/",
          "height": 126
        },
        "id": "t8p5sODtmirf",
        "outputId": "dd3f38b4-2c97-4e19-db92-891b77659dae"
      },
      "execution_count": 16,
      "outputs": [
        {
          "output_type": "execute_result",
          "data": {
            "text/plain": [
              "'\\nAdvantages are as follows:\\n* Multithreading allows an application to perform multiple tasks concurrently.\\n* Multithreading can make better use of available CPU cores, especially on modern processors with multiple cores.\\n* Multithreading can significantly increase the overall efficiency and reduce the total time taken to complete all tasks.\\n\\nDisadvantages are as follows:\\n* Multithreading introduces concurrency and potential race conditions. \\n* When multiple threads access shared resources, proper synchronization mechanisms (e.g., locks, semaphores) are required to avoid data \\n  corruption or inconsistent results. \\n* Deadlocks can occur when two or more threads are waiting for each other to release resources, resulting in a situation where no thread\\n  can proceed. It can lead to a complete halt of the application.\\n* Multithreaded bugs may not occur consistently or may be challenging to reproduce, making it difficult to identify and fix issues.\\n'"
            ],
            "application/vnd.google.colaboratory.intrinsic+json": {
              "type": "string"
            }
          },
          "metadata": {},
          "execution_count": 16
        }
      ]
    },
    {
      "cell_type": "markdown",
      "source": [
        "# Q6. Explain deadlocks and race conditions."
      ],
      "metadata": {
        "id": "cq7qCtyXc0cl"
      }
    },
    {
      "cell_type": "code",
      "source": [
        "'''\n",
        "A 'deadlock' is a situation that occurs in concurrent programming when two or more threads or processes are unable to proceed because each\n",
        "is waiting for the other to release a resource or lock. In other words, a deadlock is a state where multiple threads are blocked and\n",
        "none of them can make progress. Deadlocks are a common issue in multithreaded and multi-process environments.\n",
        "\n",
        "A 'race' condition is a situation in concurrent programming where the behavior of a program depends on the relative timing of events, such\n",
        "as the order in which threads are scheduled to run.\n",
        "'''"
      ],
      "metadata": {
        "colab": {
          "base_uri": "https://localhost:8080/",
          "height": 90
        },
        "id": "xh80DRygnmKE",
        "outputId": "ada42e00-e307-425b-e998-7b53c4d61342"
      },
      "execution_count": 17,
      "outputs": [
        {
          "output_type": "execute_result",
          "data": {
            "text/plain": [
              "\"\\nA 'deadlock' is a situation that occurs in concurrent programming when two or more threads or processes are unable to proceed because each\\nis waiting for the other to release a resource or lock. In other words, a deadlock is a state where multiple threads are blocked and \\nnone of them can make progress. Deadlocks are a common issue in multithreaded and multi-process environments.\\n\\nA 'race' condition is a situation in concurrent programming where the behavior of a program depends on the relative timing of events, such \\nas the order in which threads are scheduled to run. \\n\""
            ],
            "application/vnd.google.colaboratory.intrinsic+json": {
              "type": "string"
            }
          },
          "metadata": {},
          "execution_count": 17
        }
      ]
    }
  ]
}