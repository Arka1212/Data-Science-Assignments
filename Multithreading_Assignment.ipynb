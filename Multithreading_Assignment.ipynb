{
  "nbformat": 4,
  "nbformat_minor": 0,
  "metadata": {
    "colab": {
      "provenance": [],
      "authorship_tag": "ABX9TyNknsk7erWkOagIUHCOHqpp",
      "include_colab_link": true
    },
    "kernelspec": {
      "name": "python3",
      "display_name": "Python 3"
    },
    "language_info": {
      "name": "python"
    }
  },
  "cells": [
    {
      "cell_type": "markdown",
      "metadata": {
        "id": "view-in-github",
        "colab_type": "text"
      },
      "source": [
        "<a href=\"https://colab.research.google.com/github/Arka1212/Data-Science-Assignments/blob/main/Multithreading_Assignment.ipynb\" target=\"_parent\"><img src=\"https://colab.research.google.com/assets/colab-badge.svg\" alt=\"Open In Colab\"/></a>"
      ]
    },
    {
      "cell_type": "markdown",
      "source": [
        "# Q1. What is multithreading in python? Why is it used? Name the module used to handle threads in python."
      ],
      "metadata": {
        "id": "F02xTKHGbxjC"
      }
    },
    {
      "cell_type": "code",
      "source": [
        "'''\n",
        "Multithreading in Python refers to the ability of a program to perform multiple tasks concurrently within the same process. It allows\n",
        "multiple threads (smaller units of execution) to run simultaneously, utilizing the available CPU cores to execute tasks in parallel.\n",
        "\n",
        "Its used for performing tasks simultaneously leading to faster exceution improved oeverall performance. In addition, it is also used\n",
        "performing time-consuming tasks in the background.\n",
        "'''\n",
        "import threading\n",
        "\n",
        "# 'threading' module is used to handle the threads in python."
      ],
      "metadata": {
        "id": "i-m_nlzpd6uH"
      },
      "execution_count": 3,
      "outputs": []
    },
    {
      "cell_type": "markdown",
      "source": [
        "# Q2. Why threading module used? Write the use of the following functions.\n",
        "\n",
        "* activeCount()\n",
        "* currentThread()\n",
        "* enumerate()\n",
        "\n",
        "\n"
      ],
      "metadata": {
        "id": "yzb8B5zqcCNh"
      }
    },
    {
      "cell_type": "code",
      "source": [
        "'''\n",
        "The threading module in Python is used to work with threads, allowing developers to create and manage concurrent execution of tasks\n",
        "within a single process.\n",
        "\n",
        "* activeCount(): This function returns the number of currently active threads in the program, including the main thread.\n",
        "* enumerate(): enumerate() is useful in various scenarios, such as when we have a list of threads and we want to iterate over them\n",
        "               while keeping track of their indices. It allows us to easily access specific threads in the list by their index and\n",
        "               perform thread-related operations accordingly.\n",
        "* currentThread(): Using this we can also access other attributes of the Thread object, such as ident (the thread identifier),\n",
        "                  is_alive() (check if the thread is still running), isDaemon() (check if the thread is a daemon thread), etc. These\n",
        "                  attributes and methods can be helpful for thread management and debugging in more complex multi-threaded applications.\n",
        "'''"
      ],
      "metadata": {
        "colab": {
          "base_uri": "https://localhost:8080/",
          "height": 126
        },
        "id": "qwEhWoJFfDcw",
        "outputId": "1f71f034-7b8d-44f1-f759-fd9ad46a72b4"
      },
      "execution_count": 6,
      "outputs": [
        {
          "output_type": "execute_result",
          "data": {
            "text/plain": [
              "'\\nThe threading module in Python is used to work with threads, allowing developers to create and manage concurrent execution of tasks \\nwithin a single process.\\n\\n* activeCount(): This function returns the number of currently active threads in the program, including the main thread.\\n* enumerate(): enumerate() is useful in various scenarios, such as when we have a list of threads and we want to iterate over them \\n               while keeping track of their indices. It allows us to easily access specific threads in the list by their index and \\n               perform thread-related operations accordingly. \\n* currentThread(): Using this we can also access other attributes of the Thread object, such as ident (the thread identifier), \\n                  is_alive() (check if the thread is still running), isDaemon() (check if the thread is a daemon thread), etc. These \\n                  attributes and methods can be helpful for thread management and debugging in more complex multi-threaded applications.\\n'"
            ],
            "application/vnd.google.colaboratory.intrinsic+json": {
              "type": "string"
            }
          },
          "metadata": {},
          "execution_count": 6
        }
      ]
    },
    {
      "cell_type": "markdown",
      "source": [
        "# Q3. Explain the following functions.\n",
        "\n",
        "* run()\n",
        "* start()\n",
        "* join()\n",
        "* isAlive()"
      ],
      "metadata": {
        "id": "ZuJOfMttcaBr"
      }
    },
    {
      "cell_type": "markdown",
      "source": [
        "# Q4. Write a python program to create two threads. Thread one must print the list of squares and thread two must print the list of cubes."
      ],
      "metadata": {
        "id": "7J3Vnw31cngj"
      }
    },
    {
      "cell_type": "markdown",
      "source": [
        "# Q5. State advantages and disadvantages of multithreading."
      ],
      "metadata": {
        "id": "-oRC0og0ctrN"
      }
    },
    {
      "cell_type": "markdown",
      "source": [
        "# Q6. Explain deadlocks and race conditions."
      ],
      "metadata": {
        "id": "cq7qCtyXc0cl"
      }
    }
  ]
}