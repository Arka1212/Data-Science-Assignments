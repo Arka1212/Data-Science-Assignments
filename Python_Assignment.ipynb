{
  "nbformat": 4,
  "nbformat_minor": 0,
  "metadata": {
    "colab": {
      "provenance": [],
      "authorship_tag": "ABX9TyNELS7sjzbXXDHG/LB7bFks",
      "include_colab_link": true
    },
    "kernelspec": {
      "name": "python3",
      "display_name": "Python 3"
    },
    "language_info": {
      "name": "python"
    }
  },
  "cells": [
    {
      "cell_type": "markdown",
      "metadata": {
        "id": "view-in-github",
        "colab_type": "text"
      },
      "source": [
        "<a href=\"https://colab.research.google.com/github/Arka1212/Data-Science-Assignments/blob/main/Python_Assignment.ipynb\" target=\"_parent\"><img src=\"https://colab.research.google.com/assets/colab-badge.svg\" alt=\"Open In Colab\"/></a>"
      ]
    },
    {
      "cell_type": "markdown",
      "source": [
        "## Q1. Create a python program to sort the given list of tuples based on integer value using a lambda function.\n",
        "\n",
        "## [('Sachin Tendulkar', 34357), ('Ricky Ponting', 27483), ('Jack Kallis', 25534), ('Virat Kohli', 24936)]"
      ],
      "metadata": {
        "id": "hG-34LIJ15rq"
      }
    },
    {
      "cell_type": "code",
      "source": [
        "# Code.\n",
        "new_list = [('Sachin Tendulkar', 34357), ('Ricky Ponting', 27483), ('Jack Kallis', 25534), ('Virat Kohli', 24936)]\n",
        "new_list.sort(key = lambda n : n[1])\n",
        "print(new_list)"
      ],
      "metadata": {
        "colab": {
          "base_uri": "https://localhost:8080/"
        },
        "id": "LDHzN0m71-CA",
        "outputId": "48600124-8a52-46f3-c6ba-ce35c639f446"
      },
      "execution_count": 5,
      "outputs": [
        {
          "output_type": "stream",
          "name": "stdout",
          "text": [
            "[('Virat Kohli', 24936), ('Jack Kallis', 25534), ('Ricky Ponting', 27483), ('Sachin Tendulkar', 34357)]\n"
          ]
        }
      ]
    },
    {
      "cell_type": "markdown",
      "source": [
        "## Q2. Write a Python Program to find the squares of all the numbers in the given list of integers using lambda and map functions."
      ],
      "metadata": {
        "id": "HqniJ0xO4fgE"
      }
    },
    {
      "cell_type": "code",
      "source": [
        "# Squaring values of list using only 'lambda' function.\n",
        "l = [1, 2, 3, 4, 5, 6, 7, 8, 9, 10]\n",
        "sq = lambda n : [i**2 for i in n]\n",
        "sq(l)"
      ],
      "metadata": {
        "colab": {
          "base_uri": "https://localhost:8080/"
        },
        "id": "yPtH7AQ94heD",
        "outputId": "58c7a6fa-2682-42ac-81a7-c7c1d74857f5"
      },
      "execution_count": 17,
      "outputs": [
        {
          "output_type": "execute_result",
          "data": {
            "text/plain": [
              "[1, 4, 9, 16, 25, 36, 49, 64, 81, 100]"
            ]
          },
          "metadata": {},
          "execution_count": 17
        }
      ]
    },
    {
      "cell_type": "code",
      "source": [
        "# Squaring values of list using both 'map' and 'lambda' function.\n",
        "l = [1, 2, 3, 4, 5, 6, 7, 8, 9, 10]\n",
        "sq_list = list(map(lambda n : n**2, l))\n",
        "print(sq_list)"
      ],
      "metadata": {
        "colab": {
          "base_uri": "https://localhost:8080/"
        },
        "id": "ixLqg2j15SP8",
        "outputId": "7a635988-17fd-48da-e507-1cfb7613f2df"
      },
      "execution_count": 16,
      "outputs": [
        {
          "output_type": "stream",
          "name": "stdout",
          "text": [
            "[1, 4, 9, 16, 25, 36, 49, 64, 81, 100]\n"
          ]
        }
      ]
    },
    {
      "cell_type": "markdown",
      "source": [
        "## Q3. Write a python program to convert the given list of integers into a tuple of strings. Use map and lambda functions.\n",
        "\n",
        "## Given String: [1, 2, 3, 4, 5, 6, 7, 8, 9, 10]\n",
        "##Expected output: ('1', '2', '3', '4', '5', '6', '7', '8', '9', '10')"
      ],
      "metadata": {
        "id": "5OpoPekj6JyD"
      }
    },
    {
      "cell_type": "code",
      "source": [
        "a = [4,5]\n",
        "b = [str (i) for i in a]\n",
        "print(b)"
      ],
      "metadata": {
        "colab": {
          "base_uri": "https://localhost:8080/"
        },
        "id": "YoxzUOSt6R_e",
        "outputId": "dbf3cc23-ad71-4cdb-ecf6-5e28a7194361"
      },
      "execution_count": 15,
      "outputs": [
        {
          "output_type": "stream",
          "name": "stdout",
          "text": [
            "['4', '5']\n"
          ]
        }
      ]
    },
    {
      "cell_type": "code",
      "source": [
        "# Converting list of integers to tuples of strings using only 'lambda' function.\n",
        "r = [1, 2, 3, 4, 5, 6, 7, 8, 9, 10]\n",
        "str_list = lambda k : [str(j) for j in k]\n",
        "conv_tuple = tuple(str_list(r))\n",
        "print(conv_tuple)"
      ],
      "metadata": {
        "colab": {
          "base_uri": "https://localhost:8080/"
        },
        "id": "lhwk_JbJ6rpd",
        "outputId": "a6b7e016-2e93-419f-a96c-6ec146c41b47"
      },
      "execution_count": 26,
      "outputs": [
        {
          "output_type": "stream",
          "name": "stdout",
          "text": [
            "('1', '2', '3', '4', '5', '6', '7', '8', '9', '10')\n"
          ]
        }
      ]
    },
    {
      "cell_type": "code",
      "source": [
        "# Converting list of integers to tuples of strings using only 'lambda' and 'Map' function.\n",
        "r = [1, 2, 3, 4, 5, 6, 7, 8, 9, 10]\n",
        "conv_2 = list(map(lambda x : str(x), r))\n",
        "tuple_2 = tuple(conv_2)\n",
        "print(tuple_2)"
      ],
      "metadata": {
        "colab": {
          "base_uri": "https://localhost:8080/"
        },
        "id": "0JqpSVfK79fy",
        "outputId": "622c2dea-aed2-4ed9-9346-0d7adef89104"
      },
      "execution_count": 37,
      "outputs": [
        {
          "output_type": "stream",
          "name": "stdout",
          "text": [
            "('1', '2', '3', '4', '5', '6', '7', '8', '9', '10')\n"
          ]
        }
      ]
    },
    {
      "cell_type": "code",
      "source": [],
      "metadata": {
        "id": "5v5tCgyS9V9R"
      },
      "execution_count": null,
      "outputs": []
    }
  ]
}