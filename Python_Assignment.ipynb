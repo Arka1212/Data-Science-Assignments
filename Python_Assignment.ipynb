{
  "nbformat": 4,
  "nbformat_minor": 0,
  "metadata": {
    "colab": {
      "provenance": [],
      "authorship_tag": "ABX9TyOJZpeM0wa+m3GXQUw6N65K",
      "include_colab_link": true
    },
    "kernelspec": {
      "name": "python3",
      "display_name": "Python 3"
    },
    "language_info": {
      "name": "python"
    }
  },
  "cells": [
    {
      "cell_type": "markdown",
      "metadata": {
        "id": "view-in-github",
        "colab_type": "text"
      },
      "source": [
        "<a href=\"https://colab.research.google.com/github/Arka1212/Data-Science-Assignments/blob/main/Python_Assignment.ipynb\" target=\"_parent\"><img src=\"https://colab.research.google.com/assets/colab-badge.svg\" alt=\"Open In Colab\"/></a>"
      ]
    },
    {
      "cell_type": "markdown",
      "source": [
        "## Q1. Create a python program to sort the given list of tuples based on integer value using a lambda function.\n",
        "\n",
        "## [('Sachin Tendulkar', 34357), ('Ricky Ponting', 27483), ('Jack Kallis', 25534), ('Virat Kohli', 24936)]"
      ],
      "metadata": {
        "id": "hG-34LIJ15rq"
      }
    },
    {
      "cell_type": "code",
      "source": [
        "# Code.\n",
        "new_list = [('Sachin Tendulkar', 34357), ('Ricky Ponting', 27483), ('Jack Kallis', 25534), ('Virat Kohli', 24936)]\n",
        "new_list.sort(key = lambda n : n[1])\n",
        "print(new_list)"
      ],
      "metadata": {
        "colab": {
          "base_uri": "https://localhost:8080/"
        },
        "id": "LDHzN0m71-CA",
        "outputId": "48600124-8a52-46f3-c6ba-ce35c639f446"
      },
      "execution_count": 5,
      "outputs": [
        {
          "output_type": "stream",
          "name": "stdout",
          "text": [
            "[('Virat Kohli', 24936), ('Jack Kallis', 25534), ('Ricky Ponting', 27483), ('Sachin Tendulkar', 34357)]\n"
          ]
        }
      ]
    },
    {
      "cell_type": "markdown",
      "source": [
        "## Q2. Write a Python Program to find the squares of all the numbers in the given list of integers using lambda and map functions."
      ],
      "metadata": {
        "id": "HqniJ0xO4fgE"
      }
    },
    {
      "cell_type": "code",
      "source": [
        "# Squaring values of list using both 'map' and 'lambda' function.\n",
        "l = [1, 2, 3, 4, 5, 6, 7, 8, 9, 10]\n",
        "sq_list = list(map(lambda n : n**2, l))\n",
        "print(sq_list)"
      ],
      "metadata": {
        "colab": {
          "base_uri": "https://localhost:8080/"
        },
        "id": "ixLqg2j15SP8",
        "outputId": "7a635988-17fd-48da-e507-1cfb7613f2df"
      },
      "execution_count": 16,
      "outputs": [
        {
          "output_type": "stream",
          "name": "stdout",
          "text": [
            "[1, 4, 9, 16, 25, 36, 49, 64, 81, 100]\n"
          ]
        }
      ]
    },
    {
      "cell_type": "markdown",
      "source": [
        "## Q3. Write a python program to convert the given list of integers into a tuple of strings. Use map and lambda functions.\n",
        "\n",
        "## Given String: [1, 2, 3, 4, 5, 6, 7, 8, 9, 10]\n",
        "##Expected output: ('1', '2', '3', '4', '5', '6', '7', '8', '9', '10')"
      ],
      "metadata": {
        "id": "5OpoPekj6JyD"
      }
    },
    {
      "cell_type": "code",
      "source": [
        "# Converting list of integers to tuples of strings using only 'lambda' and 'Map' function.\n",
        "r = [1, 2, 3, 4, 5, 6, 7, 8, 9, 10]\n",
        "conv_tuple = tuple(map(lambda x : str(x), r))\n",
        "print(conv_tuple)"
      ],
      "metadata": {
        "colab": {
          "base_uri": "https://localhost:8080/"
        },
        "id": "0JqpSVfK79fy",
        "outputId": "253aa151-0ce3-4d5b-cbf0-2b4582be7a35"
      },
      "execution_count": 40,
      "outputs": [
        {
          "output_type": "stream",
          "name": "stdout",
          "text": [
            "('1', '2', '3', '4', '5', '6', '7', '8', '9', '10')\n"
          ]
        }
      ]
    },
    {
      "cell_type": "markdown",
      "source": [
        "## Q4. Write a python program using reduce function to compute the product of a list containing numbers from 1 to 25."
      ],
      "metadata": {
        "id": "LoCz5c4c_SAW"
      }
    },
    {
      "cell_type": "code",
      "source": [
        "# Creating a list of numbers ranging from 1 to 25.\n",
        "num_list = []\n",
        "for n in range(1,26):\n",
        "  num_list.append(n)\n",
        "\n",
        "print(num_list)\n",
        "\n",
        "# Computing the product of the listr using reduce function.\n",
        "import functools\n",
        "prod_ = functools.reduce(lambda x,y: x*y, num_list)\n",
        "print(f'Product of the elements of the list --------------> {prod_}')"
      ],
      "metadata": {
        "colab": {
          "base_uri": "https://localhost:8080/"
        },
        "id": "9LtX9jwj_UUf",
        "outputId": "b3326b3e-a218-4689-f838-f27d8d9f0103"
      },
      "execution_count": 49,
      "outputs": [
        {
          "output_type": "stream",
          "name": "stdout",
          "text": [
            "[1, 2, 3, 4, 5, 6, 7, 8, 9, 10, 11, 12, 13, 14, 15, 16, 17, 18, 19, 20, 21, 22, 23, 24, 25]\n",
            "Product of the elements of the list --------------> 15511210043330985984000000\n"
          ]
        }
      ]
    },
    {
      "cell_type": "markdown",
      "source": [
        "## Q5. Write a python program to filter the numbers in a given list that are divisible by 2 and 3 using the filter function."
      ],
      "metadata": {
        "id": "FnlrJ-NBBbs1"
      }
    },
    {
      "cell_type": "code",
      "source": [
        "# Using 'filter' function to extract the numbers that are divisible by 2 & 3.\n",
        "data_1 = [2, 3, 6, 9, 27, 60, 90, 120, 55, 46]\n",
        "\n",
        "\n",
        "def two_three_div(n):\n",
        "  if n % 2 == 0:\n",
        "    return n\n",
        "  elif n % 3 == 0:\n",
        "    return n\n",
        "  else:\n",
        "    pass\n",
        "\n",
        "fil_data = list(filter(two_three_div, data_1))\n",
        "print(f'These numbers are divisible by 2 & 3 {fil_data}')"
      ],
      "metadata": {
        "colab": {
          "base_uri": "https://localhost:8080/"
        },
        "id": "PCgC5WdeBdo-",
        "outputId": "170e8cc6-b0f8-46f2-af1e-23bf6585282b"
      },
      "execution_count": 61,
      "outputs": [
        {
          "output_type": "stream",
          "name": "stdout",
          "text": [
            "These numbers are divisible by 2 & 3 [2, 3, 6, 9, 27, 60, 90, 120, 46]\n"
          ]
        }
      ]
    },
    {
      "cell_type": "markdown",
      "source": [
        "## Q6. Write a python program to find palindromes in the given list of strings using lambda and filter function.\n",
        "\n",
        "## ['python', 'php', 'aba', 'radar', 'level']"
      ],
      "metadata": {
        "id": "LzVRJu7vD-4S"
      }
    },
    {
      "cell_type": "code",
      "source": [
        "# Finding palindromes in the given list of strings using lambda & filter.\n",
        "prog_list = ['python', 'php', 'aba', 'radar', 'level']\n",
        "\n",
        "rev_list = list(filter(lambda x: (x == \"\".join(reversed(x))), prog_list)) \n",
        "print(rev_list)"
      ],
      "metadata": {
        "colab": {
          "base_uri": "https://localhost:8080/"
        },
        "id": "O7b7HUmBEAqR",
        "outputId": "b68012f2-33c0-4dd9-eecc-aa881d65db33"
      },
      "execution_count": 75,
      "outputs": [
        {
          "output_type": "stream",
          "name": "stdout",
          "text": [
            "['php', 'aba', 'radar', 'level']\n"
          ]
        }
      ]
    }
  ]
}