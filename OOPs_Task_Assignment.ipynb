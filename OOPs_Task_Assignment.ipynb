{
  "nbformat": 4,
  "nbformat_minor": 0,
  "metadata": {
    "colab": {
      "provenance": [],
      "authorship_tag": "ABX9TyPATwvdOcVRdCSParr6xyzk",
      "include_colab_link": true
    },
    "kernelspec": {
      "name": "python3",
      "display_name": "Python 3"
    },
    "language_info": {
      "name": "python"
    }
  },
  "cells": [
    {
      "cell_type": "markdown",
      "metadata": {
        "id": "view-in-github",
        "colab_type": "text"
      },
      "source": [
        "<a href=\"https://colab.research.google.com/github/Arka1212/Data-Science-Assignments/blob/main/OOPs_Task_Assignment.ipynb\" target=\"_parent\"><img src=\"https://colab.research.google.com/assets/colab-badge.svg\" alt=\"Open In Colab\"/></a>"
      ]
    },
    {
      "cell_type": "markdown",
      "source": [
        "# Q1, Create a vehicle class with an init method having instance variables as name_of_vehicle, max_speed and average_of_vehicle."
      ],
      "metadata": {
        "id": "BGtpe8b8FDmJ"
      }
    },
    {
      "cell_type": "code",
      "source": [
        "# Creating class.\n",
        "class vehicle:\n",
        "  def __init__(self, name, speed, average):\n",
        "    self.name_of_vehicle = name\n",
        "    self.max_speed = speed\n",
        "    self.average_of_vehicle = average\n",
        "\n",
        "  def show_details(self):\n",
        "    print(f'{self.name_of_vehicle} has maximum speed of {self.max_speed} & gives an average of {self.average_of_vehicle} kmpl.')\n",
        "\n",
        "# Creating object.\n",
        "vehicle_1 = vehicle('Skoda Slavia', 200, 16.5)\n",
        "\n",
        "# Getting information about class.\n",
        "print(vehicle_1.name_of_vehicle)                   # Getting the name of the vehicle.\n",
        "print(vehicle_1.max_speed)                         # Getting maximum speed of the vehicle.\n",
        "print(vehicle_1.average_of_vehicle)                # Getting the mileage of the vehicle.\n",
        "vehicle_1.show_details()                           # Getting overall details about the vehicle."
      ],
      "metadata": {
        "colab": {
          "base_uri": "https://localhost:8080/"
        },
        "id": "e65vKK0FI36C",
        "outputId": "710784c0-4010-4584-c44f-1ee5151d3d0e"
      },
      "execution_count": 6,
      "outputs": [
        {
          "output_type": "stream",
          "name": "stdout",
          "text": [
            "Skoda Slavia\n",
            "200\n",
            "16.5\n",
            "Skoda Slavia has maximum speed of 200 & gives an average of 16.5 kmpl.\n"
          ]
        }
      ]
    },
    {
      "cell_type": "markdown",
      "source": [
        "# Q2. Create a child class car from the vehicle class created in Que 1, which will inherit the vehicle class. Create a method named seating_capacity which takes capacity as an argument and returns the name of the vehicle and its seating capacity."
      ],
      "metadata": {
        "id": "GJrIitliLY49"
      }
    },
    {
      "cell_type": "code",
      "source": [
        "# Creating child class.\n",
        "class car(vehicle):\n",
        "  def seating_capacity(self, capacity):\n",
        "    self.capacity = capacity\n",
        "    return f\"{self.name_of_vehicle} has a seating capacity of {self.capacity} people.\"\n",
        "\n",
        "# Creating an instance of the Car class.\n",
        "car_1 = car('Hyundai I20', 200, 17.6)\n",
        "\n",
        "# Calling the seating_capacity method.\n",
        "result = car_1.seating_capacity(4)\n",
        "print(result)"
      ],
      "metadata": {
        "colab": {
          "base_uri": "https://localhost:8080/"
        },
        "id": "qHpHuAv7Lc9q",
        "outputId": "6f93a921-5026-40e7-b78a-e136d6a68b97"
      },
      "execution_count": 15,
      "outputs": [
        {
          "output_type": "stream",
          "name": "stdout",
          "text": [
            "Hyundai I20 has a seating capacity of 4 people.\n"
          ]
        }
      ]
    }
  ]
}