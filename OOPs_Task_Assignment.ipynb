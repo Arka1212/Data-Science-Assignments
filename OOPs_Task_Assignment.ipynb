{
  "nbformat": 4,
  "nbformat_minor": 0,
  "metadata": {
    "colab": {
      "provenance": [],
      "authorship_tag": "ABX9TyMyKXlSX3w9Nt22yvGAN8xq",
      "include_colab_link": true
    },
    "kernelspec": {
      "name": "python3",
      "display_name": "Python 3"
    },
    "language_info": {
      "name": "python"
    }
  },
  "cells": [
    {
      "cell_type": "markdown",
      "metadata": {
        "id": "view-in-github",
        "colab_type": "text"
      },
      "source": [
        "<a href=\"https://colab.research.google.com/github/Arka1212/Data-Science-Assignments/blob/main/OOPs_Task_Assignment.ipynb\" target=\"_parent\"><img src=\"https://colab.research.google.com/assets/colab-badge.svg\" alt=\"Open In Colab\"/></a>"
      ]
    },
    {
      "cell_type": "markdown",
      "source": [
        "# Q1. Create a vehicle class with an init method having instance variables as name_of_vehicle, max_speed and average_of_vehicle."
      ],
      "metadata": {
        "id": "BGtpe8b8FDmJ"
      }
    },
    {
      "cell_type": "code",
      "source": [
        "# Creating class.\n",
        "class vehicle:\n",
        "  def __init__(self, name, speed, average):\n",
        "    self.name_of_vehicle = name\n",
        "    self.max_speed = speed\n",
        "    self.average_of_vehicle = average\n",
        "\n",
        "  def show_details(self):\n",
        "    print(f'{self.name_of_vehicle} has maximum speed of {self.max_speed} & gives an average of {self.average_of_vehicle} kmpl.')\n",
        "\n",
        "# Creating object.\n",
        "vehicle_1 = vehicle('Skoda Slavia', 200, 16.5)\n",
        "\n",
        "# Getting information about class.\n",
        "print(vehicle_1.name_of_vehicle)                   # Getting the name of the vehicle.\n",
        "print(vehicle_1.max_speed)                         # Getting maximum speed of the vehicle.\n",
        "print(vehicle_1.average_of_vehicle)                # Getting the mileage of the vehicle.\n",
        "vehicle_1.show_details()                           # Getting overall details about the vehicle."
      ],
      "metadata": {
        "colab": {
          "base_uri": "https://localhost:8080/"
        },
        "id": "e65vKK0FI36C",
        "outputId": "710784c0-4010-4584-c44f-1ee5151d3d0e"
      },
      "execution_count": 6,
      "outputs": [
        {
          "output_type": "stream",
          "name": "stdout",
          "text": [
            "Skoda Slavia\n",
            "200\n",
            "16.5\n",
            "Skoda Slavia has maximum speed of 200 & gives an average of 16.5 kmpl.\n"
          ]
        }
      ]
    },
    {
      "cell_type": "markdown",
      "source": [
        "# Q2. Create a child class car from the vehicle class created in Que 1, which will inherit the vehicle class. Create a method named seating_capacity which takes capacity as an argument and returns the name of the vehicle and its seating capacity."
      ],
      "metadata": {
        "id": "GJrIitliLY49"
      }
    },
    {
      "cell_type": "code",
      "source": [
        "# Creating child class.\n",
        "class car(vehicle):\n",
        "  def seating_capacity(self, capacity):\n",
        "    self.capacity = capacity\n",
        "    return f\"{self.name_of_vehicle} has a seating capacity of {self.capacity} people.\"\n",
        "\n",
        "# Creating an instance of the Car class.\n",
        "car_1 = car('Hyundai I20', 200, 17.6)\n",
        "\n",
        "# Calling the seating_capacity method.\n",
        "result = car_1.seating_capacity(4)\n",
        "print(result)"
      ],
      "metadata": {
        "colab": {
          "base_uri": "https://localhost:8080/"
        },
        "id": "qHpHuAv7Lc9q",
        "outputId": "6f93a921-5026-40e7-b78a-e136d6a68b97"
      },
      "execution_count": 15,
      "outputs": [
        {
          "output_type": "stream",
          "name": "stdout",
          "text": [
            "Hyundai I20 has a seating capacity of 4 people.\n"
          ]
        }
      ]
    },
    {
      "cell_type": "markdown",
      "source": [
        "# Q3. What is multiple inheritance? Write a python code to demonstrate multiple inheritance."
      ],
      "metadata": {
        "id": "tbH0vUTpN2uJ"
      }
    },
    {
      "cell_type": "code",
      "source": [
        "'''\n",
        "Multiple inheritance is a feature in object-oriented programming (OOP) where a class can inherit attributes and methods from more than\n",
        "one parent class.\n",
        "'''\n",
        "# Creating first parent class.\n",
        "class Song:\n",
        "    def __init__(self, name, year):\n",
        "        self.song_name = name\n",
        "        self.release_year = year\n",
        "\n",
        "    def details(self):\n",
        "        print(f'{self.song_name} released on {self.release_year}')\n",
        "\n",
        "# Creating second parent class.\n",
        "class Movie:\n",
        "    def movie_details(self, movie):\n",
        "        self.movie_name = movie\n",
        "\n",
        "# Creating child class (Inhibits features from both the parent classes created above).\n",
        "class SongMovieName(Song, Movie):\n",
        "    def song_details(self):\n",
        "        print(f'{self.song_name} is from {self.movie_name} which was released on {self.release_year}')\n",
        "\n",
        "\n",
        "# Creating an object\n",
        "detail_1 = SongMovieName('Aashayein', 2010)\n",
        "detail_1.movie_details('Iqbal')\n",
        "detail_1.song_details()"
      ],
      "metadata": {
        "colab": {
          "base_uri": "https://localhost:8080/"
        },
        "id": "rSoveznsN5_K",
        "outputId": "c880bf17-c6cf-4e33-aca6-1bd7ea530d37"
      },
      "execution_count": 26,
      "outputs": [
        {
          "output_type": "stream",
          "name": "stdout",
          "text": [
            "Aashayein is from Iqbal which was released on 2010\n"
          ]
        }
      ]
    },
    {
      "cell_type": "markdown",
      "source": [
        "# Q4. What are getter and setter in python? Create a class and create a getter and a setter method in this class."
      ],
      "metadata": {
        "id": "96krTWTmS_OR"
      }
    },
    {
      "cell_type": "code",
      "source": [
        "'''\n",
        "'Getters' in Python are methods that are used to access the values of an object's properties. They are used to return the value of a\n",
        "specific property, and are typically defined using the @property decorator.\n",
        "'''\n",
        "class Person:\n",
        "    def __init__(self, name, age):\n",
        "        self._name = name\n",
        "        self._age = age\n",
        "\n",
        "    @property\n",
        "    def name(self):\n",
        "        return self._name\n",
        "\n",
        "    @property\n",
        "    def age(self):\n",
        "        return self._age\n",
        "\n",
        "\n",
        "# Creating an instance of the Person class\n",
        "person = Person(\"Vikram Sarabhai\", 55)\n",
        "\n",
        "# Accessing the attributes using getters\n",
        "print(person.name)\n",
        "print(person.age)"
      ],
      "metadata": {
        "colab": {
          "base_uri": "https://localhost:8080/"
        },
        "id": "ZD8Z4380TDoA",
        "outputId": "72ea991d-78a8-48e3-f680-b9aa79952570"
      },
      "execution_count": 27,
      "outputs": [
        {
          "output_type": "stream",
          "name": "stdout",
          "text": [
            "Vikram Sarabhai\n",
            "55\n"
          ]
        }
      ]
    },
    {
      "cell_type": "code",
      "source": [
        "'''\n",
        "It is important to note that the getters do not take any parameters and we cannot set the value through getter method.For that we need\n",
        "setter method which can be added by decorating method with @property_name.setter\n",
        "'''\n",
        "\n",
        "class Person:\n",
        "    def __init__(self, name, age):\n",
        "        self._name = name\n",
        "        self._age = age\n",
        "\n",
        "    @property\n",
        "    def name(self):\n",
        "        return self._name\n",
        "\n",
        "    @name.setter\n",
        "    def name(self, new_name):\n",
        "        self._name = new_name\n",
        "\n",
        "    @property\n",
        "    def age(self):\n",
        "        return self._age\n",
        "\n",
        "    @age.setter\n",
        "    def age(self, new_age):\n",
        "        if new_age >= 0:\n",
        "            self._age = new_age\n",
        "        else:\n",
        "            pass\n",
        "\n",
        "\n",
        "# Creating an instance of the Person class\n",
        "person = Person(\"Akash Verma\", 33)\n",
        "\n",
        "# Accessing the attributes using getters\n",
        "print(person.name)\n",
        "print(person.age)\n",
        "\n",
        "# Modifying the attributes using setters\n",
        "person.name = \"Sayan Chatterjee\"\n",
        "person.age = 30\n",
        "\n",
        "# Accessing the modified attributes\n",
        "print(person.name)\n",
        "print(person.age)\n",
        "\n",
        "# Trying to set an invalid age\n",
        "person.age = -5  # Raises ValueError: Age cannot be negative\n"
      ],
      "metadata": {
        "colab": {
          "base_uri": "https://localhost:8080/"
        },
        "id": "1E0XcHF1UQD1",
        "outputId": "3d4b01c3-443b-45b3-8c93-927706d515fe"
      },
      "execution_count": 29,
      "outputs": [
        {
          "output_type": "stream",
          "name": "stdout",
          "text": [
            "Akash Verma\n",
            "33\n",
            "Sayan Chatterjee\n",
            "30\n"
          ]
        }
      ]
    }
  ]
}